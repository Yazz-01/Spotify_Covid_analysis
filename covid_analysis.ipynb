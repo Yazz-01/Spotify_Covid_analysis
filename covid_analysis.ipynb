{
 "metadata": {
  "language_info": {
   "codemirror_mode": {
    "name": "ipython",
    "version": 3
   },
   "file_extension": ".py",
   "mimetype": "text/x-python",
   "name": "python",
   "nbconvert_exporter": "python",
   "pygments_lexer": "ipython3",
   "version": "3.8.5"
  },
  "orig_nbformat": 2,
  "kernelspec": {
   "name": "python3",
   "display_name": "Python 3",
   "language": "python"
  }
 },
 "nbformat": 4,
 "nbformat_minor": 2,
 "cells": [
  {
   "cell_type": "code",
   "execution_count": 10,
   "metadata": {},
   "outputs": [],
   "source": [
    "# Dependencies\n",
    "import matplotlib.pyplot as plt\n",
    "import pandas as pd\n",
    "import numpy as np\n",
    "import requests\n",
    "import json\n",
    "import re, glob\n",
    "import os, sys\n",
    "from scipy import stats\n",
    "import csv\n"
   ]
  },
  {
   "cell_type": "code",
   "execution_count": 40,
   "metadata": {},
   "outputs": [
    {
     "output_type": "execute_result",
     "data": {
      "text/plain": [
       "   iso_code continent     location        date  total_cases  new_cases  \\\n",
       "0       AFG      Asia  Afghanistan  2020-02-24          1.0        1.0   \n",
       "1       AFG      Asia  Afghanistan  2020-02-25          1.0        0.0   \n",
       "2       AFG      Asia  Afghanistan  2020-02-26          1.0        0.0   \n",
       "3       AFG      Asia  Afghanistan  2020-02-27          1.0        0.0   \n",
       "4       AFG      Asia  Afghanistan  2020-02-28          1.0        0.0   \n",
       "5       AFG      Asia  Afghanistan  2020-02-29          1.0        0.0   \n",
       "6       AFG      Asia  Afghanistan  2020-03-01          1.0        0.0   \n",
       "7       AFG      Asia  Afghanistan  2020-03-02          1.0        0.0   \n",
       "8       AFG      Asia  Afghanistan  2020-03-03          2.0        1.0   \n",
       "9       AFG      Asia  Afghanistan  2020-03-04          4.0        2.0   \n",
       "10      AFG      Asia  Afghanistan  2020-03-05          4.0        0.0   \n",
       "11      AFG      Asia  Afghanistan  2020-03-06          4.0        0.0   \n",
       "12      AFG      Asia  Afghanistan  2020-03-07          4.0        0.0   \n",
       "13      AFG      Asia  Afghanistan  2020-03-08          5.0        1.0   \n",
       "14      AFG      Asia  Afghanistan  2020-03-09          7.0        2.0   \n",
       "15      AFG      Asia  Afghanistan  2020-03-10          8.0        1.0   \n",
       "16      AFG      Asia  Afghanistan  2020-03-11         11.0        3.0   \n",
       "17      AFG      Asia  Afghanistan  2020-03-12         12.0        1.0   \n",
       "18      AFG      Asia  Afghanistan  2020-03-13         13.0        1.0   \n",
       "19      AFG      Asia  Afghanistan  2020-03-14         15.0        2.0   \n",
       "\n",
       "    new_cases_smoothed  total_deaths  new_deaths  new_deaths_smoothed  ...  \\\n",
       "0                  NaN           NaN         NaN                  NaN  ...   \n",
       "1                  NaN           NaN         NaN                  NaN  ...   \n",
       "2                  NaN           NaN         NaN                  NaN  ...   \n",
       "3                  NaN           NaN         NaN                  NaN  ...   \n",
       "4                  NaN           NaN         NaN                  NaN  ...   \n",
       "5                0.143           NaN         NaN                  0.0  ...   \n",
       "6                0.143           NaN         NaN                  0.0  ...   \n",
       "7                0.000           NaN         NaN                  0.0  ...   \n",
       "8                0.143           NaN         NaN                  0.0  ...   \n",
       "9                0.429           NaN         NaN                  0.0  ...   \n",
       "10               0.429           NaN         NaN                  0.0  ...   \n",
       "11               0.429           NaN         NaN                  0.0  ...   \n",
       "12               0.429           NaN         NaN                  0.0  ...   \n",
       "13               0.571           NaN         NaN                  0.0  ...   \n",
       "14               0.857           NaN         NaN                  0.0  ...   \n",
       "15               0.857           NaN         NaN                  0.0  ...   \n",
       "16               1.000           NaN         NaN                  0.0  ...   \n",
       "17               1.143           NaN         NaN                  0.0  ...   \n",
       "18               1.286           NaN         NaN                  0.0  ...   \n",
       "19               1.571           NaN         NaN                  0.0  ...   \n",
       "\n",
       "    gdp_per_capita  extreme_poverty  cardiovasc_death_rate  \\\n",
       "0         1803.987              NaN                597.029   \n",
       "1         1803.987              NaN                597.029   \n",
       "2         1803.987              NaN                597.029   \n",
       "3         1803.987              NaN                597.029   \n",
       "4         1803.987              NaN                597.029   \n",
       "5         1803.987              NaN                597.029   \n",
       "6         1803.987              NaN                597.029   \n",
       "7         1803.987              NaN                597.029   \n",
       "8         1803.987              NaN                597.029   \n",
       "9         1803.987              NaN                597.029   \n",
       "10        1803.987              NaN                597.029   \n",
       "11        1803.987              NaN                597.029   \n",
       "12        1803.987              NaN                597.029   \n",
       "13        1803.987              NaN                597.029   \n",
       "14        1803.987              NaN                597.029   \n",
       "15        1803.987              NaN                597.029   \n",
       "16        1803.987              NaN                597.029   \n",
       "17        1803.987              NaN                597.029   \n",
       "18        1803.987              NaN                597.029   \n",
       "19        1803.987              NaN                597.029   \n",
       "\n",
       "    diabetes_prevalence  female_smokers  male_smokers  handwashing_facilities  \\\n",
       "0                  9.59             NaN           NaN                  37.746   \n",
       "1                  9.59             NaN           NaN                  37.746   \n",
       "2                  9.59             NaN           NaN                  37.746   \n",
       "3                  9.59             NaN           NaN                  37.746   \n",
       "4                  9.59             NaN           NaN                  37.746   \n",
       "5                  9.59             NaN           NaN                  37.746   \n",
       "6                  9.59             NaN           NaN                  37.746   \n",
       "7                  9.59             NaN           NaN                  37.746   \n",
       "8                  9.59             NaN           NaN                  37.746   \n",
       "9                  9.59             NaN           NaN                  37.746   \n",
       "10                 9.59             NaN           NaN                  37.746   \n",
       "11                 9.59             NaN           NaN                  37.746   \n",
       "12                 9.59             NaN           NaN                  37.746   \n",
       "13                 9.59             NaN           NaN                  37.746   \n",
       "14                 9.59             NaN           NaN                  37.746   \n",
       "15                 9.59             NaN           NaN                  37.746   \n",
       "16                 9.59             NaN           NaN                  37.746   \n",
       "17                 9.59             NaN           NaN                  37.746   \n",
       "18                 9.59             NaN           NaN                  37.746   \n",
       "19                 9.59             NaN           NaN                  37.746   \n",
       "\n",
       "    hospital_beds_per_thousand  life_expectancy  human_development_index  \n",
       "0                          0.5            64.83                    0.511  \n",
       "1                          0.5            64.83                    0.511  \n",
       "2                          0.5            64.83                    0.511  \n",
       "3                          0.5            64.83                    0.511  \n",
       "4                          0.5            64.83                    0.511  \n",
       "5                          0.5            64.83                    0.511  \n",
       "6                          0.5            64.83                    0.511  \n",
       "7                          0.5            64.83                    0.511  \n",
       "8                          0.5            64.83                    0.511  \n",
       "9                          0.5            64.83                    0.511  \n",
       "10                         0.5            64.83                    0.511  \n",
       "11                         0.5            64.83                    0.511  \n",
       "12                         0.5            64.83                    0.511  \n",
       "13                         0.5            64.83                    0.511  \n",
       "14                         0.5            64.83                    0.511  \n",
       "15                         0.5            64.83                    0.511  \n",
       "16                         0.5            64.83                    0.511  \n",
       "17                         0.5            64.83                    0.511  \n",
       "18                         0.5            64.83                    0.511  \n",
       "19                         0.5            64.83                    0.511  \n",
       "\n",
       "[20 rows x 59 columns]"
      ],
      "text/html": "<div>\n<style scoped>\n    .dataframe tbody tr th:only-of-type {\n        vertical-align: middle;\n    }\n\n    .dataframe tbody tr th {\n        vertical-align: top;\n    }\n\n    .dataframe thead th {\n        text-align: right;\n    }\n</style>\n<table border=\"1\" class=\"dataframe\">\n  <thead>\n    <tr style=\"text-align: right;\">\n      <th></th>\n      <th>iso_code</th>\n      <th>continent</th>\n      <th>location</th>\n      <th>date</th>\n      <th>total_cases</th>\n      <th>new_cases</th>\n      <th>new_cases_smoothed</th>\n      <th>total_deaths</th>\n      <th>new_deaths</th>\n      <th>new_deaths_smoothed</th>\n      <th>...</th>\n      <th>gdp_per_capita</th>\n      <th>extreme_poverty</th>\n      <th>cardiovasc_death_rate</th>\n      <th>diabetes_prevalence</th>\n      <th>female_smokers</th>\n      <th>male_smokers</th>\n      <th>handwashing_facilities</th>\n      <th>hospital_beds_per_thousand</th>\n      <th>life_expectancy</th>\n      <th>human_development_index</th>\n    </tr>\n  </thead>\n  <tbody>\n    <tr>\n      <th>0</th>\n      <td>AFG</td>\n      <td>Asia</td>\n      <td>Afghanistan</td>\n      <td>2020-02-24</td>\n      <td>1.0</td>\n      <td>1.0</td>\n      <td>NaN</td>\n      <td>NaN</td>\n      <td>NaN</td>\n      <td>NaN</td>\n      <td>...</td>\n      <td>1803.987</td>\n      <td>NaN</td>\n      <td>597.029</td>\n      <td>9.59</td>\n      <td>NaN</td>\n      <td>NaN</td>\n      <td>37.746</td>\n      <td>0.5</td>\n      <td>64.83</td>\n      <td>0.511</td>\n    </tr>\n    <tr>\n      <th>1</th>\n      <td>AFG</td>\n      <td>Asia</td>\n      <td>Afghanistan</td>\n      <td>2020-02-25</td>\n      <td>1.0</td>\n      <td>0.0</td>\n      <td>NaN</td>\n      <td>NaN</td>\n      <td>NaN</td>\n      <td>NaN</td>\n      <td>...</td>\n      <td>1803.987</td>\n      <td>NaN</td>\n      <td>597.029</td>\n      <td>9.59</td>\n      <td>NaN</td>\n      <td>NaN</td>\n      <td>37.746</td>\n      <td>0.5</td>\n      <td>64.83</td>\n      <td>0.511</td>\n    </tr>\n    <tr>\n      <th>2</th>\n      <td>AFG</td>\n      <td>Asia</td>\n      <td>Afghanistan</td>\n      <td>2020-02-26</td>\n      <td>1.0</td>\n      <td>0.0</td>\n      <td>NaN</td>\n      <td>NaN</td>\n      <td>NaN</td>\n      <td>NaN</td>\n      <td>...</td>\n      <td>1803.987</td>\n      <td>NaN</td>\n      <td>597.029</td>\n      <td>9.59</td>\n      <td>NaN</td>\n      <td>NaN</td>\n      <td>37.746</td>\n      <td>0.5</td>\n      <td>64.83</td>\n      <td>0.511</td>\n    </tr>\n    <tr>\n      <th>3</th>\n      <td>AFG</td>\n      <td>Asia</td>\n      <td>Afghanistan</td>\n      <td>2020-02-27</td>\n      <td>1.0</td>\n      <td>0.0</td>\n      <td>NaN</td>\n      <td>NaN</td>\n      <td>NaN</td>\n      <td>NaN</td>\n      <td>...</td>\n      <td>1803.987</td>\n      <td>NaN</td>\n      <td>597.029</td>\n      <td>9.59</td>\n      <td>NaN</td>\n      <td>NaN</td>\n      <td>37.746</td>\n      <td>0.5</td>\n      <td>64.83</td>\n      <td>0.511</td>\n    </tr>\n    <tr>\n      <th>4</th>\n      <td>AFG</td>\n      <td>Asia</td>\n      <td>Afghanistan</td>\n      <td>2020-02-28</td>\n      <td>1.0</td>\n      <td>0.0</td>\n      <td>NaN</td>\n      <td>NaN</td>\n      <td>NaN</td>\n      <td>NaN</td>\n      <td>...</td>\n      <td>1803.987</td>\n      <td>NaN</td>\n      <td>597.029</td>\n      <td>9.59</td>\n      <td>NaN</td>\n      <td>NaN</td>\n      <td>37.746</td>\n      <td>0.5</td>\n      <td>64.83</td>\n      <td>0.511</td>\n    </tr>\n    <tr>\n      <th>5</th>\n      <td>AFG</td>\n      <td>Asia</td>\n      <td>Afghanistan</td>\n      <td>2020-02-29</td>\n      <td>1.0</td>\n      <td>0.0</td>\n      <td>0.143</td>\n      <td>NaN</td>\n      <td>NaN</td>\n      <td>0.0</td>\n      <td>...</td>\n      <td>1803.987</td>\n      <td>NaN</td>\n      <td>597.029</td>\n      <td>9.59</td>\n      <td>NaN</td>\n      <td>NaN</td>\n      <td>37.746</td>\n      <td>0.5</td>\n      <td>64.83</td>\n      <td>0.511</td>\n    </tr>\n    <tr>\n      <th>6</th>\n      <td>AFG</td>\n      <td>Asia</td>\n      <td>Afghanistan</td>\n      <td>2020-03-01</td>\n      <td>1.0</td>\n      <td>0.0</td>\n      <td>0.143</td>\n      <td>NaN</td>\n      <td>NaN</td>\n      <td>0.0</td>\n      <td>...</td>\n      <td>1803.987</td>\n      <td>NaN</td>\n      <td>597.029</td>\n      <td>9.59</td>\n      <td>NaN</td>\n      <td>NaN</td>\n      <td>37.746</td>\n      <td>0.5</td>\n      <td>64.83</td>\n      <td>0.511</td>\n    </tr>\n    <tr>\n      <th>7</th>\n      <td>AFG</td>\n      <td>Asia</td>\n      <td>Afghanistan</td>\n      <td>2020-03-02</td>\n      <td>1.0</td>\n      <td>0.0</td>\n      <td>0.000</td>\n      <td>NaN</td>\n      <td>NaN</td>\n      <td>0.0</td>\n      <td>...</td>\n      <td>1803.987</td>\n      <td>NaN</td>\n      <td>597.029</td>\n      <td>9.59</td>\n      <td>NaN</td>\n      <td>NaN</td>\n      <td>37.746</td>\n      <td>0.5</td>\n      <td>64.83</td>\n      <td>0.511</td>\n    </tr>\n    <tr>\n      <th>8</th>\n      <td>AFG</td>\n      <td>Asia</td>\n      <td>Afghanistan</td>\n      <td>2020-03-03</td>\n      <td>2.0</td>\n      <td>1.0</td>\n      <td>0.143</td>\n      <td>NaN</td>\n      <td>NaN</td>\n      <td>0.0</td>\n      <td>...</td>\n      <td>1803.987</td>\n      <td>NaN</td>\n      <td>597.029</td>\n      <td>9.59</td>\n      <td>NaN</td>\n      <td>NaN</td>\n      <td>37.746</td>\n      <td>0.5</td>\n      <td>64.83</td>\n      <td>0.511</td>\n    </tr>\n    <tr>\n      <th>9</th>\n      <td>AFG</td>\n      <td>Asia</td>\n      <td>Afghanistan</td>\n      <td>2020-03-04</td>\n      <td>4.0</td>\n      <td>2.0</td>\n      <td>0.429</td>\n      <td>NaN</td>\n      <td>NaN</td>\n      <td>0.0</td>\n      <td>...</td>\n      <td>1803.987</td>\n      <td>NaN</td>\n      <td>597.029</td>\n      <td>9.59</td>\n      <td>NaN</td>\n      <td>NaN</td>\n      <td>37.746</td>\n      <td>0.5</td>\n      <td>64.83</td>\n      <td>0.511</td>\n    </tr>\n    <tr>\n      <th>10</th>\n      <td>AFG</td>\n      <td>Asia</td>\n      <td>Afghanistan</td>\n      <td>2020-03-05</td>\n      <td>4.0</td>\n      <td>0.0</td>\n      <td>0.429</td>\n      <td>NaN</td>\n      <td>NaN</td>\n      <td>0.0</td>\n      <td>...</td>\n      <td>1803.987</td>\n      <td>NaN</td>\n      <td>597.029</td>\n      <td>9.59</td>\n      <td>NaN</td>\n      <td>NaN</td>\n      <td>37.746</td>\n      <td>0.5</td>\n      <td>64.83</td>\n      <td>0.511</td>\n    </tr>\n    <tr>\n      <th>11</th>\n      <td>AFG</td>\n      <td>Asia</td>\n      <td>Afghanistan</td>\n      <td>2020-03-06</td>\n      <td>4.0</td>\n      <td>0.0</td>\n      <td>0.429</td>\n      <td>NaN</td>\n      <td>NaN</td>\n      <td>0.0</td>\n      <td>...</td>\n      <td>1803.987</td>\n      <td>NaN</td>\n      <td>597.029</td>\n      <td>9.59</td>\n      <td>NaN</td>\n      <td>NaN</td>\n      <td>37.746</td>\n      <td>0.5</td>\n      <td>64.83</td>\n      <td>0.511</td>\n    </tr>\n    <tr>\n      <th>12</th>\n      <td>AFG</td>\n      <td>Asia</td>\n      <td>Afghanistan</td>\n      <td>2020-03-07</td>\n      <td>4.0</td>\n      <td>0.0</td>\n      <td>0.429</td>\n      <td>NaN</td>\n      <td>NaN</td>\n      <td>0.0</td>\n      <td>...</td>\n      <td>1803.987</td>\n      <td>NaN</td>\n      <td>597.029</td>\n      <td>9.59</td>\n      <td>NaN</td>\n      <td>NaN</td>\n      <td>37.746</td>\n      <td>0.5</td>\n      <td>64.83</td>\n      <td>0.511</td>\n    </tr>\n    <tr>\n      <th>13</th>\n      <td>AFG</td>\n      <td>Asia</td>\n      <td>Afghanistan</td>\n      <td>2020-03-08</td>\n      <td>5.0</td>\n      <td>1.0</td>\n      <td>0.571</td>\n      <td>NaN</td>\n      <td>NaN</td>\n      <td>0.0</td>\n      <td>...</td>\n      <td>1803.987</td>\n      <td>NaN</td>\n      <td>597.029</td>\n      <td>9.59</td>\n      <td>NaN</td>\n      <td>NaN</td>\n      <td>37.746</td>\n      <td>0.5</td>\n      <td>64.83</td>\n      <td>0.511</td>\n    </tr>\n    <tr>\n      <th>14</th>\n      <td>AFG</td>\n      <td>Asia</td>\n      <td>Afghanistan</td>\n      <td>2020-03-09</td>\n      <td>7.0</td>\n      <td>2.0</td>\n      <td>0.857</td>\n      <td>NaN</td>\n      <td>NaN</td>\n      <td>0.0</td>\n      <td>...</td>\n      <td>1803.987</td>\n      <td>NaN</td>\n      <td>597.029</td>\n      <td>9.59</td>\n      <td>NaN</td>\n      <td>NaN</td>\n      <td>37.746</td>\n      <td>0.5</td>\n      <td>64.83</td>\n      <td>0.511</td>\n    </tr>\n    <tr>\n      <th>15</th>\n      <td>AFG</td>\n      <td>Asia</td>\n      <td>Afghanistan</td>\n      <td>2020-03-10</td>\n      <td>8.0</td>\n      <td>1.0</td>\n      <td>0.857</td>\n      <td>NaN</td>\n      <td>NaN</td>\n      <td>0.0</td>\n      <td>...</td>\n      <td>1803.987</td>\n      <td>NaN</td>\n      <td>597.029</td>\n      <td>9.59</td>\n      <td>NaN</td>\n      <td>NaN</td>\n      <td>37.746</td>\n      <td>0.5</td>\n      <td>64.83</td>\n      <td>0.511</td>\n    </tr>\n    <tr>\n      <th>16</th>\n      <td>AFG</td>\n      <td>Asia</td>\n      <td>Afghanistan</td>\n      <td>2020-03-11</td>\n      <td>11.0</td>\n      <td>3.0</td>\n      <td>1.000</td>\n      <td>NaN</td>\n      <td>NaN</td>\n      <td>0.0</td>\n      <td>...</td>\n      <td>1803.987</td>\n      <td>NaN</td>\n      <td>597.029</td>\n      <td>9.59</td>\n      <td>NaN</td>\n      <td>NaN</td>\n      <td>37.746</td>\n      <td>0.5</td>\n      <td>64.83</td>\n      <td>0.511</td>\n    </tr>\n    <tr>\n      <th>17</th>\n      <td>AFG</td>\n      <td>Asia</td>\n      <td>Afghanistan</td>\n      <td>2020-03-12</td>\n      <td>12.0</td>\n      <td>1.0</td>\n      <td>1.143</td>\n      <td>NaN</td>\n      <td>NaN</td>\n      <td>0.0</td>\n      <td>...</td>\n      <td>1803.987</td>\n      <td>NaN</td>\n      <td>597.029</td>\n      <td>9.59</td>\n      <td>NaN</td>\n      <td>NaN</td>\n      <td>37.746</td>\n      <td>0.5</td>\n      <td>64.83</td>\n      <td>0.511</td>\n    </tr>\n    <tr>\n      <th>18</th>\n      <td>AFG</td>\n      <td>Asia</td>\n      <td>Afghanistan</td>\n      <td>2020-03-13</td>\n      <td>13.0</td>\n      <td>1.0</td>\n      <td>1.286</td>\n      <td>NaN</td>\n      <td>NaN</td>\n      <td>0.0</td>\n      <td>...</td>\n      <td>1803.987</td>\n      <td>NaN</td>\n      <td>597.029</td>\n      <td>9.59</td>\n      <td>NaN</td>\n      <td>NaN</td>\n      <td>37.746</td>\n      <td>0.5</td>\n      <td>64.83</td>\n      <td>0.511</td>\n    </tr>\n    <tr>\n      <th>19</th>\n      <td>AFG</td>\n      <td>Asia</td>\n      <td>Afghanistan</td>\n      <td>2020-03-14</td>\n      <td>15.0</td>\n      <td>2.0</td>\n      <td>1.571</td>\n      <td>NaN</td>\n      <td>NaN</td>\n      <td>0.0</td>\n      <td>...</td>\n      <td>1803.987</td>\n      <td>NaN</td>\n      <td>597.029</td>\n      <td>9.59</td>\n      <td>NaN</td>\n      <td>NaN</td>\n      <td>37.746</td>\n      <td>0.5</td>\n      <td>64.83</td>\n      <td>0.511</td>\n    </tr>\n  </tbody>\n</table>\n<p>20 rows × 59 columns</p>\n</div>"
     },
     "metadata": {},
     "execution_count": 40
    }
   ],
   "source": [
    "# read the covid data file\n",
    "covid_df = pd.read_csv(\"Resources/owid_covid_data.csv\")                \n",
    " # Filter for country of your choice\n",
    "\n",
    "covid_df.head(20)"
   ]
  },
  {
   "cell_type": "code",
   "execution_count": 41,
   "metadata": {},
   "outputs": [],
   "source": [
    "new_df = covid_df.loc[:,[\"location\",\"date\",\"stringency_index\",\"life_expectancy\",\"human_development_index\"]]\n"
   ]
  },
  {
   "cell_type": "code",
   "execution_count": 42,
   "metadata": {},
   "outputs": [
    {
     "output_type": "execute_result",
     "data": {
      "text/plain": [
       "      location        date  stringency_index  life_expectancy  \\\n",
       "0  Afghanistan  2020-02-24              8.33            64.83   \n",
       "1  Afghanistan  2020-02-25              8.33            64.83   \n",
       "2  Afghanistan  2020-02-26              8.33            64.83   \n",
       "3  Afghanistan  2020-02-27              8.33            64.83   \n",
       "4  Afghanistan  2020-02-28              8.33            64.83   \n",
       "\n",
       "   human_development_index  \n",
       "0                    0.511  \n",
       "1                    0.511  \n",
       "2                    0.511  \n",
       "3                    0.511  \n",
       "4                    0.511  "
      ],
      "text/html": "<div>\n<style scoped>\n    .dataframe tbody tr th:only-of-type {\n        vertical-align: middle;\n    }\n\n    .dataframe tbody tr th {\n        vertical-align: top;\n    }\n\n    .dataframe thead th {\n        text-align: right;\n    }\n</style>\n<table border=\"1\" class=\"dataframe\">\n  <thead>\n    <tr style=\"text-align: right;\">\n      <th></th>\n      <th>location</th>\n      <th>date</th>\n      <th>stringency_index</th>\n      <th>life_expectancy</th>\n      <th>human_development_index</th>\n    </tr>\n  </thead>\n  <tbody>\n    <tr>\n      <th>0</th>\n      <td>Afghanistan</td>\n      <td>2020-02-24</td>\n      <td>8.33</td>\n      <td>64.83</td>\n      <td>0.511</td>\n    </tr>\n    <tr>\n      <th>1</th>\n      <td>Afghanistan</td>\n      <td>2020-02-25</td>\n      <td>8.33</td>\n      <td>64.83</td>\n      <td>0.511</td>\n    </tr>\n    <tr>\n      <th>2</th>\n      <td>Afghanistan</td>\n      <td>2020-02-26</td>\n      <td>8.33</td>\n      <td>64.83</td>\n      <td>0.511</td>\n    </tr>\n    <tr>\n      <th>3</th>\n      <td>Afghanistan</td>\n      <td>2020-02-27</td>\n      <td>8.33</td>\n      <td>64.83</td>\n      <td>0.511</td>\n    </tr>\n    <tr>\n      <th>4</th>\n      <td>Afghanistan</td>\n      <td>2020-02-28</td>\n      <td>8.33</td>\n      <td>64.83</td>\n      <td>0.511</td>\n    </tr>\n  </tbody>\n</table>\n</div>"
     },
     "metadata": {},
     "execution_count": 42
    }
   ],
   "source": [
    "new_df = new_df.dropna()\n",
    "new_df.head()"
   ]
  },
  {
   "cell_type": "code",
   "execution_count": 53,
   "metadata": {},
   "outputs": [],
   "source": [
    "grouped_df= new_df.groupby(\"stringency_index\").agg('max')"
   ]
  },
  {
   "cell_type": "code",
   "execution_count": 63,
   "metadata": {},
   "outputs": [
    {
     "output_type": "execute_result",
     "data": {
      "text/plain": [
       "                      location        date  life_expectancy  \\\n",
       "stringency_index                                              \n",
       "100.00                Suriname  2020-09-14            78.80   \n",
       "98.15                Argentina  2020-04-26            76.67   \n",
       "97.22                Sri Lanka  2021-03-29            76.98   \n",
       "96.30                  Vietnam  2021-04-26            82.29   \n",
       "95.37               Madagascar  2020-04-19            67.04   \n",
       "94.44             Saudi Arabia  2020-08-07            82.97   \n",
       "93.52                   Uganda  2021-03-22            83.51   \n",
       "92.59                     Peru  2021-03-22            80.98   \n",
       "92.13               Kyrgyzstan  2020-09-03            76.88   \n",
       "91.67                    Sudan  2020-06-11            83.51   \n",
       "\n",
       "                  human_development_index  \n",
       "stringency_index                           \n",
       "100.00                              0.845  \n",
       "98.15                               0.845  \n",
       "97.22                               0.804  \n",
       "96.30                               0.931  \n",
       "95.37                               0.528  \n",
       "94.44                               0.919  \n",
       "93.52                               0.892  \n",
       "92.59                               0.887  \n",
       "92.13                               0.825  \n",
       "91.67                               0.919  "
      ],
      "text/html": "<div>\n<style scoped>\n    .dataframe tbody tr th:only-of-type {\n        vertical-align: middle;\n    }\n\n    .dataframe tbody tr th {\n        vertical-align: top;\n    }\n\n    .dataframe thead th {\n        text-align: right;\n    }\n</style>\n<table border=\"1\" class=\"dataframe\">\n  <thead>\n    <tr style=\"text-align: right;\">\n      <th></th>\n      <th>location</th>\n      <th>date</th>\n      <th>life_expectancy</th>\n      <th>human_development_index</th>\n    </tr>\n    <tr>\n      <th>stringency_index</th>\n      <th></th>\n      <th></th>\n      <th></th>\n      <th></th>\n    </tr>\n  </thead>\n  <tbody>\n    <tr>\n      <th>100.00</th>\n      <td>Suriname</td>\n      <td>2020-09-14</td>\n      <td>78.80</td>\n      <td>0.845</td>\n    </tr>\n    <tr>\n      <th>98.15</th>\n      <td>Argentina</td>\n      <td>2020-04-26</td>\n      <td>76.67</td>\n      <td>0.845</td>\n    </tr>\n    <tr>\n      <th>97.22</th>\n      <td>Sri Lanka</td>\n      <td>2021-03-29</td>\n      <td>76.98</td>\n      <td>0.804</td>\n    </tr>\n    <tr>\n      <th>96.30</th>\n      <td>Vietnam</td>\n      <td>2021-04-26</td>\n      <td>82.29</td>\n      <td>0.931</td>\n    </tr>\n    <tr>\n      <th>95.37</th>\n      <td>Madagascar</td>\n      <td>2020-04-19</td>\n      <td>67.04</td>\n      <td>0.528</td>\n    </tr>\n    <tr>\n      <th>94.44</th>\n      <td>Saudi Arabia</td>\n      <td>2020-08-07</td>\n      <td>82.97</td>\n      <td>0.919</td>\n    </tr>\n    <tr>\n      <th>93.52</th>\n      <td>Uganda</td>\n      <td>2021-03-22</td>\n      <td>83.51</td>\n      <td>0.892</td>\n    </tr>\n    <tr>\n      <th>92.59</th>\n      <td>Peru</td>\n      <td>2021-03-22</td>\n      <td>80.98</td>\n      <td>0.887</td>\n    </tr>\n    <tr>\n      <th>92.13</th>\n      <td>Kyrgyzstan</td>\n      <td>2020-09-03</td>\n      <td>76.88</td>\n      <td>0.825</td>\n    </tr>\n    <tr>\n      <th>91.67</th>\n      <td>Sudan</td>\n      <td>2020-06-11</td>\n      <td>83.51</td>\n      <td>0.919</td>\n    </tr>\n  </tbody>\n</table>\n</div>"
     },
     "metadata": {},
     "execution_count": 63
    }
   ],
   "source": [
    "top_higher_stringency = grouped_df.sort_values(by=['stringency_index'], ascending=False)\n",
    "top_higher_stringency.head(10)"
   ]
  },
  {
   "cell_type": "code",
   "execution_count": 65,
   "metadata": {},
   "outputs": [
    {
     "output_type": "execute_result",
     "data": {
      "text/plain": [
       "                        location        date  life_expectancy  \\\n",
       "stringency_index                                                \n",
       "12.96             United Kingdom  2021-04-19            81.32   \n",
       "12.04                   Tanzania  2021-03-23            77.29   \n",
       "11.11                    Vietnam  2021-04-26            83.56   \n",
       "10.19                      India  2020-03-04            69.66   \n",
       "9.26                     Andorra  2020-11-08            83.73   \n",
       "8.33               United States  2021-04-12            84.63   \n",
       "6.48                    Tanzania  2021-02-01            65.46   \n",
       "5.56               United States  2020-04-03            82.66   \n",
       "2.78                     Vietnam  2021-04-26            84.63   \n",
       "0.00                     Vietnam  2020-03-15            83.73   \n",
       "\n",
       "                  human_development_index  \n",
       "stringency_index                           \n",
       "12.96                               0.932  \n",
       "12.04                               0.767  \n",
       "11.11                               0.957  \n",
       "10.19                               0.645  \n",
       "9.26                                0.868  \n",
       "8.33                                0.955  \n",
       "6.48                                0.529  \n",
       "5.56                                0.947  \n",
       "2.78                                0.929  \n",
       "0.00                                0.945  "
      ],
      "text/html": "<div>\n<style scoped>\n    .dataframe tbody tr th:only-of-type {\n        vertical-align: middle;\n    }\n\n    .dataframe tbody tr th {\n        vertical-align: top;\n    }\n\n    .dataframe thead th {\n        text-align: right;\n    }\n</style>\n<table border=\"1\" class=\"dataframe\">\n  <thead>\n    <tr style=\"text-align: right;\">\n      <th></th>\n      <th>location</th>\n      <th>date</th>\n      <th>life_expectancy</th>\n      <th>human_development_index</th>\n    </tr>\n    <tr>\n      <th>stringency_index</th>\n      <th></th>\n      <th></th>\n      <th></th>\n      <th></th>\n    </tr>\n  </thead>\n  <tbody>\n    <tr>\n      <th>12.96</th>\n      <td>United Kingdom</td>\n      <td>2021-04-19</td>\n      <td>81.32</td>\n      <td>0.932</td>\n    </tr>\n    <tr>\n      <th>12.04</th>\n      <td>Tanzania</td>\n      <td>2021-03-23</td>\n      <td>77.29</td>\n      <td>0.767</td>\n    </tr>\n    <tr>\n      <th>11.11</th>\n      <td>Vietnam</td>\n      <td>2021-04-26</td>\n      <td>83.56</td>\n      <td>0.957</td>\n    </tr>\n    <tr>\n      <th>10.19</th>\n      <td>India</td>\n      <td>2020-03-04</td>\n      <td>69.66</td>\n      <td>0.645</td>\n    </tr>\n    <tr>\n      <th>9.26</th>\n      <td>Andorra</td>\n      <td>2020-11-08</td>\n      <td>83.73</td>\n      <td>0.868</td>\n    </tr>\n    <tr>\n      <th>8.33</th>\n      <td>United States</td>\n      <td>2021-04-12</td>\n      <td>84.63</td>\n      <td>0.955</td>\n    </tr>\n    <tr>\n      <th>6.48</th>\n      <td>Tanzania</td>\n      <td>2021-02-01</td>\n      <td>65.46</td>\n      <td>0.529</td>\n    </tr>\n    <tr>\n      <th>5.56</th>\n      <td>United States</td>\n      <td>2020-04-03</td>\n      <td>82.66</td>\n      <td>0.947</td>\n    </tr>\n    <tr>\n      <th>2.78</th>\n      <td>Vietnam</td>\n      <td>2021-04-26</td>\n      <td>84.63</td>\n      <td>0.929</td>\n    </tr>\n    <tr>\n      <th>0.00</th>\n      <td>Vietnam</td>\n      <td>2020-03-15</td>\n      <td>83.73</td>\n      <td>0.945</td>\n    </tr>\n  </tbody>\n</table>\n</div>"
     },
     "metadata": {},
     "execution_count": 65
    }
   ],
   "source": [
    "top_lower_stringency = top_higher_stringency.tail(10)\n",
    "top_lower_stringency"
   ]
  },
  {
   "cell_type": "code",
   "execution_count": 61,
   "metadata": {},
   "outputs": [
    {
     "output_type": "execute_result",
     "data": {
      "text/plain": [
       "                        location        date  life_expectancy  \\\n",
       "stringency_index                                                \n",
       "0.00                     Vietnam  2020-03-15            83.73   \n",
       "2.78                     Vietnam  2021-04-26            84.63   \n",
       "5.56               United States  2020-04-03            82.66   \n",
       "6.48                    Tanzania  2021-02-01            65.46   \n",
       "8.33               United States  2021-04-12            84.63   \n",
       "9.26                     Andorra  2020-11-08            83.73   \n",
       "10.19                      India  2020-03-04            69.66   \n",
       "11.11                    Vietnam  2021-04-26            83.56   \n",
       "12.04                   Tanzania  2021-03-23            77.29   \n",
       "12.96             United Kingdom  2021-04-19            81.32   \n",
       "\n",
       "                  human_development_index  \n",
       "stringency_index                           \n",
       "0.00                                0.945  \n",
       "2.78                                0.929  \n",
       "5.56                                0.947  \n",
       "6.48                                0.529  \n",
       "8.33                                0.955  \n",
       "9.26                                0.868  \n",
       "10.19                               0.645  \n",
       "11.11                               0.957  \n",
       "12.04                               0.767  \n",
       "12.96                               0.932  "
      ],
      "text/html": "<div>\n<style scoped>\n    .dataframe tbody tr th:only-of-type {\n        vertical-align: middle;\n    }\n\n    .dataframe tbody tr th {\n        vertical-align: top;\n    }\n\n    .dataframe thead th {\n        text-align: right;\n    }\n</style>\n<table border=\"1\" class=\"dataframe\">\n  <thead>\n    <tr style=\"text-align: right;\">\n      <th></th>\n      <th>location</th>\n      <th>date</th>\n      <th>life_expectancy</th>\n      <th>human_development_index</th>\n    </tr>\n    <tr>\n      <th>stringency_index</th>\n      <th></th>\n      <th></th>\n      <th></th>\n      <th></th>\n    </tr>\n  </thead>\n  <tbody>\n    <tr>\n      <th>0.00</th>\n      <td>Vietnam</td>\n      <td>2020-03-15</td>\n      <td>83.73</td>\n      <td>0.945</td>\n    </tr>\n    <tr>\n      <th>2.78</th>\n      <td>Vietnam</td>\n      <td>2021-04-26</td>\n      <td>84.63</td>\n      <td>0.929</td>\n    </tr>\n    <tr>\n      <th>5.56</th>\n      <td>United States</td>\n      <td>2020-04-03</td>\n      <td>82.66</td>\n      <td>0.947</td>\n    </tr>\n    <tr>\n      <th>6.48</th>\n      <td>Tanzania</td>\n      <td>2021-02-01</td>\n      <td>65.46</td>\n      <td>0.529</td>\n    </tr>\n    <tr>\n      <th>8.33</th>\n      <td>United States</td>\n      <td>2021-04-12</td>\n      <td>84.63</td>\n      <td>0.955</td>\n    </tr>\n    <tr>\n      <th>9.26</th>\n      <td>Andorra</td>\n      <td>2020-11-08</td>\n      <td>83.73</td>\n      <td>0.868</td>\n    </tr>\n    <tr>\n      <th>10.19</th>\n      <td>India</td>\n      <td>2020-03-04</td>\n      <td>69.66</td>\n      <td>0.645</td>\n    </tr>\n    <tr>\n      <th>11.11</th>\n      <td>Vietnam</td>\n      <td>2021-04-26</td>\n      <td>83.56</td>\n      <td>0.957</td>\n    </tr>\n    <tr>\n      <th>12.04</th>\n      <td>Tanzania</td>\n      <td>2021-03-23</td>\n      <td>77.29</td>\n      <td>0.767</td>\n    </tr>\n    <tr>\n      <th>12.96</th>\n      <td>United Kingdom</td>\n      <td>2021-04-19</td>\n      <td>81.32</td>\n      <td>0.932</td>\n    </tr>\n  </tbody>\n</table>\n</div>"
     },
     "metadata": {},
     "execution_count": 61
    }
   ],
   "source": [
    "top_lower_stringency = grouped_df.sort_values(by=['stringency_index'], ascending=True)\n",
    "top_lower_stringency.head(10)"
   ]
  },
  {
   "cell_type": "code",
   "execution_count": null,
   "metadata": {},
   "outputs": [],
   "source": []
  }
 ]
}