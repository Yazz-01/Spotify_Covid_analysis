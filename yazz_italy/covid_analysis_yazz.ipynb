{
 "metadata": {
  "language_info": {
   "codemirror_mode": {
    "name": "ipython",
    "version": 3
   },
   "file_extension": ".py",
   "mimetype": "text/x-python",
   "name": "python",
   "nbconvert_exporter": "python",
   "pygments_lexer": "ipython3",
   "version": "3.8.5"
  },
  "orig_nbformat": 2,
  "kernelspec": {
   "name": "python3",
   "display_name": "Python 3",
   "language": "python"
  }
 },
 "nbformat": 4,
 "nbformat_minor": 2,
 "cells": [
  {
   "cell_type": "code",
   "execution_count": 66,
   "metadata": {},
   "outputs": [],
   "source": [
    "# Dependencies\n",
    "import matplotlib.pyplot as plt\n",
    "import pandas as pd\n",
    "import numpy as np\n",
    "import requests\n",
    "import json\n",
    "import re, glob\n",
    "import os, sys\n",
    "from scipy import stats\n",
    "import csv\n"
   ]
  },
  {
   "cell_type": "code",
   "execution_count": 124,
   "metadata": {},
   "outputs": [
    {
     "output_type": "execute_result",
     "data": {
      "text/plain": [
       "      iso_code continent  location        date  total_cases  new_cases  \\\n",
       "84305      ZWE    Africa  Zimbabwe  2021-04-22      38018.0       38.0   \n",
       "84306      ZWE    Africa  Zimbabwe  2021-04-23      38045.0       27.0   \n",
       "84307      ZWE    Africa  Zimbabwe  2021-04-24      38064.0       19.0   \n",
       "84308      ZWE    Africa  Zimbabwe  2021-04-25      38086.0       22.0   \n",
       "84309      ZWE    Africa  Zimbabwe  2021-04-26      38102.0       16.0   \n",
       "\n",
       "       new_cases_smoothed  total_deaths  new_deaths  new_deaths_smoothed  ...  \\\n",
       "84305              85.143        1555.0         0.0                0.714  ...   \n",
       "84306              73.000        1556.0         1.0                0.714  ...   \n",
       "84307              52.143        1556.0         0.0                0.571  ...   \n",
       "84308              47.857        1557.0         1.0                0.571  ...   \n",
       "84309              34.714        1560.0         3.0                1.000  ...   \n",
       "\n",
       "       gdp_per_capita  extreme_poverty  cardiovasc_death_rate  \\\n",
       "84305        1899.775             21.4                307.846   \n",
       "84306        1899.775             21.4                307.846   \n",
       "84307        1899.775             21.4                307.846   \n",
       "84308        1899.775             21.4                307.846   \n",
       "84309        1899.775             21.4                307.846   \n",
       "\n",
       "       diabetes_prevalence  female_smokers  male_smokers  \\\n",
       "84305                 1.82             1.6          30.7   \n",
       "84306                 1.82             1.6          30.7   \n",
       "84307                 1.82             1.6          30.7   \n",
       "84308                 1.82             1.6          30.7   \n",
       "84309                 1.82             1.6          30.7   \n",
       "\n",
       "       handwashing_facilities  hospital_beds_per_thousand  life_expectancy  \\\n",
       "84305                  36.791                         1.7            61.49   \n",
       "84306                  36.791                         1.7            61.49   \n",
       "84307                  36.791                         1.7            61.49   \n",
       "84308                  36.791                         1.7            61.49   \n",
       "84309                  36.791                         1.7            61.49   \n",
       "\n",
       "       human_development_index  \n",
       "84305                    0.571  \n",
       "84306                    0.571  \n",
       "84307                    0.571  \n",
       "84308                    0.571  \n",
       "84309                    0.571  \n",
       "\n",
       "[5 rows x 59 columns]"
      ],
      "text/html": "<div>\n<style scoped>\n    .dataframe tbody tr th:only-of-type {\n        vertical-align: middle;\n    }\n\n    .dataframe tbody tr th {\n        vertical-align: top;\n    }\n\n    .dataframe thead th {\n        text-align: right;\n    }\n</style>\n<table border=\"1\" class=\"dataframe\">\n  <thead>\n    <tr style=\"text-align: right;\">\n      <th></th>\n      <th>iso_code</th>\n      <th>continent</th>\n      <th>location</th>\n      <th>date</th>\n      <th>total_cases</th>\n      <th>new_cases</th>\n      <th>new_cases_smoothed</th>\n      <th>total_deaths</th>\n      <th>new_deaths</th>\n      <th>new_deaths_smoothed</th>\n      <th>...</th>\n      <th>gdp_per_capita</th>\n      <th>extreme_poverty</th>\n      <th>cardiovasc_death_rate</th>\n      <th>diabetes_prevalence</th>\n      <th>female_smokers</th>\n      <th>male_smokers</th>\n      <th>handwashing_facilities</th>\n      <th>hospital_beds_per_thousand</th>\n      <th>life_expectancy</th>\n      <th>human_development_index</th>\n    </tr>\n  </thead>\n  <tbody>\n    <tr>\n      <th>84305</th>\n      <td>ZWE</td>\n      <td>Africa</td>\n      <td>Zimbabwe</td>\n      <td>2021-04-22</td>\n      <td>38018.0</td>\n      <td>38.0</td>\n      <td>85.143</td>\n      <td>1555.0</td>\n      <td>0.0</td>\n      <td>0.714</td>\n      <td>...</td>\n      <td>1899.775</td>\n      <td>21.4</td>\n      <td>307.846</td>\n      <td>1.82</td>\n      <td>1.6</td>\n      <td>30.7</td>\n      <td>36.791</td>\n      <td>1.7</td>\n      <td>61.49</td>\n      <td>0.571</td>\n    </tr>\n    <tr>\n      <th>84306</th>\n      <td>ZWE</td>\n      <td>Africa</td>\n      <td>Zimbabwe</td>\n      <td>2021-04-23</td>\n      <td>38045.0</td>\n      <td>27.0</td>\n      <td>73.000</td>\n      <td>1556.0</td>\n      <td>1.0</td>\n      <td>0.714</td>\n      <td>...</td>\n      <td>1899.775</td>\n      <td>21.4</td>\n      <td>307.846</td>\n      <td>1.82</td>\n      <td>1.6</td>\n      <td>30.7</td>\n      <td>36.791</td>\n      <td>1.7</td>\n      <td>61.49</td>\n      <td>0.571</td>\n    </tr>\n    <tr>\n      <th>84307</th>\n      <td>ZWE</td>\n      <td>Africa</td>\n      <td>Zimbabwe</td>\n      <td>2021-04-24</td>\n      <td>38064.0</td>\n      <td>19.0</td>\n      <td>52.143</td>\n      <td>1556.0</td>\n      <td>0.0</td>\n      <td>0.571</td>\n      <td>...</td>\n      <td>1899.775</td>\n      <td>21.4</td>\n      <td>307.846</td>\n      <td>1.82</td>\n      <td>1.6</td>\n      <td>30.7</td>\n      <td>36.791</td>\n      <td>1.7</td>\n      <td>61.49</td>\n      <td>0.571</td>\n    </tr>\n    <tr>\n      <th>84308</th>\n      <td>ZWE</td>\n      <td>Africa</td>\n      <td>Zimbabwe</td>\n      <td>2021-04-25</td>\n      <td>38086.0</td>\n      <td>22.0</td>\n      <td>47.857</td>\n      <td>1557.0</td>\n      <td>1.0</td>\n      <td>0.571</td>\n      <td>...</td>\n      <td>1899.775</td>\n      <td>21.4</td>\n      <td>307.846</td>\n      <td>1.82</td>\n      <td>1.6</td>\n      <td>30.7</td>\n      <td>36.791</td>\n      <td>1.7</td>\n      <td>61.49</td>\n      <td>0.571</td>\n    </tr>\n    <tr>\n      <th>84309</th>\n      <td>ZWE</td>\n      <td>Africa</td>\n      <td>Zimbabwe</td>\n      <td>2021-04-26</td>\n      <td>38102.0</td>\n      <td>16.0</td>\n      <td>34.714</td>\n      <td>1560.0</td>\n      <td>3.0</td>\n      <td>1.000</td>\n      <td>...</td>\n      <td>1899.775</td>\n      <td>21.4</td>\n      <td>307.846</td>\n      <td>1.82</td>\n      <td>1.6</td>\n      <td>30.7</td>\n      <td>36.791</td>\n      <td>1.7</td>\n      <td>61.49</td>\n      <td>0.571</td>\n    </tr>\n  </tbody>\n</table>\n<p>5 rows × 59 columns</p>\n</div>"
     },
     "metadata": {},
     "execution_count": 124
    }
   ],
   "source": [
    "# read the covid data file\n",
    "covid_df = pd.read_csv(\"Resources/owid_covid_data.csv\")                \n",
    " # Filter for country of your choice\n",
    "\n",
    "covid_df.tail(5)"
   ]
  },
  {
   "cell_type": "code",
   "execution_count": 128,
   "metadata": {},
   "outputs": [
    {
     "output_type": "stream",
     "name": "stderr",
     "text": [
      "<ipython-input-128-73698b43b3e4>:2: SettingWithCopyWarning: \nA value is trying to be set on a copy of a slice from a DataFrame.\nTry using .loc[row_indexer,col_indexer] = value instead\n\nSee the caveats in the documentation: https://pandas.pydata.org/pandas-docs/stable/user_guide/indexing.html#returning-a-view-versus-a-copy\n  covid_2020_df['Month'] = ''\n"
     ]
    }
   ],
   "source": [
    "covid_2020_df = covid_df.loc[covid_df.date.str.contains(r'2020.*')]\n",
    "covid_2020_df['Month'] = ''"
   ]
  },
  {
   "cell_type": "code",
   "execution_count": 136,
   "metadata": {},
   "outputs": [
    {
     "output_type": "display_data",
     "data": {
      "text/plain": "<Figure size 288x288 with 1 Axes>",
      "image/svg+xml": "<?xml version=\"1.0\" encoding=\"utf-8\" standalone=\"no\"?>\n<!DOCTYPE svg PUBLIC \"-//W3C//DTD SVG 1.1//EN\"\n  \"http://www.w3.org/Graphics/SVG/1.1/DTD/svg11.dtd\">\n<!-- Created with matplotlib (https://matplotlib.org/) -->\n<svg height=\"257.778125pt\" version=\"1.1\" viewBox=\"0 0 257.325 257.778125\" width=\"257.325pt\" xmlns=\"http://www.w3.org/2000/svg\" xmlns:xlink=\"http://www.w3.org/1999/xlink\">\n <metadata>\n  <rdf:RDF xmlns:cc=\"http://creativecommons.org/ns#\" xmlns:dc=\"http://purl.org/dc/elements/1.1/\" xmlns:rdf=\"http://www.w3.org/1999/02/22-rdf-syntax-ns#\">\n   <cc:Work>\n    <dc:type rdf:resource=\"http://purl.org/dc/dcmitype/StillImage\"/>\n    <dc:date>2021-05-03T09:11:29.629591</dc:date>\n    <dc:format>image/svg+xml</dc:format>\n    <dc:creator>\n     <cc:Agent>\n      <dc:title>Matplotlib v3.3.2, https://matplotlib.org/</dc:title>\n     </cc:Agent>\n    </dc:creator>\n   </cc:Work>\n  </rdf:RDF>\n </metadata>\n <defs>\n  <style type=\"text/css\">*{stroke-linecap:butt;stroke-linejoin:round;}</style>\n </defs>\n <g id=\"figure_1\">\n  <g id=\"patch_1\">\n   <path d=\"M 0 257.778125 \nL 257.325 257.778125 \nL 257.325 0 \nL 0 0 \nz\n\" style=\"fill:none;\"/>\n  </g>\n  <g id=\"axes_1\">\n   <g id=\"patch_2\">\n    <path d=\"M 26.925 247.078125 \nL 250.125 247.078125 \nL 250.125 23.878125 \nL 26.925 23.878125 \nz\n\" style=\"fill:#ffffff;\"/>\n   </g>\n   <g clip-path=\"url(#pecddd8748d)\">\n    <image height=\"224\" id=\"imagea517bcc90d\" transform=\"scale(1 -1)translate(0 -224)\" width=\"224\" x=\"26.925\" xlink:href=\"data:image/png;base64,\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\" y=\"-23.078125\"/>\n   </g>\n   <g id=\"matplotlib.axis_1\">\n    <g id=\"xtick_1\">\n     <g id=\"line2d_1\">\n      <defs>\n       <path d=\"M 0 0 \nL 0 3.5 \n\" id=\"ma25a61bb22\" style=\"stroke:#000000;stroke-width:0.8;\"/>\n      </defs>\n      <g>\n       <use style=\"stroke:#000000;stroke-width:0.8;\" x=\"28.991667\" xlink:href=\"#ma25a61bb22\" y=\"247.078125\"/>\n      </g>\n     </g>\n     <g id=\"line2d_2\">\n      <defs>\n       <path d=\"M 0 0 \nL 0 -3.5 \n\" id=\"m217b0d52cd\" style=\"stroke:#000000;stroke-width:0.8;\"/>\n      </defs>\n      <g>\n       <use style=\"stroke:#000000;stroke-width:0.8;\" x=\"28.991667\" xlink:href=\"#m217b0d52cd\" y=\"23.878125\"/>\n      </g>\n     </g>\n     <g id=\"text_1\">\n      <!-- 0 -->\n      <g transform=\"translate(25.810417 14.798438)scale(0.1 -0.1)\">\n       <defs>\n        <path d=\"M 31.78125 66.40625 \nQ 24.171875 66.40625 20.328125 58.90625 \nQ 16.5 51.421875 16.5 36.375 \nQ 16.5 21.390625 20.328125 13.890625 \nQ 24.171875 6.390625 31.78125 6.390625 \nQ 39.453125 6.390625 43.28125 13.890625 \nQ 47.125 21.390625 47.125 36.375 \nQ 47.125 51.421875 43.28125 58.90625 \nQ 39.453125 66.40625 31.78125 66.40625 \nz\nM 31.78125 74.21875 \nQ 44.046875 74.21875 50.515625 64.515625 \nQ 56.984375 54.828125 56.984375 36.375 \nQ 56.984375 17.96875 50.515625 8.265625 \nQ 44.046875 -1.421875 31.78125 -1.421875 \nQ 19.53125 -1.421875 13.0625 8.265625 \nQ 6.59375 17.96875 6.59375 36.375 \nQ 6.59375 54.828125 13.0625 64.515625 \nQ 19.53125 74.21875 31.78125 74.21875 \nz\n\" id=\"DejaVuSans-48\"/>\n       </defs>\n       <use xlink:href=\"#DejaVuSans-48\"/>\n      </g>\n     </g>\n    </g>\n    <g id=\"xtick_2\">\n     <g id=\"line2d_3\">\n      <g>\n       <use style=\"stroke:#000000;stroke-width:0.8;\" x=\"70.325\" xlink:href=\"#ma25a61bb22\" y=\"247.078125\"/>\n      </g>\n     </g>\n     <g id=\"line2d_4\">\n      <g>\n       <use style=\"stroke:#000000;stroke-width:0.8;\" x=\"70.325\" xlink:href=\"#m217b0d52cd\" y=\"23.878125\"/>\n      </g>\n     </g>\n     <g id=\"text_2\">\n      <!-- 10 -->\n      <g transform=\"translate(63.9625 14.798438)scale(0.1 -0.1)\">\n       <defs>\n        <path d=\"M 12.40625 8.296875 \nL 28.515625 8.296875 \nL 28.515625 63.921875 \nL 10.984375 60.40625 \nL 10.984375 69.390625 \nL 28.421875 72.90625 \nL 38.28125 72.90625 \nL 38.28125 8.296875 \nL 54.390625 8.296875 \nL 54.390625 0 \nL 12.40625 0 \nz\n\" id=\"DejaVuSans-49\"/>\n       </defs>\n       <use xlink:href=\"#DejaVuSans-49\"/>\n       <use x=\"63.623047\" xlink:href=\"#DejaVuSans-48\"/>\n      </g>\n     </g>\n    </g>\n    <g id=\"xtick_3\">\n     <g id=\"line2d_5\">\n      <g>\n       <use style=\"stroke:#000000;stroke-width:0.8;\" x=\"111.658333\" xlink:href=\"#ma25a61bb22\" y=\"247.078125\"/>\n      </g>\n     </g>\n     <g id=\"line2d_6\">\n      <g>\n       <use style=\"stroke:#000000;stroke-width:0.8;\" x=\"111.658333\" xlink:href=\"#m217b0d52cd\" y=\"23.878125\"/>\n      </g>\n     </g>\n     <g id=\"text_3\">\n      <!-- 20 -->\n      <g transform=\"translate(105.295833 14.798438)scale(0.1 -0.1)\">\n       <defs>\n        <path d=\"M 19.1875 8.296875 \nL 53.609375 8.296875 \nL 53.609375 0 \nL 7.328125 0 \nL 7.328125 8.296875 \nQ 12.9375 14.109375 22.625 23.890625 \nQ 32.328125 33.6875 34.8125 36.53125 \nQ 39.546875 41.84375 41.421875 45.53125 \nQ 43.3125 49.21875 43.3125 52.78125 \nQ 43.3125 58.59375 39.234375 62.25 \nQ 35.15625 65.921875 28.609375 65.921875 \nQ 23.96875 65.921875 18.8125 64.3125 \nQ 13.671875 62.703125 7.8125 59.421875 \nL 7.8125 69.390625 \nQ 13.765625 71.78125 18.9375 73 \nQ 24.125 74.21875 28.421875 74.21875 \nQ 39.75 74.21875 46.484375 68.546875 \nQ 53.21875 62.890625 53.21875 53.421875 \nQ 53.21875 48.921875 51.53125 44.890625 \nQ 49.859375 40.875 45.40625 35.40625 \nQ 44.1875 33.984375 37.640625 27.21875 \nQ 31.109375 20.453125 19.1875 8.296875 \nz\n\" id=\"DejaVuSans-50\"/>\n       </defs>\n       <use xlink:href=\"#DejaVuSans-50\"/>\n       <use x=\"63.623047\" xlink:href=\"#DejaVuSans-48\"/>\n      </g>\n     </g>\n    </g>\n    <g id=\"xtick_4\">\n     <g id=\"line2d_7\">\n      <g>\n       <use style=\"stroke:#000000;stroke-width:0.8;\" x=\"152.991667\" xlink:href=\"#ma25a61bb22\" y=\"247.078125\"/>\n      </g>\n     </g>\n     <g id=\"line2d_8\">\n      <g>\n       <use style=\"stroke:#000000;stroke-width:0.8;\" x=\"152.991667\" xlink:href=\"#m217b0d52cd\" y=\"23.878125\"/>\n      </g>\n     </g>\n     <g id=\"text_4\">\n      <!-- 30 -->\n      <g transform=\"translate(146.629167 14.798438)scale(0.1 -0.1)\">\n       <defs>\n        <path d=\"M 40.578125 39.3125 \nQ 47.65625 37.796875 51.625 33 \nQ 55.609375 28.21875 55.609375 21.1875 \nQ 55.609375 10.40625 48.1875 4.484375 \nQ 40.765625 -1.421875 27.09375 -1.421875 \nQ 22.515625 -1.421875 17.65625 -0.515625 \nQ 12.796875 0.390625 7.625 2.203125 \nL 7.625 11.71875 \nQ 11.71875 9.328125 16.59375 8.109375 \nQ 21.484375 6.890625 26.8125 6.890625 \nQ 36.078125 6.890625 40.9375 10.546875 \nQ 45.796875 14.203125 45.796875 21.1875 \nQ 45.796875 27.640625 41.28125 31.265625 \nQ 36.765625 34.90625 28.71875 34.90625 \nL 20.21875 34.90625 \nL 20.21875 43.015625 \nL 29.109375 43.015625 \nQ 36.375 43.015625 40.234375 45.921875 \nQ 44.09375 48.828125 44.09375 54.296875 \nQ 44.09375 59.90625 40.109375 62.90625 \nQ 36.140625 65.921875 28.71875 65.921875 \nQ 24.65625 65.921875 20.015625 65.03125 \nQ 15.375 64.15625 9.8125 62.3125 \nL 9.8125 71.09375 \nQ 15.4375 72.65625 20.34375 73.4375 \nQ 25.25 74.21875 29.59375 74.21875 \nQ 40.828125 74.21875 47.359375 69.109375 \nQ 53.90625 64.015625 53.90625 55.328125 \nQ 53.90625 49.265625 50.4375 45.09375 \nQ 46.96875 40.921875 40.578125 39.3125 \nz\n\" id=\"DejaVuSans-51\"/>\n       </defs>\n       <use xlink:href=\"#DejaVuSans-51\"/>\n       <use x=\"63.623047\" xlink:href=\"#DejaVuSans-48\"/>\n      </g>\n     </g>\n    </g>\n    <g id=\"xtick_5\">\n     <g id=\"line2d_9\">\n      <g>\n       <use style=\"stroke:#000000;stroke-width:0.8;\" x=\"194.325\" xlink:href=\"#ma25a61bb22\" y=\"247.078125\"/>\n      </g>\n     </g>\n     <g id=\"line2d_10\">\n      <g>\n       <use style=\"stroke:#000000;stroke-width:0.8;\" x=\"194.325\" xlink:href=\"#m217b0d52cd\" y=\"23.878125\"/>\n      </g>\n     </g>\n     <g id=\"text_5\">\n      <!-- 40 -->\n      <g transform=\"translate(187.9625 14.798438)scale(0.1 -0.1)\">\n       <defs>\n        <path d=\"M 37.796875 64.3125 \nL 12.890625 25.390625 \nL 37.796875 25.390625 \nz\nM 35.203125 72.90625 \nL 47.609375 72.90625 \nL 47.609375 25.390625 \nL 58.015625 25.390625 \nL 58.015625 17.1875 \nL 47.609375 17.1875 \nL 47.609375 0 \nL 37.796875 0 \nL 37.796875 17.1875 \nL 4.890625 17.1875 \nL 4.890625 26.703125 \nz\n\" id=\"DejaVuSans-52\"/>\n       </defs>\n       <use xlink:href=\"#DejaVuSans-52\"/>\n       <use x=\"63.623047\" xlink:href=\"#DejaVuSans-48\"/>\n      </g>\n     </g>\n    </g>\n    <g id=\"xtick_6\">\n     <g id=\"line2d_11\">\n      <g>\n       <use style=\"stroke:#000000;stroke-width:0.8;\" x=\"235.658333\" xlink:href=\"#ma25a61bb22\" y=\"247.078125\"/>\n      </g>\n     </g>\n     <g id=\"line2d_12\">\n      <g>\n       <use style=\"stroke:#000000;stroke-width:0.8;\" x=\"235.658333\" xlink:href=\"#m217b0d52cd\" y=\"23.878125\"/>\n      </g>\n     </g>\n     <g id=\"text_6\">\n      <!-- 50 -->\n      <g transform=\"translate(229.295833 14.798438)scale(0.1 -0.1)\">\n       <defs>\n        <path d=\"M 10.796875 72.90625 \nL 49.515625 72.90625 \nL 49.515625 64.59375 \nL 19.828125 64.59375 \nL 19.828125 46.734375 \nQ 21.96875 47.46875 24.109375 47.828125 \nQ 26.265625 48.1875 28.421875 48.1875 \nQ 40.625 48.1875 47.75 41.5 \nQ 54.890625 34.8125 54.890625 23.390625 \nQ 54.890625 11.625 47.5625 5.09375 \nQ 40.234375 -1.421875 26.90625 -1.421875 \nQ 22.3125 -1.421875 17.546875 -0.640625 \nQ 12.796875 0.140625 7.71875 1.703125 \nL 7.71875 11.625 \nQ 12.109375 9.234375 16.796875 8.0625 \nQ 21.484375 6.890625 26.703125 6.890625 \nQ 35.15625 6.890625 40.078125 11.328125 \nQ 45.015625 15.765625 45.015625 23.390625 \nQ 45.015625 31 40.078125 35.4375 \nQ 35.15625 39.890625 26.703125 39.890625 \nQ 22.75 39.890625 18.8125 39.015625 \nQ 14.890625 38.140625 10.796875 36.28125 \nz\n\" id=\"DejaVuSans-53\"/>\n       </defs>\n       <use xlink:href=\"#DejaVuSans-53\"/>\n       <use x=\"63.623047\" xlink:href=\"#DejaVuSans-48\"/>\n      </g>\n     </g>\n    </g>\n   </g>\n   <g id=\"matplotlib.axis_2\">\n    <g id=\"ytick_1\">\n     <g id=\"line2d_13\">\n      <defs>\n       <path d=\"M 0 0 \nL -3.5 0 \n\" id=\"m883fa72802\" style=\"stroke:#000000;stroke-width:0.8;\"/>\n      </defs>\n      <g>\n       <use style=\"stroke:#000000;stroke-width:0.8;\" x=\"26.925\" xlink:href=\"#m883fa72802\" y=\"25.944792\"/>\n      </g>\n     </g>\n     <g id=\"text_7\">\n      <!-- 0 -->\n      <g transform=\"translate(13.5625 29.74401)scale(0.1 -0.1)\">\n       <use xlink:href=\"#DejaVuSans-48\"/>\n      </g>\n     </g>\n    </g>\n    <g id=\"ytick_2\">\n     <g id=\"line2d_14\">\n      <g>\n       <use style=\"stroke:#000000;stroke-width:0.8;\" x=\"26.925\" xlink:href=\"#m883fa72802\" y=\"67.278125\"/>\n      </g>\n     </g>\n     <g id=\"text_8\">\n      <!-- 10 -->\n      <g transform=\"translate(7.2 71.077344)scale(0.1 -0.1)\">\n       <use xlink:href=\"#DejaVuSans-49\"/>\n       <use x=\"63.623047\" xlink:href=\"#DejaVuSans-48\"/>\n      </g>\n     </g>\n    </g>\n    <g id=\"ytick_3\">\n     <g id=\"line2d_15\">\n      <g>\n       <use style=\"stroke:#000000;stroke-width:0.8;\" x=\"26.925\" xlink:href=\"#m883fa72802\" y=\"108.611458\"/>\n      </g>\n     </g>\n     <g id=\"text_9\">\n      <!-- 20 -->\n      <g transform=\"translate(7.2 112.410677)scale(0.1 -0.1)\">\n       <use xlink:href=\"#DejaVuSans-50\"/>\n       <use x=\"63.623047\" xlink:href=\"#DejaVuSans-48\"/>\n      </g>\n     </g>\n    </g>\n    <g id=\"ytick_4\">\n     <g id=\"line2d_16\">\n      <g>\n       <use style=\"stroke:#000000;stroke-width:0.8;\" x=\"26.925\" xlink:href=\"#m883fa72802\" y=\"149.944792\"/>\n      </g>\n     </g>\n     <g id=\"text_10\">\n      <!-- 30 -->\n      <g transform=\"translate(7.2 153.74401)scale(0.1 -0.1)\">\n       <use xlink:href=\"#DejaVuSans-51\"/>\n       <use x=\"63.623047\" xlink:href=\"#DejaVuSans-48\"/>\n      </g>\n     </g>\n    </g>\n    <g id=\"ytick_5\">\n     <g id=\"line2d_17\">\n      <g>\n       <use style=\"stroke:#000000;stroke-width:0.8;\" x=\"26.925\" xlink:href=\"#m883fa72802\" y=\"191.278125\"/>\n      </g>\n     </g>\n     <g id=\"text_11\">\n      <!-- 40 -->\n      <g transform=\"translate(7.2 195.077344)scale(0.1 -0.1)\">\n       <use xlink:href=\"#DejaVuSans-52\"/>\n       <use x=\"63.623047\" xlink:href=\"#DejaVuSans-48\"/>\n      </g>\n     </g>\n    </g>\n    <g id=\"ytick_6\">\n     <g id=\"line2d_18\">\n      <g>\n       <use style=\"stroke:#000000;stroke-width:0.8;\" x=\"26.925\" xlink:href=\"#m883fa72802\" y=\"232.611458\"/>\n      </g>\n     </g>\n     <g id=\"text_12\">\n      <!-- 50 -->\n      <g transform=\"translate(7.2 236.410677)scale(0.1 -0.1)\">\n       <use xlink:href=\"#DejaVuSans-53\"/>\n       <use x=\"63.623047\" xlink:href=\"#DejaVuSans-48\"/>\n      </g>\n     </g>\n    </g>\n   </g>\n   <g id=\"patch_3\">\n    <path d=\"M 26.925 247.078125 \nL 26.925 23.878125 \n\" style=\"fill:none;stroke:#000000;stroke-linecap:square;stroke-linejoin:miter;stroke-width:0.8;\"/>\n   </g>\n   <g id=\"patch_4\">\n    <path d=\"M 250.125 247.078125 \nL 250.125 23.878125 \n\" style=\"fill:none;stroke:#000000;stroke-linecap:square;stroke-linejoin:miter;stroke-width:0.8;\"/>\n   </g>\n   <g id=\"patch_5\">\n    <path d=\"M 26.925 247.078125 \nL 250.125 247.078125 \n\" style=\"fill:none;stroke:#000000;stroke-linecap:square;stroke-linejoin:miter;stroke-width:0.8;\"/>\n   </g>\n   <g id=\"patch_6\">\n    <path d=\"M 26.925 23.878125 \nL 250.125 23.878125 \n\" style=\"fill:none;stroke:#000000;stroke-linecap:square;stroke-linejoin:miter;stroke-width:0.8;\"/>\n   </g>\n  </g>\n </g>\n <defs>\n  <clipPath id=\"pecddd8748d\">\n   <rect height=\"223.2\" width=\"223.2\" x=\"26.925\" y=\"23.878125\"/>\n  </clipPath>\n </defs>\n</svg>\n",
      "image/png": "[encoded data removed]"
     },
     "metadata": {
      "needs_background": "light"
     }
    },
    {
     "output_type": "error",
     "ename": "NameError",
     "evalue": "name 'df' is not defined",
     "traceback": [
      "\u001b[0;31m---------------------------------------------------------------------------\u001b[0m",
      "\u001b[0;31mNameError\u001b[0m                                 Traceback (most recent call last)",
      "\u001b[0;32m<ipython-input-136-607ad57d77ca>\u001b[0m in \u001b[0;36m<module>\u001b[0;34m\u001b[0m\n\u001b[1;32m      3\u001b[0m \u001b[0;34m\u001b[0m\u001b[0m\n\u001b[1;32m      4\u001b[0m \u001b[0mf\u001b[0m \u001b[0;34m=\u001b[0m \u001b[0mplt\u001b[0m\u001b[0;34m.\u001b[0m\u001b[0mfigure\u001b[0m\u001b[0;34m(\u001b[0m\u001b[0mfigsize\u001b[0m\u001b[0;34m=\u001b[0m\u001b[0;34m(\u001b[0m\u001b[0;36m19\u001b[0m\u001b[0;34m,\u001b[0m \u001b[0;36m15\u001b[0m\u001b[0;34m)\u001b[0m\u001b[0;34m)\u001b[0m\u001b[0;34m\u001b[0m\u001b[0;34m\u001b[0m\u001b[0m\n\u001b[0;32m----> 5\u001b[0;31m \u001b[0mplt\u001b[0m\u001b[0;34m.\u001b[0m\u001b[0mmatshow\u001b[0m\u001b[0;34m(\u001b[0m\u001b[0mdf\u001b[0m\u001b[0;34m.\u001b[0m\u001b[0mcorr\u001b[0m\u001b[0;34m(\u001b[0m\u001b[0;34m)\u001b[0m\u001b[0;34m,\u001b[0m \u001b[0mfignum\u001b[0m\u001b[0;34m=\u001b[0m\u001b[0mf\u001b[0m\u001b[0;34m.\u001b[0m\u001b[0mnumber\u001b[0m\u001b[0;34m)\u001b[0m\u001b[0;34m\u001b[0m\u001b[0;34m\u001b[0m\u001b[0m\n\u001b[0m\u001b[1;32m      6\u001b[0m \u001b[0mplt\u001b[0m\u001b[0;34m.\u001b[0m\u001b[0mxticks\u001b[0m\u001b[0;34m(\u001b[0m\u001b[0mrange\u001b[0m\u001b[0;34m(\u001b[0m\u001b[0mcovid_df\u001b[0m\u001b[0;34m.\u001b[0m\u001b[0mselect_dtypes\u001b[0m\u001b[0;34m(\u001b[0m\u001b[0;34m[\u001b[0m\u001b[0;34m'number'\u001b[0m\u001b[0;34m]\u001b[0m\u001b[0;34m)\u001b[0m\u001b[0;34m.\u001b[0m\u001b[0mshape\u001b[0m\u001b[0;34m[\u001b[0m\u001b[0;36m1\u001b[0m\u001b[0;34m]\u001b[0m\u001b[0;34m)\u001b[0m\u001b[0;34m,\u001b[0m \u001b[0mcovid_df\u001b[0m\u001b[0;34m.\u001b[0m\u001b[0mselect_dtypes\u001b[0m\u001b[0;34m(\u001b[0m\u001b[0;34m[\u001b[0m\u001b[0;34m'number'\u001b[0m\u001b[0;34m]\u001b[0m\u001b[0;34m)\u001b[0m\u001b[0;34m.\u001b[0m\u001b[0mcolumns\u001b[0m\u001b[0;34m,\u001b[0m \u001b[0mfontsize\u001b[0m\u001b[0;34m=\u001b[0m\u001b[0;36m14\u001b[0m\u001b[0;34m,\u001b[0m \u001b[0mrotation\u001b[0m\u001b[0;34m=\u001b[0m\u001b[0;36m45\u001b[0m\u001b[0;34m)\u001b[0m\u001b[0;34m\u001b[0m\u001b[0;34m\u001b[0m\u001b[0m\n\u001b[1;32m      7\u001b[0m \u001b[0mplt\u001b[0m\u001b[0;34m.\u001b[0m\u001b[0myticks\u001b[0m\u001b[0;34m(\u001b[0m\u001b[0mrange\u001b[0m\u001b[0;34m(\u001b[0m\u001b[0mcovid_df\u001b[0m\u001b[0;34m.\u001b[0m\u001b[0mselect_dtypes\u001b[0m\u001b[0;34m(\u001b[0m\u001b[0;34m[\u001b[0m\u001b[0;34m'number'\u001b[0m\u001b[0;34m]\u001b[0m\u001b[0;34m)\u001b[0m\u001b[0;34m.\u001b[0m\u001b[0mshape\u001b[0m\u001b[0;34m[\u001b[0m\u001b[0;36m1\u001b[0m\u001b[0;34m]\u001b[0m\u001b[0;34m)\u001b[0m\u001b[0;34m,\u001b[0m \u001b[0mcovid_df\u001b[0m\u001b[0;34m.\u001b[0m\u001b[0mselect_dtypes\u001b[0m\u001b[0;34m(\u001b[0m\u001b[0;34m[\u001b[0m\u001b[0;34m'number'\u001b[0m\u001b[0;34m]\u001b[0m\u001b[0;34m)\u001b[0m\u001b[0;34m.\u001b[0m\u001b[0mcolumns\u001b[0m\u001b[0;34m,\u001b[0m \u001b[0mfontsize\u001b[0m\u001b[0;34m=\u001b[0m\u001b[0;36m14\u001b[0m\u001b[0;34m)\u001b[0m\u001b[0;34m\u001b[0m\u001b[0;34m\u001b[0m\u001b[0m\n",
      "\u001b[0;31mNameError\u001b[0m: name 'df' is not defined"
     ]
    }
   ],
   "source": [
    "plt.matshow(covid_df.corr())\n",
    "plt.show()\n",
    "\n",
    "f = plt.figure(figsize=(19, 15))\n",
    "plt.matshow(df.corr(), fignum=f.number)\n",
    "plt.xticks(range(covid_df.select_dtypes(['number']).shape[1]), covid_df.select_dtypes(['number']).columns, fontsize=14, rotation=45)\n",
    "plt.yticks(range(covid_df.select_dtypes(['number']).shape[1]), covid_df.select_dtypes(['number']).columns, fontsize=14)\n",
    "cb = plt.colorbar()\n",
    "cb.ax.tick_params(labelsize=14)\n",
    "plt.title('Correlation Matrix', fontsize=16);\n"
   ]
  },
  {
   "cell_type": "code",
   "execution_count": 139,
   "metadata": {},
   "outputs": [
    {
     "output_type": "error",
     "ename": "TypeError",
     "evalue": "'Series' object is not callable",
     "traceback": [
      "\u001b[0;31m---------------------------------------------------------------------------\u001b[0m",
      "\u001b[0;31mTypeError\u001b[0m                                 Traceback (most recent call last)",
      "\u001b[0;32m<ipython-input-139-b74647d0684f>\u001b[0m in \u001b[0;36m<module>\u001b[0;34m\u001b[0m\n\u001b[0;32m----> 1\u001b[0;31m \u001b[0mcovid_2020_df\u001b[0m\u001b[0;34m.\u001b[0m\u001b[0mdtypes\u001b[0m\u001b[0;34m(\u001b[0m\u001b[0;34m)\u001b[0m\u001b[0;34m\u001b[0m\u001b[0;34m\u001b[0m\u001b[0m\n\u001b[0m",
      "\u001b[0;31mTypeError\u001b[0m: 'Series' object is not callable"
     ]
    }
   ],
   "source": [
    "covid_2020_df"
   ]
  },
  {
   "cell_type": "code",
   "execution_count": 130,
   "metadata": {},
   "outputs": [
    {
     "output_type": "stream",
     "name": "stderr",
     "text": [
      "<ipython-input-130-094136aa2c86>:3: SettingWithCopyWarning: \nA value is trying to be set on a copy of a slice from a DataFrame.\nTry using .loc[row_indexer,col_indexer] = value instead\n\nSee the caveats in the documentation: https://pandas.pydata.org/pandas-docs/stable/user_guide/indexing.html#returning-a-view-versus-a-copy\n  covid_2021_df['Month'] = ''\n"
     ]
    }
   ],
   "source": [
    "# Filter data for 2020, and add a 'month' column\n",
    "covid_2021_df = covid_df.loc[covid_df.date.str.contains(r'2021.*')]\n",
    "covid_2021_df['Month'] = ''\n"
   ]
  },
  {
   "cell_type": "code",
   "execution_count": 140,
   "metadata": {},
   "outputs": [
    {
     "output_type": "execute_result",
     "data": {
      "text/plain": [
       "    iso_code continent     location        date  total_cases  new_cases  \\\n",
       "312      AFG      Asia  Afghanistan  2021-01-01      51526.0        0.0   \n",
       "313      AFG      Asia  Afghanistan  2021-01-02      51526.0        0.0   \n",
       "314      AFG      Asia  Afghanistan  2021-01-03      51526.0        0.0   \n",
       "315      AFG      Asia  Afghanistan  2021-01-04      53011.0     1485.0   \n",
       "316      AFG      Asia  Afghanistan  2021-01-05      53105.0       94.0   \n",
       "\n",
       "     new_cases_smoothed  total_deaths  new_deaths  new_deaths_smoothed  ...  \\\n",
       "312             102.286        2191.0         0.0                7.429  ...   \n",
       "313              91.429        2191.0         0.0                6.000  ...   \n",
       "314              69.571        2191.0         0.0                4.429  ...   \n",
       "315             247.286        2237.0        46.0                9.000  ...   \n",
       "316             250.714        2244.0         7.0                9.286  ...   \n",
       "\n",
       "     extreme_poverty  cardiovasc_death_rate  diabetes_prevalence  \\\n",
       "312              NaN                597.029                 9.59   \n",
       "313              NaN                597.029                 9.59   \n",
       "314              NaN                597.029                 9.59   \n",
       "315              NaN                597.029                 9.59   \n",
       "316              NaN                597.029                 9.59   \n",
       "\n",
       "     female_smokers  male_smokers  handwashing_facilities  \\\n",
       "312             NaN           NaN                  37.746   \n",
       "313             NaN           NaN                  37.746   \n",
       "314             NaN           NaN                  37.746   \n",
       "315             NaN           NaN                  37.746   \n",
       "316             NaN           NaN                  37.746   \n",
       "\n",
       "     hospital_beds_per_thousand  life_expectancy  human_development_index  \\\n",
       "312                         0.5            64.83                    0.511   \n",
       "313                         0.5            64.83                    0.511   \n",
       "314                         0.5            64.83                    0.511   \n",
       "315                         0.5            64.83                    0.511   \n",
       "316                         0.5            64.83                    0.511   \n",
       "\n",
       "     Month  \n",
       "312      1  \n",
       "313      1  \n",
       "314      1  \n",
       "315      1  \n",
       "316      1  \n",
       "\n",
       "[5 rows x 60 columns]"
      ],
      "text/html": "<div>\n<style scoped>\n    .dataframe tbody tr th:only-of-type {\n        vertical-align: middle;\n    }\n\n    .dataframe tbody tr th {\n        vertical-align: top;\n    }\n\n    .dataframe thead th {\n        text-align: right;\n    }\n</style>\n<table border=\"1\" class=\"dataframe\">\n  <thead>\n    <tr style=\"text-align: right;\">\n      <th></th>\n      <th>iso_code</th>\n      <th>continent</th>\n      <th>location</th>\n      <th>date</th>\n      <th>total_cases</th>\n      <th>new_cases</th>\n      <th>new_cases_smoothed</th>\n      <th>total_deaths</th>\n      <th>new_deaths</th>\n      <th>new_deaths_smoothed</th>\n      <th>...</th>\n      <th>extreme_poverty</th>\n      <th>cardiovasc_death_rate</th>\n      <th>diabetes_prevalence</th>\n      <th>female_smokers</th>\n      <th>male_smokers</th>\n      <th>handwashing_facilities</th>\n      <th>hospital_beds_per_thousand</th>\n      <th>life_expectancy</th>\n      <th>human_development_index</th>\n      <th>Month</th>\n    </tr>\n  </thead>\n  <tbody>\n    <tr>\n      <th>312</th>\n      <td>AFG</td>\n      <td>Asia</td>\n      <td>Afghanistan</td>\n      <td>2021-01-01</td>\n      <td>51526.0</td>\n      <td>0.0</td>\n      <td>102.286</td>\n      <td>2191.0</td>\n      <td>0.0</td>\n      <td>7.429</td>\n      <td>...</td>\n      <td>NaN</td>\n      <td>597.029</td>\n      <td>9.59</td>\n      <td>NaN</td>\n      <td>NaN</td>\n      <td>37.746</td>\n      <td>0.5</td>\n      <td>64.83</td>\n      <td>0.511</td>\n      <td>1</td>\n    </tr>\n    <tr>\n      <th>313</th>\n      <td>AFG</td>\n      <td>Asia</td>\n      <td>Afghanistan</td>\n      <td>2021-01-02</td>\n      <td>51526.0</td>\n      <td>0.0</td>\n      <td>91.429</td>\n      <td>2191.0</td>\n      <td>0.0</td>\n      <td>6.000</td>\n      <td>...</td>\n      <td>NaN</td>\n      <td>597.029</td>\n      <td>9.59</td>\n      <td>NaN</td>\n      <td>NaN</td>\n      <td>37.746</td>\n      <td>0.5</td>\n      <td>64.83</td>\n      <td>0.511</td>\n      <td>1</td>\n    </tr>\n    <tr>\n      <th>314</th>\n      <td>AFG</td>\n      <td>Asia</td>\n      <td>Afghanistan</td>\n      <td>2021-01-03</td>\n      <td>51526.0</td>\n      <td>0.0</td>\n      <td>69.571</td>\n      <td>2191.0</td>\n      <td>0.0</td>\n      <td>4.429</td>\n      <td>...</td>\n      <td>NaN</td>\n      <td>597.029</td>\n      <td>9.59</td>\n      <td>NaN</td>\n      <td>NaN</td>\n      <td>37.746</td>\n      <td>0.5</td>\n      <td>64.83</td>\n      <td>0.511</td>\n      <td>1</td>\n    </tr>\n    <tr>\n      <th>315</th>\n      <td>AFG</td>\n      <td>Asia</td>\n      <td>Afghanistan</td>\n      <td>2021-01-04</td>\n      <td>53011.0</td>\n      <td>1485.0</td>\n      <td>247.286</td>\n      <td>2237.0</td>\n      <td>46.0</td>\n      <td>9.000</td>\n      <td>...</td>\n      <td>NaN</td>\n      <td>597.029</td>\n      <td>9.59</td>\n      <td>NaN</td>\n      <td>NaN</td>\n      <td>37.746</td>\n      <td>0.5</td>\n      <td>64.83</td>\n      <td>0.511</td>\n      <td>1</td>\n    </tr>\n    <tr>\n      <th>316</th>\n      <td>AFG</td>\n      <td>Asia</td>\n      <td>Afghanistan</td>\n      <td>2021-01-05</td>\n      <td>53105.0</td>\n      <td>94.0</td>\n      <td>250.714</td>\n      <td>2244.0</td>\n      <td>7.0</td>\n      <td>9.286</td>\n      <td>...</td>\n      <td>NaN</td>\n      <td>597.029</td>\n      <td>9.59</td>\n      <td>NaN</td>\n      <td>NaN</td>\n      <td>37.746</td>\n      <td>0.5</td>\n      <td>64.83</td>\n      <td>0.511</td>\n      <td>1</td>\n    </tr>\n  </tbody>\n</table>\n<p>5 rows × 60 columns</p>\n</div>"
     },
     "metadata": {},
     "execution_count": 140
    }
   ],
   "source": [
    "covid_2021_df.head()"
   ]
  },
  {
   "cell_type": "code",
   "execution_count": 141,
   "metadata": {},
   "outputs": [
    {
     "output_type": "execute_result",
     "data": {
      "text/plain": [
       "  iso_code continent     location        date  total_cases  new_cases  \\\n",
       "0      AFG      Asia  Afghanistan  2020-02-24          1.0        1.0   \n",
       "1      AFG      Asia  Afghanistan  2020-02-25          1.0        0.0   \n",
       "2      AFG      Asia  Afghanistan  2020-02-26          1.0        0.0   \n",
       "3      AFG      Asia  Afghanistan  2020-02-27          1.0        0.0   \n",
       "4      AFG      Asia  Afghanistan  2020-02-28          1.0        0.0   \n",
       "\n",
       "   new_cases_smoothed  total_deaths  new_deaths  new_deaths_smoothed  ...  \\\n",
       "0                 NaN           NaN         NaN                  NaN  ...   \n",
       "1                 NaN           NaN         NaN                  NaN  ...   \n",
       "2                 NaN           NaN         NaN                  NaN  ...   \n",
       "3                 NaN           NaN         NaN                  NaN  ...   \n",
       "4                 NaN           NaN         NaN                  NaN  ...   \n",
       "\n",
       "   extreme_poverty  cardiovasc_death_rate  diabetes_prevalence  \\\n",
       "0              NaN                597.029                 9.59   \n",
       "1              NaN                597.029                 9.59   \n",
       "2              NaN                597.029                 9.59   \n",
       "3              NaN                597.029                 9.59   \n",
       "4              NaN                597.029                 9.59   \n",
       "\n",
       "   female_smokers  male_smokers  handwashing_facilities  \\\n",
       "0             NaN           NaN                  37.746   \n",
       "1             NaN           NaN                  37.746   \n",
       "2             NaN           NaN                  37.746   \n",
       "3             NaN           NaN                  37.746   \n",
       "4             NaN           NaN                  37.746   \n",
       "\n",
       "   hospital_beds_per_thousand  life_expectancy  human_development_index  Month  \n",
       "0                         0.5            64.83                    0.511      2  \n",
       "1                         0.5            64.83                    0.511      2  \n",
       "2                         0.5            64.83                    0.511      2  \n",
       "3                         0.5            64.83                    0.511      2  \n",
       "4                         0.5            64.83                    0.511      2  \n",
       "\n",
       "[5 rows x 60 columns]"
      ],
      "text/html": "<div>\n<style scoped>\n    .dataframe tbody tr th:only-of-type {\n        vertical-align: middle;\n    }\n\n    .dataframe tbody tr th {\n        vertical-align: top;\n    }\n\n    .dataframe thead th {\n        text-align: right;\n    }\n</style>\n<table border=\"1\" class=\"dataframe\">\n  <thead>\n    <tr style=\"text-align: right;\">\n      <th></th>\n      <th>iso_code</th>\n      <th>continent</th>\n      <th>location</th>\n      <th>date</th>\n      <th>total_cases</th>\n      <th>new_cases</th>\n      <th>new_cases_smoothed</th>\n      <th>total_deaths</th>\n      <th>new_deaths</th>\n      <th>new_deaths_smoothed</th>\n      <th>...</th>\n      <th>extreme_poverty</th>\n      <th>cardiovasc_death_rate</th>\n      <th>diabetes_prevalence</th>\n      <th>female_smokers</th>\n      <th>male_smokers</th>\n      <th>handwashing_facilities</th>\n      <th>hospital_beds_per_thousand</th>\n      <th>life_expectancy</th>\n      <th>human_development_index</th>\n      <th>Month</th>\n    </tr>\n  </thead>\n  <tbody>\n    <tr>\n      <th>0</th>\n      <td>AFG</td>\n      <td>Asia</td>\n      <td>Afghanistan</td>\n      <td>2020-02-24</td>\n      <td>1.0</td>\n      <td>1.0</td>\n      <td>NaN</td>\n      <td>NaN</td>\n      <td>NaN</td>\n      <td>NaN</td>\n      <td>...</td>\n      <td>NaN</td>\n      <td>597.029</td>\n      <td>9.59</td>\n      <td>NaN</td>\n      <td>NaN</td>\n      <td>37.746</td>\n      <td>0.5</td>\n      <td>64.83</td>\n      <td>0.511</td>\n      <td>2</td>\n    </tr>\n    <tr>\n      <th>1</th>\n      <td>AFG</td>\n      <td>Asia</td>\n      <td>Afghanistan</td>\n      <td>2020-02-25</td>\n      <td>1.0</td>\n      <td>0.0</td>\n      <td>NaN</td>\n      <td>NaN</td>\n      <td>NaN</td>\n      <td>NaN</td>\n      <td>...</td>\n      <td>NaN</td>\n      <td>597.029</td>\n      <td>9.59</td>\n      <td>NaN</td>\n      <td>NaN</td>\n      <td>37.746</td>\n      <td>0.5</td>\n      <td>64.83</td>\n      <td>0.511</td>\n      <td>2</td>\n    </tr>\n    <tr>\n      <th>2</th>\n      <td>AFG</td>\n      <td>Asia</td>\n      <td>Afghanistan</td>\n      <td>2020-02-26</td>\n      <td>1.0</td>\n      <td>0.0</td>\n      <td>NaN</td>\n      <td>NaN</td>\n      <td>NaN</td>\n      <td>NaN</td>\n      <td>...</td>\n      <td>NaN</td>\n      <td>597.029</td>\n      <td>9.59</td>\n      <td>NaN</td>\n      <td>NaN</td>\n      <td>37.746</td>\n      <td>0.5</td>\n      <td>64.83</td>\n      <td>0.511</td>\n      <td>2</td>\n    </tr>\n    <tr>\n      <th>3</th>\n      <td>AFG</td>\n      <td>Asia</td>\n      <td>Afghanistan</td>\n      <td>2020-02-27</td>\n      <td>1.0</td>\n      <td>0.0</td>\n      <td>NaN</td>\n      <td>NaN</td>\n      <td>NaN</td>\n      <td>NaN</td>\n      <td>...</td>\n      <td>NaN</td>\n      <td>597.029</td>\n      <td>9.59</td>\n      <td>NaN</td>\n      <td>NaN</td>\n      <td>37.746</td>\n      <td>0.5</td>\n      <td>64.83</td>\n      <td>0.511</td>\n      <td>2</td>\n    </tr>\n    <tr>\n      <th>4</th>\n      <td>AFG</td>\n      <td>Asia</td>\n      <td>Afghanistan</td>\n      <td>2020-02-28</td>\n      <td>1.0</td>\n      <td>0.0</td>\n      <td>NaN</td>\n      <td>NaN</td>\n      <td>NaN</td>\n      <td>NaN</td>\n      <td>...</td>\n      <td>NaN</td>\n      <td>597.029</td>\n      <td>9.59</td>\n      <td>NaN</td>\n      <td>NaN</td>\n      <td>37.746</td>\n      <td>0.5</td>\n      <td>64.83</td>\n      <td>0.511</td>\n      <td>2</td>\n    </tr>\n  </tbody>\n</table>\n<p>5 rows × 60 columns</p>\n</div>"
     },
     "metadata": {},
     "execution_count": 141
    }
   ],
   "source": [
    "# Extract the month from the 'date' column and add it to the new 'month' column, for sorting later\n",
    "\n",
    "for index, row in covid_2020_df.iterrows():\n",
    "    month, = re.findall(f\"2020-(\\d\\d)-\", row['date'])\n",
    "    covid_2020_df.at[index, 'Month'] = int(month)  \n",
    "\n",
    "covid_2020_df.head()\n"
   ]
  },
  {
   "cell_type": "code",
   "execution_count": 143,
   "metadata": {},
   "outputs": [
    {
     "output_type": "execute_result",
     "data": {
      "text/plain": [
       "    iso_code continent     location        date  total_cases  new_cases  \\\n",
       "312      AFG      Asia  Afghanistan  2021-01-01      51526.0        0.0   \n",
       "313      AFG      Asia  Afghanistan  2021-01-02      51526.0        0.0   \n",
       "314      AFG      Asia  Afghanistan  2021-01-03      51526.0        0.0   \n",
       "315      AFG      Asia  Afghanistan  2021-01-04      53011.0     1485.0   \n",
       "316      AFG      Asia  Afghanistan  2021-01-05      53105.0       94.0   \n",
       "\n",
       "     new_cases_smoothed  total_deaths  new_deaths  new_deaths_smoothed  ...  \\\n",
       "312             102.286        2191.0         0.0                7.429  ...   \n",
       "313              91.429        2191.0         0.0                6.000  ...   \n",
       "314              69.571        2191.0         0.0                4.429  ...   \n",
       "315             247.286        2237.0        46.0                9.000  ...   \n",
       "316             250.714        2244.0         7.0                9.286  ...   \n",
       "\n",
       "     extreme_poverty  cardiovasc_death_rate  diabetes_prevalence  \\\n",
       "312              NaN                597.029                 9.59   \n",
       "313              NaN                597.029                 9.59   \n",
       "314              NaN                597.029                 9.59   \n",
       "315              NaN                597.029                 9.59   \n",
       "316              NaN                597.029                 9.59   \n",
       "\n",
       "     female_smokers  male_smokers  handwashing_facilities  \\\n",
       "312             NaN           NaN                  37.746   \n",
       "313             NaN           NaN                  37.746   \n",
       "314             NaN           NaN                  37.746   \n",
       "315             NaN           NaN                  37.746   \n",
       "316             NaN           NaN                  37.746   \n",
       "\n",
       "     hospital_beds_per_thousand  life_expectancy  human_development_index  \\\n",
       "312                         0.5            64.83                    0.511   \n",
       "313                         0.5            64.83                    0.511   \n",
       "314                         0.5            64.83                    0.511   \n",
       "315                         0.5            64.83                    0.511   \n",
       "316                         0.5            64.83                    0.511   \n",
       "\n",
       "     Month  \n",
       "312      1  \n",
       "313      1  \n",
       "314      1  \n",
       "315      1  \n",
       "316      1  \n",
       "\n",
       "[5 rows x 60 columns]"
      ],
      "text/html": "<div>\n<style scoped>\n    .dataframe tbody tr th:only-of-type {\n        vertical-align: middle;\n    }\n\n    .dataframe tbody tr th {\n        vertical-align: top;\n    }\n\n    .dataframe thead th {\n        text-align: right;\n    }\n</style>\n<table border=\"1\" class=\"dataframe\">\n  <thead>\n    <tr style=\"text-align: right;\">\n      <th></th>\n      <th>iso_code</th>\n      <th>continent</th>\n      <th>location</th>\n      <th>date</th>\n      <th>total_cases</th>\n      <th>new_cases</th>\n      <th>new_cases_smoothed</th>\n      <th>total_deaths</th>\n      <th>new_deaths</th>\n      <th>new_deaths_smoothed</th>\n      <th>...</th>\n      <th>extreme_poverty</th>\n      <th>cardiovasc_death_rate</th>\n      <th>diabetes_prevalence</th>\n      <th>female_smokers</th>\n      <th>male_smokers</th>\n      <th>handwashing_facilities</th>\n      <th>hospital_beds_per_thousand</th>\n      <th>life_expectancy</th>\n      <th>human_development_index</th>\n      <th>Month</th>\n    </tr>\n  </thead>\n  <tbody>\n    <tr>\n      <th>312</th>\n      <td>AFG</td>\n      <td>Asia</td>\n      <td>Afghanistan</td>\n      <td>2021-01-01</td>\n      <td>51526.0</td>\n      <td>0.0</td>\n      <td>102.286</td>\n      <td>2191.0</td>\n      <td>0.0</td>\n      <td>7.429</td>\n      <td>...</td>\n      <td>NaN</td>\n      <td>597.029</td>\n      <td>9.59</td>\n      <td>NaN</td>\n      <td>NaN</td>\n      <td>37.746</td>\n      <td>0.5</td>\n      <td>64.83</td>\n      <td>0.511</td>\n      <td>1</td>\n    </tr>\n    <tr>\n      <th>313</th>\n      <td>AFG</td>\n      <td>Asia</td>\n      <td>Afghanistan</td>\n      <td>2021-01-02</td>\n      <td>51526.0</td>\n      <td>0.0</td>\n      <td>91.429</td>\n      <td>2191.0</td>\n      <td>0.0</td>\n      <td>6.000</td>\n      <td>...</td>\n      <td>NaN</td>\n      <td>597.029</td>\n      <td>9.59</td>\n      <td>NaN</td>\n      <td>NaN</td>\n      <td>37.746</td>\n      <td>0.5</td>\n      <td>64.83</td>\n      <td>0.511</td>\n      <td>1</td>\n    </tr>\n    <tr>\n      <th>314</th>\n      <td>AFG</td>\n      <td>Asia</td>\n      <td>Afghanistan</td>\n      <td>2021-01-03</td>\n      <td>51526.0</td>\n      <td>0.0</td>\n      <td>69.571</td>\n      <td>2191.0</td>\n      <td>0.0</td>\n      <td>4.429</td>\n      <td>...</td>\n      <td>NaN</td>\n      <td>597.029</td>\n      <td>9.59</td>\n      <td>NaN</td>\n      <td>NaN</td>\n      <td>37.746</td>\n      <td>0.5</td>\n      <td>64.83</td>\n      <td>0.511</td>\n      <td>1</td>\n    </tr>\n    <tr>\n      <th>315</th>\n      <td>AFG</td>\n      <td>Asia</td>\n      <td>Afghanistan</td>\n      <td>2021-01-04</td>\n      <td>53011.0</td>\n      <td>1485.0</td>\n      <td>247.286</td>\n      <td>2237.0</td>\n      <td>46.0</td>\n      <td>9.000</td>\n      <td>...</td>\n      <td>NaN</td>\n      <td>597.029</td>\n      <td>9.59</td>\n      <td>NaN</td>\n      <td>NaN</td>\n      <td>37.746</td>\n      <td>0.5</td>\n      <td>64.83</td>\n      <td>0.511</td>\n      <td>1</td>\n    </tr>\n    <tr>\n      <th>316</th>\n      <td>AFG</td>\n      <td>Asia</td>\n      <td>Afghanistan</td>\n      <td>2021-01-05</td>\n      <td>53105.0</td>\n      <td>94.0</td>\n      <td>250.714</td>\n      <td>2244.0</td>\n      <td>7.0</td>\n      <td>9.286</td>\n      <td>...</td>\n      <td>NaN</td>\n      <td>597.029</td>\n      <td>9.59</td>\n      <td>NaN</td>\n      <td>NaN</td>\n      <td>37.746</td>\n      <td>0.5</td>\n      <td>64.83</td>\n      <td>0.511</td>\n      <td>1</td>\n    </tr>\n  </tbody>\n</table>\n<p>5 rows × 60 columns</p>\n</div>"
     },
     "metadata": {},
     "execution_count": 143
    }
   ],
   "source": [
    "\n",
    "for index, row in covid_2021_df.iterrows():\n",
    "    month, = re.findall(f\"2021-(\\d\\d)-\", row['date'])\n",
    "    covid_2021_df.at[index, 'Month'] = int(month)  \n",
    "\n",
    "covid_2021_df.head()\n"
   ]
  },
  {
   "cell_type": "code",
   "execution_count": 144,
   "metadata": {},
   "outputs": [
    {
     "output_type": "execute_result",
     "data": {
      "text/plain": [
       "          location        date  stringency_index  life_expectancy  \\\n",
       "0      Afghanistan  2020-02-24              8.33            64.83   \n",
       "1      Afghanistan  2020-02-25              8.33            64.83   \n",
       "2      Afghanistan  2020-02-26              8.33            64.83   \n",
       "3      Afghanistan  2020-02-27              8.33            64.83   \n",
       "4      Afghanistan  2020-02-28              8.33            64.83   \n",
       "...            ...         ...               ...              ...   \n",
       "84189     Zimbabwe  2020-12-27             69.44            61.49   \n",
       "84190     Zimbabwe  2020-12-28             69.44            61.49   \n",
       "84191     Zimbabwe  2020-12-29             69.44            61.49   \n",
       "84192     Zimbabwe  2020-12-30             69.44            61.49   \n",
       "84193     Zimbabwe  2020-12-31             69.44            61.49   \n",
       "\n",
       "       human_development_index  total_cases  new_cases  total_deaths  \\\n",
       "0                        0.511          1.0        1.0           NaN   \n",
       "1                        0.511          1.0        0.0           NaN   \n",
       "2                        0.511          1.0        0.0           NaN   \n",
       "3                        0.511          1.0        0.0           NaN   \n",
       "4                        0.511          1.0        0.0           NaN   \n",
       "...                        ...          ...        ...           ...   \n",
       "84189                    0.571      13077.0      114.0         349.0   \n",
       "84190                    0.571      13148.0       71.0         354.0   \n",
       "84191                    0.571      13325.0      177.0         359.0   \n",
       "84192                    0.571      13625.0      300.0         360.0   \n",
       "84193                    0.571      13867.0      242.0         363.0   \n",
       "\n",
       "       new_deaths Month  \n",
       "0             NaN     2  \n",
       "1             NaN     2  \n",
       "2             NaN     2  \n",
       "3             NaN     2  \n",
       "4             NaN     2  \n",
       "...           ...   ...  \n",
       "84189         8.0    12  \n",
       "84190         5.0    12  \n",
       "84191         5.0    12  \n",
       "84192         1.0    12  \n",
       "84193         3.0    12  \n",
       "\n",
       "[59798 rows x 10 columns]"
      ],
      "text/html": "<div>\n<style scoped>\n    .dataframe tbody tr th:only-of-type {\n        vertical-align: middle;\n    }\n\n    .dataframe tbody tr th {\n        vertical-align: top;\n    }\n\n    .dataframe thead th {\n        text-align: right;\n    }\n</style>\n<table border=\"1\" class=\"dataframe\">\n  <thead>\n    <tr style=\"text-align: right;\">\n      <th></th>\n      <th>location</th>\n      <th>date</th>\n      <th>stringency_index</th>\n      <th>life_expectancy</th>\n      <th>human_development_index</th>\n      <th>total_cases</th>\n      <th>new_cases</th>\n      <th>total_deaths</th>\n      <th>new_deaths</th>\n      <th>Month</th>\n    </tr>\n  </thead>\n  <tbody>\n    <tr>\n      <th>0</th>\n      <td>Afghanistan</td>\n      <td>2020-02-24</td>\n      <td>8.33</td>\n      <td>64.83</td>\n      <td>0.511</td>\n      <td>1.0</td>\n      <td>1.0</td>\n      <td>NaN</td>\n      <td>NaN</td>\n      <td>2</td>\n    </tr>\n    <tr>\n      <th>1</th>\n      <td>Afghanistan</td>\n      <td>2020-02-25</td>\n      <td>8.33</td>\n      <td>64.83</td>\n      <td>0.511</td>\n      <td>1.0</td>\n      <td>0.0</td>\n      <td>NaN</td>\n      <td>NaN</td>\n      <td>2</td>\n    </tr>\n    <tr>\n      <th>2</th>\n      <td>Afghanistan</td>\n      <td>2020-02-26</td>\n      <td>8.33</td>\n      <td>64.83</td>\n      <td>0.511</td>\n      <td>1.0</td>\n      <td>0.0</td>\n      <td>NaN</td>\n      <td>NaN</td>\n      <td>2</td>\n    </tr>\n    <tr>\n      <th>3</th>\n      <td>Afghanistan</td>\n      <td>2020-02-27</td>\n      <td>8.33</td>\n      <td>64.83</td>\n      <td>0.511</td>\n      <td>1.0</td>\n      <td>0.0</td>\n      <td>NaN</td>\n      <td>NaN</td>\n      <td>2</td>\n    </tr>\n    <tr>\n      <th>4</th>\n      <td>Afghanistan</td>\n      <td>2020-02-28</td>\n      <td>8.33</td>\n      <td>64.83</td>\n      <td>0.511</td>\n      <td>1.0</td>\n      <td>0.0</td>\n      <td>NaN</td>\n      <td>NaN</td>\n      <td>2</td>\n    </tr>\n    <tr>\n      <th>...</th>\n      <td>...</td>\n      <td>...</td>\n      <td>...</td>\n      <td>...</td>\n      <td>...</td>\n      <td>...</td>\n      <td>...</td>\n      <td>...</td>\n      <td>...</td>\n      <td>...</td>\n    </tr>\n    <tr>\n      <th>84189</th>\n      <td>Zimbabwe</td>\n      <td>2020-12-27</td>\n      <td>69.44</td>\n      <td>61.49</td>\n      <td>0.571</td>\n      <td>13077.0</td>\n      <td>114.0</td>\n      <td>349.0</td>\n      <td>8.0</td>\n      <td>12</td>\n    </tr>\n    <tr>\n      <th>84190</th>\n      <td>Zimbabwe</td>\n      <td>2020-12-28</td>\n      <td>69.44</td>\n      <td>61.49</td>\n      <td>0.571</td>\n      <td>13148.0</td>\n      <td>71.0</td>\n      <td>354.0</td>\n      <td>5.0</td>\n      <td>12</td>\n    </tr>\n    <tr>\n      <th>84191</th>\n      <td>Zimbabwe</td>\n      <td>2020-12-29</td>\n      <td>69.44</td>\n      <td>61.49</td>\n      <td>0.571</td>\n      <td>13325.0</td>\n      <td>177.0</td>\n      <td>359.0</td>\n      <td>5.0</td>\n      <td>12</td>\n    </tr>\n    <tr>\n      <th>84192</th>\n      <td>Zimbabwe</td>\n      <td>2020-12-30</td>\n      <td>69.44</td>\n      <td>61.49</td>\n      <td>0.571</td>\n      <td>13625.0</td>\n      <td>300.0</td>\n      <td>360.0</td>\n      <td>1.0</td>\n      <td>12</td>\n    </tr>\n    <tr>\n      <th>84193</th>\n      <td>Zimbabwe</td>\n      <td>2020-12-31</td>\n      <td>69.44</td>\n      <td>61.49</td>\n      <td>0.571</td>\n      <td>13867.0</td>\n      <td>242.0</td>\n      <td>363.0</td>\n      <td>3.0</td>\n      <td>12</td>\n    </tr>\n  </tbody>\n</table>\n<p>59798 rows × 10 columns</p>\n</div>"
     },
     "metadata": {},
     "execution_count": 144
    }
   ],
   "source": [
    "new_covid_2020_df = covid_2020_df.loc[:,[\"location\",\"date\",\"stringency_index\",\"life_expectancy\",\"human_development_index\",\"total_cases\",\"new_cases\",\"total_deaths\",\"new_deaths\",\"Month\"]]\n",
    "new_covid_2020_df\n"
   ]
  },
  {
   "cell_type": "code",
   "execution_count": 145,
   "metadata": {},
   "outputs": [
    {
     "output_type": "execute_result",
     "data": {
      "text/plain": [
       "          location        date  stringency_index  life_expectancy  \\\n",
       "27     Afghanistan  2020-03-22             41.67            64.83   \n",
       "28     Afghanistan  2020-03-23             41.67            64.83   \n",
       "29     Afghanistan  2020-03-24             50.93            64.83   \n",
       "30     Afghanistan  2020-03-25             59.26            64.83   \n",
       "31     Afghanistan  2020-03-26             59.26            64.83   \n",
       "...            ...         ...               ...              ...   \n",
       "84189     Zimbabwe  2020-12-27             69.44            61.49   \n",
       "84190     Zimbabwe  2020-12-28             69.44            61.49   \n",
       "84191     Zimbabwe  2020-12-29             69.44            61.49   \n",
       "84192     Zimbabwe  2020-12-30             69.44            61.49   \n",
       "84193     Zimbabwe  2020-12-31             69.44            61.49   \n",
       "\n",
       "       human_development_index  total_cases  new_cases  total_deaths  \\\n",
       "27                       0.511         34.0        4.0           1.0   \n",
       "28                       0.511         41.0        7.0           1.0   \n",
       "29                       0.511         43.0        2.0           1.0   \n",
       "30                       0.511         76.0       33.0           2.0   \n",
       "31                       0.511         80.0        4.0           3.0   \n",
       "...                        ...          ...        ...           ...   \n",
       "84189                    0.571      13077.0      114.0         349.0   \n",
       "84190                    0.571      13148.0       71.0         354.0   \n",
       "84191                    0.571      13325.0      177.0         359.0   \n",
       "84192                    0.571      13625.0      300.0         360.0   \n",
       "84193                    0.571      13867.0      242.0         363.0   \n",
       "\n",
       "       new_deaths Month  \n",
       "27            1.0     3  \n",
       "28            0.0     3  \n",
       "29            0.0     3  \n",
       "30            1.0     3  \n",
       "31            1.0     3  \n",
       "...           ...   ...  \n",
       "84189         8.0    12  \n",
       "84190         5.0    12  \n",
       "84191         5.0    12  \n",
       "84192         1.0    12  \n",
       "84193         3.0    12  \n",
       "\n",
       "[43792 rows x 10 columns]"
      ],
      "text/html": "<div>\n<style scoped>\n    .dataframe tbody tr th:only-of-type {\n        vertical-align: middle;\n    }\n\n    .dataframe tbody tr th {\n        vertical-align: top;\n    }\n\n    .dataframe thead th {\n        text-align: right;\n    }\n</style>\n<table border=\"1\" class=\"dataframe\">\n  <thead>\n    <tr style=\"text-align: right;\">\n      <th></th>\n      <th>location</th>\n      <th>date</th>\n      <th>stringency_index</th>\n      <th>life_expectancy</th>\n      <th>human_development_index</th>\n      <th>total_cases</th>\n      <th>new_cases</th>\n      <th>total_deaths</th>\n      <th>new_deaths</th>\n      <th>Month</th>\n    </tr>\n  </thead>\n  <tbody>\n    <tr>\n      <th>27</th>\n      <td>Afghanistan</td>\n      <td>2020-03-22</td>\n      <td>41.67</td>\n      <td>64.83</td>\n      <td>0.511</td>\n      <td>34.0</td>\n      <td>4.0</td>\n      <td>1.0</td>\n      <td>1.0</td>\n      <td>3</td>\n    </tr>\n    <tr>\n      <th>28</th>\n      <td>Afghanistan</td>\n      <td>2020-03-23</td>\n      <td>41.67</td>\n      <td>64.83</td>\n      <td>0.511</td>\n      <td>41.0</td>\n      <td>7.0</td>\n      <td>1.0</td>\n      <td>0.0</td>\n      <td>3</td>\n    </tr>\n    <tr>\n      <th>29</th>\n      <td>Afghanistan</td>\n      <td>2020-03-24</td>\n      <td>50.93</td>\n      <td>64.83</td>\n      <td>0.511</td>\n      <td>43.0</td>\n      <td>2.0</td>\n      <td>1.0</td>\n      <td>0.0</td>\n      <td>3</td>\n    </tr>\n    <tr>\n      <th>30</th>\n      <td>Afghanistan</td>\n      <td>2020-03-25</td>\n      <td>59.26</td>\n      <td>64.83</td>\n      <td>0.511</td>\n      <td>76.0</td>\n      <td>33.0</td>\n      <td>2.0</td>\n      <td>1.0</td>\n      <td>3</td>\n    </tr>\n    <tr>\n      <th>31</th>\n      <td>Afghanistan</td>\n      <td>2020-03-26</td>\n      <td>59.26</td>\n      <td>64.83</td>\n      <td>0.511</td>\n      <td>80.0</td>\n      <td>4.0</td>\n      <td>3.0</td>\n      <td>1.0</td>\n      <td>3</td>\n    </tr>\n    <tr>\n      <th>...</th>\n      <td>...</td>\n      <td>...</td>\n      <td>...</td>\n      <td>...</td>\n      <td>...</td>\n      <td>...</td>\n      <td>...</td>\n      <td>...</td>\n      <td>...</td>\n      <td>...</td>\n    </tr>\n    <tr>\n      <th>84189</th>\n      <td>Zimbabwe</td>\n      <td>2020-12-27</td>\n      <td>69.44</td>\n      <td>61.49</td>\n      <td>0.571</td>\n      <td>13077.0</td>\n      <td>114.0</td>\n      <td>349.0</td>\n      <td>8.0</td>\n      <td>12</td>\n    </tr>\n    <tr>\n      <th>84190</th>\n      <td>Zimbabwe</td>\n      <td>2020-12-28</td>\n      <td>69.44</td>\n      <td>61.49</td>\n      <td>0.571</td>\n      <td>13148.0</td>\n      <td>71.0</td>\n      <td>354.0</td>\n      <td>5.0</td>\n      <td>12</td>\n    </tr>\n    <tr>\n      <th>84191</th>\n      <td>Zimbabwe</td>\n      <td>2020-12-29</td>\n      <td>69.44</td>\n      <td>61.49</td>\n      <td>0.571</td>\n      <td>13325.0</td>\n      <td>177.0</td>\n      <td>359.0</td>\n      <td>5.0</td>\n      <td>12</td>\n    </tr>\n    <tr>\n      <th>84192</th>\n      <td>Zimbabwe</td>\n      <td>2020-12-30</td>\n      <td>69.44</td>\n      <td>61.49</td>\n      <td>0.571</td>\n      <td>13625.0</td>\n      <td>300.0</td>\n      <td>360.0</td>\n      <td>1.0</td>\n      <td>12</td>\n    </tr>\n    <tr>\n      <th>84193</th>\n      <td>Zimbabwe</td>\n      <td>2020-12-31</td>\n      <td>69.44</td>\n      <td>61.49</td>\n      <td>0.571</td>\n      <td>13867.0</td>\n      <td>242.0</td>\n      <td>363.0</td>\n      <td>3.0</td>\n      <td>12</td>\n    </tr>\n  </tbody>\n</table>\n<p>43792 rows × 10 columns</p>\n</div>"
     },
     "metadata": {},
     "execution_count": 145
    }
   ],
   "source": [
    "new_covid_2020_df = new_covid_2020_df.dropna()\n",
    "new_covid_2020_df"
   ]
  },
  {
   "cell_type": "code",
   "execution_count": 146,
   "metadata": {},
   "outputs": [
    {
     "output_type": "execute_result",
     "data": {
      "text/plain": [
       "       stringency_index  life_expectancy  human_development_index  \\\n",
       "count      43792.000000     43792.000000             43792.000000   \n",
       "mean          62.181181        73.255159                 0.734245   \n",
       "std           19.965028         7.571194                 0.153972   \n",
       "min            0.000000        53.280000                 0.394000   \n",
       "25%           48.150000        67.270000                 0.611000   \n",
       "50%           64.350000        74.790000                 0.759000   \n",
       "75%           78.240000        78.740000                 0.854000   \n",
       "max          100.000000        84.630000                 0.957000   \n",
       "\n",
       "        total_cases      new_cases   total_deaths    new_deaths  \n",
       "count  4.379200e+04   43792.000000   43792.000000  43792.000000  \n",
       "mean   1.736439e+05    1880.033842    5088.069442     41.488902  \n",
       "std    8.570113e+05    9262.193404   20465.312429    167.927013  \n",
       "min    1.000000e+00  -46076.000000       1.000000  -1918.000000  \n",
       "25%    1.728000e+03       9.000000      33.000000      0.000000  \n",
       "50%    9.767000e+03     100.000000     181.000000      1.000000  \n",
       "75%    7.378100e+04     688.000000    1483.000000     12.000000  \n",
       "max    2.009936e+07  251969.000000  352085.000000   4143.000000  "
      ],
      "text/html": "<div>\n<style scoped>\n    .dataframe tbody tr th:only-of-type {\n        vertical-align: middle;\n    }\n\n    .dataframe tbody tr th {\n        vertical-align: top;\n    }\n\n    .dataframe thead th {\n        text-align: right;\n    }\n</style>\n<table border=\"1\" class=\"dataframe\">\n  <thead>\n    <tr style=\"text-align: right;\">\n      <th></th>\n      <th>stringency_index</th>\n      <th>life_expectancy</th>\n      <th>human_development_index</th>\n      <th>total_cases</th>\n      <th>new_cases</th>\n      <th>total_deaths</th>\n      <th>new_deaths</th>\n    </tr>\n  </thead>\n  <tbody>\n    <tr>\n      <th>count</th>\n      <td>43792.000000</td>\n      <td>43792.000000</td>\n      <td>43792.000000</td>\n      <td>4.379200e+04</td>\n      <td>43792.000000</td>\n      <td>43792.000000</td>\n      <td>43792.000000</td>\n    </tr>\n    <tr>\n      <th>mean</th>\n      <td>62.181181</td>\n      <td>73.255159</td>\n      <td>0.734245</td>\n      <td>1.736439e+05</td>\n      <td>1880.033842</td>\n      <td>5088.069442</td>\n      <td>41.488902</td>\n    </tr>\n    <tr>\n      <th>std</th>\n      <td>19.965028</td>\n      <td>7.571194</td>\n      <td>0.153972</td>\n      <td>8.570113e+05</td>\n      <td>9262.193404</td>\n      <td>20465.312429</td>\n      <td>167.927013</td>\n    </tr>\n    <tr>\n      <th>min</th>\n      <td>0.000000</td>\n      <td>53.280000</td>\n      <td>0.394000</td>\n      <td>1.000000e+00</td>\n      <td>-46076.000000</td>\n      <td>1.000000</td>\n      <td>-1918.000000</td>\n    </tr>\n    <tr>\n      <th>25%</th>\n      <td>48.150000</td>\n      <td>67.270000</td>\n      <td>0.611000</td>\n      <td>1.728000e+03</td>\n      <td>9.000000</td>\n      <td>33.000000</td>\n      <td>0.000000</td>\n    </tr>\n    <tr>\n      <th>50%</th>\n      <td>64.350000</td>\n      <td>74.790000</td>\n      <td>0.759000</td>\n      <td>9.767000e+03</td>\n      <td>100.000000</td>\n      <td>181.000000</td>\n      <td>1.000000</td>\n    </tr>\n    <tr>\n      <th>75%</th>\n      <td>78.240000</td>\n      <td>78.740000</td>\n      <td>0.854000</td>\n      <td>7.378100e+04</td>\n      <td>688.000000</td>\n      <td>1483.000000</td>\n      <td>12.000000</td>\n    </tr>\n    <tr>\n      <th>max</th>\n      <td>100.000000</td>\n      <td>84.630000</td>\n      <td>0.957000</td>\n      <td>2.009936e+07</td>\n      <td>251969.000000</td>\n      <td>352085.000000</td>\n      <td>4143.000000</td>\n    </tr>\n  </tbody>\n</table>\n</div>"
     },
     "metadata": {},
     "execution_count": 146
    }
   ],
   "source": [
    "# Stat¡scs of stringency\n",
    "\n",
    "new_covid_2020_df.describe()"
   ]
  },
  {
   "cell_type": "code",
   "execution_count": 155,
   "metadata": {},
   "outputs": [
    {
     "output_type": "execute_result",
     "data": {
      "text/plain": [
       "                        location        date  life_expectancy  \\\n",
       "stringency_index                                                \n",
       "0.00                    Thailand  2020-03-14            77.15   \n",
       "2.78                      Mexico  2020-03-20            82.43   \n",
       "5.56               United States  2020-04-03            82.66   \n",
       "6.48                    Tanzania  2020-12-31            65.46   \n",
       "8.33               United States  2020-12-31            78.86   \n",
       "9.26                 Afghanistan  2020-11-08            64.83   \n",
       "11.11              United States  2020-09-30            83.56   \n",
       "12.04                   Tanzania  2020-12-31            65.46   \n",
       "12.96             United Kingdom  2020-04-05            81.32   \n",
       "13.89                     France  2020-12-31            82.66   \n",
       "14.81                      Niger  2020-12-31            82.25   \n",
       "\n",
       "                  human_development_index  total_cases  new_cases  \\\n",
       "stringency_index                                                    \n",
       "0.00                                0.783        109.0       34.0   \n",
       "2.78                                0.929        203.0       46.0   \n",
       "5.56                                0.926        351.0       47.0   \n",
       "6.48                                0.529        509.0        0.0   \n",
       "8.33                                0.926       6046.0      141.0   \n",
       "9.26                                0.511      42159.0      132.0   \n",
       "11.11                               0.955       5170.0      489.0   \n",
       "12.04                               0.529      51526.0      298.0   \n",
       "12.96                               0.932       3077.0      480.0   \n",
       "13.89                               0.929       6707.0      315.0   \n",
       "14.81                               0.916       5483.0      163.0   \n",
       "\n",
       "                  total_deaths  new_deaths  Month  \n",
       "stringency_index                                   \n",
       "0.00                       2.0         2.0      3  \n",
       "2.78                       4.0         2.0      3  \n",
       "5.56                       4.0         1.0      4  \n",
       "6.48                      21.0         0.0     12  \n",
       "8.33                     165.0         2.0     12  \n",
       "9.26                    1565.0         6.0     11  \n",
       "11.11                    151.0         7.0      9  \n",
       "12.04                   2191.0        27.0     12  \n",
       "12.96                     43.0        19.0      4  \n",
       "13.89                     85.0         4.0     12  \n",
       "14.81                    111.0         1.0     12  "
      ],
      "text/html": "<div>\n<style scoped>\n    .dataframe tbody tr th:only-of-type {\n        vertical-align: middle;\n    }\n\n    .dataframe tbody tr th {\n        vertical-align: top;\n    }\n\n    .dataframe thead th {\n        text-align: right;\n    }\n</style>\n<table border=\"1\" class=\"dataframe\">\n  <thead>\n    <tr style=\"text-align: right;\">\n      <th></th>\n      <th>location</th>\n      <th>date</th>\n      <th>life_expectancy</th>\n      <th>human_development_index</th>\n      <th>total_cases</th>\n      <th>new_cases</th>\n      <th>total_deaths</th>\n      <th>new_deaths</th>\n      <th>Month</th>\n    </tr>\n    <tr>\n      <th>stringency_index</th>\n      <th></th>\n      <th></th>\n      <th></th>\n      <th></th>\n      <th></th>\n      <th></th>\n      <th></th>\n      <th></th>\n      <th></th>\n    </tr>\n  </thead>\n  <tbody>\n    <tr>\n      <th>0.00</th>\n      <td>Thailand</td>\n      <td>2020-03-14</td>\n      <td>77.15</td>\n      <td>0.783</td>\n      <td>109.0</td>\n      <td>34.0</td>\n      <td>2.0</td>\n      <td>2.0</td>\n      <td>3</td>\n    </tr>\n    <tr>\n      <th>2.78</th>\n      <td>Mexico</td>\n      <td>2020-03-20</td>\n      <td>82.43</td>\n      <td>0.929</td>\n      <td>203.0</td>\n      <td>46.0</td>\n      <td>4.0</td>\n      <td>2.0</td>\n      <td>3</td>\n    </tr>\n    <tr>\n      <th>5.56</th>\n      <td>United States</td>\n      <td>2020-04-03</td>\n      <td>82.66</td>\n      <td>0.926</td>\n      <td>351.0</td>\n      <td>47.0</td>\n      <td>4.0</td>\n      <td>1.0</td>\n      <td>4</td>\n    </tr>\n    <tr>\n      <th>6.48</th>\n      <td>Tanzania</td>\n      <td>2020-12-31</td>\n      <td>65.46</td>\n      <td>0.529</td>\n      <td>509.0</td>\n      <td>0.0</td>\n      <td>21.0</td>\n      <td>0.0</td>\n      <td>12</td>\n    </tr>\n    <tr>\n      <th>8.33</th>\n      <td>United States</td>\n      <td>2020-12-31</td>\n      <td>78.86</td>\n      <td>0.926</td>\n      <td>6046.0</td>\n      <td>141.0</td>\n      <td>165.0</td>\n      <td>2.0</td>\n      <td>12</td>\n    </tr>\n    <tr>\n      <th>9.26</th>\n      <td>Afghanistan</td>\n      <td>2020-11-08</td>\n      <td>64.83</td>\n      <td>0.511</td>\n      <td>42159.0</td>\n      <td>132.0</td>\n      <td>1565.0</td>\n      <td>6.0</td>\n      <td>11</td>\n    </tr>\n    <tr>\n      <th>11.11</th>\n      <td>United States</td>\n      <td>2020-09-30</td>\n      <td>83.56</td>\n      <td>0.955</td>\n      <td>5170.0</td>\n      <td>489.0</td>\n      <td>151.0</td>\n      <td>7.0</td>\n      <td>9</td>\n    </tr>\n    <tr>\n      <th>12.04</th>\n      <td>Tanzania</td>\n      <td>2020-12-31</td>\n      <td>65.46</td>\n      <td>0.529</td>\n      <td>51526.0</td>\n      <td>298.0</td>\n      <td>2191.0</td>\n      <td>27.0</td>\n      <td>12</td>\n    </tr>\n    <tr>\n      <th>12.96</th>\n      <td>United Kingdom</td>\n      <td>2020-04-05</td>\n      <td>81.32</td>\n      <td>0.932</td>\n      <td>3077.0</td>\n      <td>480.0</td>\n      <td>43.0</td>\n      <td>19.0</td>\n      <td>4</td>\n    </tr>\n    <tr>\n      <th>13.89</th>\n      <td>France</td>\n      <td>2020-12-31</td>\n      <td>82.66</td>\n      <td>0.929</td>\n      <td>6707.0</td>\n      <td>315.0</td>\n      <td>85.0</td>\n      <td>4.0</td>\n      <td>12</td>\n    </tr>\n    <tr>\n      <th>14.81</th>\n      <td>Niger</td>\n      <td>2020-12-31</td>\n      <td>82.25</td>\n      <td>0.916</td>\n      <td>5483.0</td>\n      <td>163.0</td>\n      <td>111.0</td>\n      <td>1.0</td>\n      <td>12</td>\n    </tr>\n  </tbody>\n</table>\n</div>"
     },
     "metadata": {},
     "execution_count": 155
    }
   ],
   "source": [
    "grouped_df= new_covid_2020_df.groupby(\"stringency_index\").max()\n",
    "grouped_df.head(11)"
   ]
  },
  {
   "cell_type": "code",
   "execution_count": 156,
   "metadata": {},
   "outputs": [
    {
     "output_type": "execute_result",
     "data": {
      "text/plain": [
       "                        location        date  life_expectancy  \\\n",
       "stringency_index                                                \n",
       "0.00                    Thailand  2020-03-14            77.15   \n",
       "2.78                      Mexico  2020-03-20            82.43   \n",
       "5.56               United States  2020-04-03            82.66   \n",
       "6.48                    Tanzania  2020-12-31            65.46   \n",
       "8.33               United States  2020-12-31            78.86   \n",
       "9.26                 Afghanistan  2020-11-08            64.83   \n",
       "11.11              United States  2020-09-30            83.56   \n",
       "12.04                   Tanzania  2020-12-31            65.46   \n",
       "12.96             United Kingdom  2020-04-05            81.32   \n",
       "13.89                     France  2020-12-31            82.66   \n",
       "\n",
       "                  human_development_index  total_cases  new_cases  \\\n",
       "stringency_index                                                    \n",
       "0.00                                0.783        109.0       34.0   \n",
       "2.78                                0.929        203.0       46.0   \n",
       "5.56                                0.926        351.0       47.0   \n",
       "6.48                                0.529        509.0        0.0   \n",
       "8.33                                0.926       6046.0      141.0   \n",
       "9.26                                0.511      42159.0      132.0   \n",
       "11.11                               0.955       5170.0      489.0   \n",
       "12.04                               0.529      51526.0      298.0   \n",
       "12.96                               0.932       3077.0      480.0   \n",
       "13.89                               0.929       6707.0      315.0   \n",
       "\n",
       "                  total_deaths  new_deaths  Month  \n",
       "stringency_index                                   \n",
       "0.00                       2.0         2.0      3  \n",
       "2.78                       4.0         2.0      3  \n",
       "5.56                       4.0         1.0      4  \n",
       "6.48                      21.0         0.0     12  \n",
       "8.33                     165.0         2.0     12  \n",
       "9.26                    1565.0         6.0     11  \n",
       "11.11                    151.0         7.0      9  \n",
       "12.04                   2191.0        27.0     12  \n",
       "12.96                     43.0        19.0      4  \n",
       "13.89                     85.0         4.0     12  "
      ],
      "text/html": "<div>\n<style scoped>\n    .dataframe tbody tr th:only-of-type {\n        vertical-align: middle;\n    }\n\n    .dataframe tbody tr th {\n        vertical-align: top;\n    }\n\n    .dataframe thead th {\n        text-align: right;\n    }\n</style>\n<table border=\"1\" class=\"dataframe\">\n  <thead>\n    <tr style=\"text-align: right;\">\n      <th></th>\n      <th>location</th>\n      <th>date</th>\n      <th>life_expectancy</th>\n      <th>human_development_index</th>\n      <th>total_cases</th>\n      <th>new_cases</th>\n      <th>total_deaths</th>\n      <th>new_deaths</th>\n      <th>Month</th>\n    </tr>\n    <tr>\n      <th>stringency_index</th>\n      <th></th>\n      <th></th>\n      <th></th>\n      <th></th>\n      <th></th>\n      <th></th>\n      <th></th>\n      <th></th>\n      <th></th>\n    </tr>\n  </thead>\n  <tbody>\n    <tr>\n      <th>0.00</th>\n      <td>Thailand</td>\n      <td>2020-03-14</td>\n      <td>77.15</td>\n      <td>0.783</td>\n      <td>109.0</td>\n      <td>34.0</td>\n      <td>2.0</td>\n      <td>2.0</td>\n      <td>3</td>\n    </tr>\n    <tr>\n      <th>2.78</th>\n      <td>Mexico</td>\n      <td>2020-03-20</td>\n      <td>82.43</td>\n      <td>0.929</td>\n      <td>203.0</td>\n      <td>46.0</td>\n      <td>4.0</td>\n      <td>2.0</td>\n      <td>3</td>\n    </tr>\n    <tr>\n      <th>5.56</th>\n      <td>United States</td>\n      <td>2020-04-03</td>\n      <td>82.66</td>\n      <td>0.926</td>\n      <td>351.0</td>\n      <td>47.0</td>\n      <td>4.0</td>\n      <td>1.0</td>\n      <td>4</td>\n    </tr>\n    <tr>\n      <th>6.48</th>\n      <td>Tanzania</td>\n      <td>2020-12-31</td>\n      <td>65.46</td>\n      <td>0.529</td>\n      <td>509.0</td>\n      <td>0.0</td>\n      <td>21.0</td>\n      <td>0.0</td>\n      <td>12</td>\n    </tr>\n    <tr>\n      <th>8.33</th>\n      <td>United States</td>\n      <td>2020-12-31</td>\n      <td>78.86</td>\n      <td>0.926</td>\n      <td>6046.0</td>\n      <td>141.0</td>\n      <td>165.0</td>\n      <td>2.0</td>\n      <td>12</td>\n    </tr>\n    <tr>\n      <th>9.26</th>\n      <td>Afghanistan</td>\n      <td>2020-11-08</td>\n      <td>64.83</td>\n      <td>0.511</td>\n      <td>42159.0</td>\n      <td>132.0</td>\n      <td>1565.0</td>\n      <td>6.0</td>\n      <td>11</td>\n    </tr>\n    <tr>\n      <th>11.11</th>\n      <td>United States</td>\n      <td>2020-09-30</td>\n      <td>83.56</td>\n      <td>0.955</td>\n      <td>5170.0</td>\n      <td>489.0</td>\n      <td>151.0</td>\n      <td>7.0</td>\n      <td>9</td>\n    </tr>\n    <tr>\n      <th>12.04</th>\n      <td>Tanzania</td>\n      <td>2020-12-31</td>\n      <td>65.46</td>\n      <td>0.529</td>\n      <td>51526.0</td>\n      <td>298.0</td>\n      <td>2191.0</td>\n      <td>27.0</td>\n      <td>12</td>\n    </tr>\n    <tr>\n      <th>12.96</th>\n      <td>United Kingdom</td>\n      <td>2020-04-05</td>\n      <td>81.32</td>\n      <td>0.932</td>\n      <td>3077.0</td>\n      <td>480.0</td>\n      <td>43.0</td>\n      <td>19.0</td>\n      <td>4</td>\n    </tr>\n    <tr>\n      <th>13.89</th>\n      <td>France</td>\n      <td>2020-12-31</td>\n      <td>82.66</td>\n      <td>0.929</td>\n      <td>6707.0</td>\n      <td>315.0</td>\n      <td>85.0</td>\n      <td>4.0</td>\n      <td>12</td>\n    </tr>\n  </tbody>\n</table>\n</div>"
     },
     "metadata": {},
     "execution_count": 156
    }
   ],
   "source": [
    "top_higher_stringency = grouped_df.sort_values(by=['stringency_index'], ascending=True)\n",
    "top_higher_stringency"
   ]
  },
  {
   "cell_type": "code",
   "execution_count": 160,
   "metadata": {},
   "outputs": [
    {
     "output_type": "execute_result",
     "data": {
      "text/plain": [
       "      location        date  stringency_index  life_expectancy  \\\n",
       "37817    Italy  2020-02-21             27.78            83.51   \n",
       "37818    Italy  2020-02-22             37.04            83.51   \n",
       "37819    Italy  2020-02-23             69.91            83.51   \n",
       "37820    Italy  2020-02-24             69.91            83.51   \n",
       "37821    Italy  2020-02-25             69.91            83.51   \n",
       "...        ...         ...               ...              ...   \n",
       "38127    Italy  2020-12-27             84.26            83.51   \n",
       "38128    Italy  2020-12-28             80.56            83.51   \n",
       "38129    Italy  2020-12-29             80.56            83.51   \n",
       "38130    Italy  2020-12-30             80.56            83.51   \n",
       "38131    Italy  2020-12-31             84.26            83.51   \n",
       "\n",
       "       human_development_index  total_cases  new_cases  total_deaths  \\\n",
       "37817                    0.892         20.0       17.0           1.0   \n",
       "37818                    0.892         62.0       42.0           2.0   \n",
       "37819                    0.892        155.0       93.0           3.0   \n",
       "37820                    0.892        229.0       74.0           7.0   \n",
       "37821                    0.892        322.0       93.0          10.0   \n",
       "...                        ...          ...        ...           ...   \n",
       "38127                    0.892    2047696.0     8937.0       71925.0   \n",
       "38128                    0.892    2056277.0     8581.0       72370.0   \n",
       "38129                    0.892    2067487.0    11210.0       73029.0   \n",
       "38130                    0.892    2083689.0    16202.0       73604.0   \n",
       "38131                    0.892    2107166.0    23477.0       74159.0   \n",
       "\n",
       "       new_deaths Month  \n",
       "37817         1.0     2  \n",
       "37818         1.0     2  \n",
       "37819         1.0     2  \n",
       "37820         4.0     2  \n",
       "37821         3.0     2  \n",
       "...           ...   ...  \n",
       "38127       305.0    12  \n",
       "38128       445.0    12  \n",
       "38129       659.0    12  \n",
       "38130       575.0    12  \n",
       "38131       555.0    12  \n",
       "\n",
       "[315 rows x 10 columns]"
      ],
      "text/html": "<div>\n<style scoped>\n    .dataframe tbody tr th:only-of-type {\n        vertical-align: middle;\n    }\n\n    .dataframe tbody tr th {\n        vertical-align: top;\n    }\n\n    .dataframe thead th {\n        text-align: right;\n    }\n</style>\n<table border=\"1\" class=\"dataframe\">\n  <thead>\n    <tr style=\"text-align: right;\">\n      <th></th>\n      <th>location</th>\n      <th>date</th>\n      <th>stringency_index</th>\n      <th>life_expectancy</th>\n      <th>human_development_index</th>\n      <th>total_cases</th>\n      <th>new_cases</th>\n      <th>total_deaths</th>\n      <th>new_deaths</th>\n      <th>Month</th>\n    </tr>\n  </thead>\n  <tbody>\n    <tr>\n      <th>37817</th>\n      <td>Italy</td>\n      <td>2020-02-21</td>\n      <td>27.78</td>\n      <td>83.51</td>\n      <td>0.892</td>\n      <td>20.0</td>\n      <td>17.0</td>\n      <td>1.0</td>\n      <td>1.0</td>\n      <td>2</td>\n    </tr>\n    <tr>\n      <th>37818</th>\n      <td>Italy</td>\n      <td>2020-02-22</td>\n      <td>37.04</td>\n      <td>83.51</td>\n      <td>0.892</td>\n      <td>62.0</td>\n      <td>42.0</td>\n      <td>2.0</td>\n      <td>1.0</td>\n      <td>2</td>\n    </tr>\n    <tr>\n      <th>37819</th>\n      <td>Italy</td>\n      <td>2020-02-23</td>\n      <td>69.91</td>\n      <td>83.51</td>\n      <td>0.892</td>\n      <td>155.0</td>\n      <td>93.0</td>\n      <td>3.0</td>\n      <td>1.0</td>\n      <td>2</td>\n    </tr>\n    <tr>\n      <th>37820</th>\n      <td>Italy</td>\n      <td>2020-02-24</td>\n      <td>69.91</td>\n      <td>83.51</td>\n      <td>0.892</td>\n      <td>229.0</td>\n      <td>74.0</td>\n      <td>7.0</td>\n      <td>4.0</td>\n      <td>2</td>\n    </tr>\n    <tr>\n      <th>37821</th>\n      <td>Italy</td>\n      <td>2020-02-25</td>\n      <td>69.91</td>\n      <td>83.51</td>\n      <td>0.892</td>\n      <td>322.0</td>\n      <td>93.0</td>\n      <td>10.0</td>\n      <td>3.0</td>\n      <td>2</td>\n    </tr>\n    <tr>\n      <th>...</th>\n      <td>...</td>\n      <td>...</td>\n      <td>...</td>\n      <td>...</td>\n      <td>...</td>\n      <td>...</td>\n      <td>...</td>\n      <td>...</td>\n      <td>...</td>\n      <td>...</td>\n    </tr>\n    <tr>\n      <th>38127</th>\n      <td>Italy</td>\n      <td>2020-12-27</td>\n      <td>84.26</td>\n      <td>83.51</td>\n      <td>0.892</td>\n      <td>2047696.0</td>\n      <td>8937.0</td>\n      <td>71925.0</td>\n      <td>305.0</td>\n      <td>12</td>\n    </tr>\n    <tr>\n      <th>38128</th>\n      <td>Italy</td>\n      <td>2020-12-28</td>\n      <td>80.56</td>\n      <td>83.51</td>\n      <td>0.892</td>\n      <td>2056277.0</td>\n      <td>8581.0</td>\n      <td>72370.0</td>\n      <td>445.0</td>\n      <td>12</td>\n    </tr>\n    <tr>\n      <th>38129</th>\n      <td>Italy</td>\n      <td>2020-12-29</td>\n      <td>80.56</td>\n      <td>83.51</td>\n      <td>0.892</td>\n      <td>2067487.0</td>\n      <td>11210.0</td>\n      <td>73029.0</td>\n      <td>659.0</td>\n      <td>12</td>\n    </tr>\n    <tr>\n      <th>38130</th>\n      <td>Italy</td>\n      <td>2020-12-30</td>\n      <td>80.56</td>\n      <td>83.51</td>\n      <td>0.892</td>\n      <td>2083689.0</td>\n      <td>16202.0</td>\n      <td>73604.0</td>\n      <td>575.0</td>\n      <td>12</td>\n    </tr>\n    <tr>\n      <th>38131</th>\n      <td>Italy</td>\n      <td>2020-12-31</td>\n      <td>84.26</td>\n      <td>83.51</td>\n      <td>0.892</td>\n      <td>2107166.0</td>\n      <td>23477.0</td>\n      <td>74159.0</td>\n      <td>555.0</td>\n      <td>12</td>\n    </tr>\n  </tbody>\n</table>\n<p>315 rows × 10 columns</p>\n</div>"
     },
     "metadata": {},
     "execution_count": 160
    }
   ],
   "source": [
    "total_deaths_italy_2020 = new_covid_2020_df.loc[(new_covid_2020_df[\"location\"]==\"Italy\")]\n",
    "total_deaths_italy_2020"
   ]
  },
  {
   "cell_type": "code",
   "execution_count": 167,
   "metadata": {},
   "outputs": [
    {
     "output_type": "execute_result",
     "data": {
      "text/plain": [
       "      Month  stringency_index  total_deaths\n",
       "37817     2             27.78           1.0\n",
       "37818     2             37.04           2.0\n",
       "37819     2             69.91           3.0\n",
       "37820     2             69.91           7.0\n",
       "37821     2             69.91          10.0\n",
       "37822     2             69.91          12.0\n",
       "37823     2             69.91          17.0\n",
       "37824     2             69.91          21.0\n",
       "37825     2             69.91          29.0\n",
       "37826     3             69.91          34.0"
      ],
      "text/html": "<div>\n<style scoped>\n    .dataframe tbody tr th:only-of-type {\n        vertical-align: middle;\n    }\n\n    .dataframe tbody tr th {\n        vertical-align: top;\n    }\n\n    .dataframe thead th {\n        text-align: right;\n    }\n</style>\n<table border=\"1\" class=\"dataframe\">\n  <thead>\n    <tr style=\"text-align: right;\">\n      <th></th>\n      <th>Month</th>\n      <th>stringency_index</th>\n      <th>total_deaths</th>\n    </tr>\n  </thead>\n  <tbody>\n    <tr>\n      <th>37817</th>\n      <td>2</td>\n      <td>27.78</td>\n      <td>1.0</td>\n    </tr>\n    <tr>\n      <th>37818</th>\n      <td>2</td>\n      <td>37.04</td>\n      <td>2.0</td>\n    </tr>\n    <tr>\n      <th>37819</th>\n      <td>2</td>\n      <td>69.91</td>\n      <td>3.0</td>\n    </tr>\n    <tr>\n      <th>37820</th>\n      <td>2</td>\n      <td>69.91</td>\n      <td>7.0</td>\n    </tr>\n    <tr>\n      <th>37821</th>\n      <td>2</td>\n      <td>69.91</td>\n      <td>10.0</td>\n    </tr>\n    <tr>\n      <th>37822</th>\n      <td>2</td>\n      <td>69.91</td>\n      <td>12.0</td>\n    </tr>\n    <tr>\n      <th>37823</th>\n      <td>2</td>\n      <td>69.91</td>\n      <td>17.0</td>\n    </tr>\n    <tr>\n      <th>37824</th>\n      <td>2</td>\n      <td>69.91</td>\n      <td>21.0</td>\n    </tr>\n    <tr>\n      <th>37825</th>\n      <td>2</td>\n      <td>69.91</td>\n      <td>29.0</td>\n    </tr>\n    <tr>\n      <th>37826</th>\n      <td>3</td>\n      <td>69.91</td>\n      <td>34.0</td>\n    </tr>\n  </tbody>\n</table>\n</div>"
     },
     "metadata": {},
     "execution_count": 167
    }
   ],
   "source": [
    "italy_df= total_deaths_italy_2020[[\"Month\",\"stringency_index\",\"total_deaths\"]]\n",
    "italy_df.head(10)"
   ]
  },
  {
   "cell_type": "code",
   "execution_count": 164,
   "metadata": {},
   "outputs": [
    {
     "output_type": "execute_result",
     "data": {
      "text/plain": [
       "<pandas.plotting._core.PlotAccessor object at 0x7fd70b8aa580>"
      ]
     },
     "metadata": {},
     "execution_count": 164
    }
   ],
   "source": [
    "italy_df.plot"
   ]
  },
  {
   "cell_type": "code",
   "execution_count": null,
   "metadata": {},
   "outputs": [],
   "source": [
    "s')\n",
    "ax1.set_ylabel('Valence')\n",
    "ax1.set_ylim([.2, .8])\n",
    "ax1.plot(months, valence_2020, label=\"Valence Scores\", marker='x', color=color)                       \n",
    "                        \n",
    "ax2 = ax1.twinx() \n",
    "ax2.set_ylabel('New Cases Per Month')\n",
    "ax2.set_ylim([0, nz_covid_2020.max()+20])\n",
    "ax2.plot(months, nz_covid_2020, label=\"New cases\", marker='s')\n",
    "\n",
    "fig.suptitle('Italy: SPOTIFY LISTENER VALENCE PREFERENCE BY MONTH COMPARED TO NEW COVID CASES')\n",
    "plt.legend()\n",
    "\n",
    "plt.show()\n"
   ]
  },
  {
   "cell_type": "code",
   "execution_count": null,
   "metadata": {},
   "outputs": [],
   "source": []
  },
  {
   "cell_type": "code",
   "execution_count": null,
   "metadata": {},
   "outputs": [],
   "source": []
  },
  {
   "cell_type": "code",
   "execution_count": 90,
   "metadata": {},
   "outputs": [
    {
     "output_type": "execute_result",
     "data": {
      "text/plain": [
       "                        location        date  life_expectancy  \\\n",
       "stringency_index                                                \n",
       "13.89                    Senegal  2021-04-26            82.66   \n",
       "12.96             United Kingdom  2021-04-19            81.32   \n",
       "12.04                   Tanzania  2021-03-23            65.46   \n",
       "11.11                    Vietnam  2021-04-26            83.56   \n",
       "9.26                 Afghanistan  2020-11-08            64.83   \n",
       "8.33               United States  2021-04-12            78.86   \n",
       "6.48                    Tanzania  2021-02-01            65.46   \n",
       "5.56               United States  2020-04-03            82.66   \n",
       "2.78                    Tanzania  2021-04-26            82.43   \n",
       "0.00                    Thailand  2020-03-14            77.15   \n",
       "\n",
       "                  human_development_index  total_cases  new_cases  \\\n",
       "stringency_index                                                    \n",
       "13.89                               0.929      37833.0      315.0   \n",
       "12.96                               0.932       5787.0      480.0   \n",
       "12.04                               0.529      56177.0     1485.0   \n",
       "11.11                               0.955       5170.0      489.0   \n",
       "9.26                                0.511      42159.0      132.0   \n",
       "8.33                                0.926      56779.0      141.0   \n",
       "6.48                                0.529        509.0        0.0   \n",
       "5.56                                0.926        351.0       47.0   \n",
       "2.78                                0.929        509.0       46.0   \n",
       "0.00                                0.783        109.0       34.0   \n",
       "\n",
       "                  total_deaths  new_deaths  \n",
       "stringency_index                            \n",
       "13.89                   1013.0         8.0  \n",
       "12.96                     75.0        19.0  \n",
       "12.04                   2466.0        46.0  \n",
       "11.11                    151.0         7.0  \n",
       "9.26                    1565.0         6.0  \n",
       "8.33                    2512.0        11.0  \n",
       "6.48                      21.0         0.0  \n",
       "5.56                       4.0         1.0  \n",
       "2.78                      21.0         2.0  \n",
       "0.00                       2.0         2.0  "
      ],
      "text/html": "<div>\n<style scoped>\n    .dataframe tbody tr th:only-of-type {\n        vertical-align: middle;\n    }\n\n    .dataframe tbody tr th {\n        vertical-align: top;\n    }\n\n    .dataframe thead th {\n        text-align: right;\n    }\n</style>\n<table border=\"1\" class=\"dataframe\">\n  <thead>\n    <tr style=\"text-align: right;\">\n      <th></th>\n      <th>location</th>\n      <th>date</th>\n      <th>life_expectancy</th>\n      <th>human_development_index</th>\n      <th>total_cases</th>\n      <th>new_cases</th>\n      <th>total_deaths</th>\n      <th>new_deaths</th>\n    </tr>\n    <tr>\n      <th>stringency_index</th>\n      <th></th>\n      <th></th>\n      <th></th>\n      <th></th>\n      <th></th>\n      <th></th>\n      <th></th>\n      <th></th>\n    </tr>\n  </thead>\n  <tbody>\n    <tr>\n      <th>13.89</th>\n      <td>Senegal</td>\n      <td>2021-04-26</td>\n      <td>82.66</td>\n      <td>0.929</td>\n      <td>37833.0</td>\n      <td>315.0</td>\n      <td>1013.0</td>\n      <td>8.0</td>\n    </tr>\n    <tr>\n      <th>12.96</th>\n      <td>United Kingdom</td>\n      <td>2021-04-19</td>\n      <td>81.32</td>\n      <td>0.932</td>\n      <td>5787.0</td>\n      <td>480.0</td>\n      <td>75.0</td>\n      <td>19.0</td>\n    </tr>\n    <tr>\n      <th>12.04</th>\n      <td>Tanzania</td>\n      <td>2021-03-23</td>\n      <td>65.46</td>\n      <td>0.529</td>\n      <td>56177.0</td>\n      <td>1485.0</td>\n      <td>2466.0</td>\n      <td>46.0</td>\n    </tr>\n    <tr>\n      <th>11.11</th>\n      <td>Vietnam</td>\n      <td>2021-04-26</td>\n      <td>83.56</td>\n      <td>0.955</td>\n      <td>5170.0</td>\n      <td>489.0</td>\n      <td>151.0</td>\n      <td>7.0</td>\n    </tr>\n    <tr>\n      <th>9.26</th>\n      <td>Afghanistan</td>\n      <td>2020-11-08</td>\n      <td>64.83</td>\n      <td>0.511</td>\n      <td>42159.0</td>\n      <td>132.0</td>\n      <td>1565.0</td>\n      <td>6.0</td>\n    </tr>\n    <tr>\n      <th>8.33</th>\n      <td>United States</td>\n      <td>2021-04-12</td>\n      <td>78.86</td>\n      <td>0.926</td>\n      <td>56779.0</td>\n      <td>141.0</td>\n      <td>2512.0</td>\n      <td>11.0</td>\n    </tr>\n    <tr>\n      <th>6.48</th>\n      <td>Tanzania</td>\n      <td>2021-02-01</td>\n      <td>65.46</td>\n      <td>0.529</td>\n      <td>509.0</td>\n      <td>0.0</td>\n      <td>21.0</td>\n      <td>0.0</td>\n    </tr>\n    <tr>\n      <th>5.56</th>\n      <td>United States</td>\n      <td>2020-04-03</td>\n      <td>82.66</td>\n      <td>0.926</td>\n      <td>351.0</td>\n      <td>47.0</td>\n      <td>4.0</td>\n      <td>1.0</td>\n    </tr>\n    <tr>\n      <th>2.78</th>\n      <td>Tanzania</td>\n      <td>2021-04-26</td>\n      <td>82.43</td>\n      <td>0.929</td>\n      <td>509.0</td>\n      <td>46.0</td>\n      <td>21.0</td>\n      <td>2.0</td>\n    </tr>\n    <tr>\n      <th>0.00</th>\n      <td>Thailand</td>\n      <td>2020-03-14</td>\n      <td>77.15</td>\n      <td>0.783</td>\n      <td>109.0</td>\n      <td>34.0</td>\n      <td>2.0</td>\n      <td>2.0</td>\n    </tr>\n  </tbody>\n</table>\n</div>"
     },
     "metadata": {},
     "execution_count": 90
    }
   ],
   "source": [
    "top_lower_stringency = top_higher_stringency.tail(10)\n",
    "top_lower_stringency"
   ]
  },
  {
   "cell_type": "code",
   "execution_count": 91,
   "metadata": {},
   "outputs": [
    {
     "output_type": "execute_result",
     "data": {
      "text/plain": [
       "                        location        date  life_expectancy  \\\n",
       "stringency_index                                                \n",
       "0.00                    Thailand  2020-03-14            77.15   \n",
       "2.78                    Tanzania  2021-04-26            82.43   \n",
       "5.56               United States  2020-04-03            82.66   \n",
       "6.48                    Tanzania  2021-02-01            65.46   \n",
       "8.33               United States  2021-04-12            78.86   \n",
       "9.26                 Afghanistan  2020-11-08            64.83   \n",
       "11.11                    Vietnam  2021-04-26            83.56   \n",
       "12.04                   Tanzania  2021-03-23            65.46   \n",
       "12.96             United Kingdom  2021-04-19            81.32   \n",
       "13.89                    Senegal  2021-04-26            82.66   \n",
       "14.81                      Sudan  2021-03-15            82.25   \n",
       "15.74                  Nicaragua  2021-04-19            74.48   \n",
       "16.67                      Yemen  2021-04-06            81.32   \n",
       "17.59                   Tanzania  2021-02-07            65.46   \n",
       "18.06                    Burundi  2021-01-11            61.58   \n",
       "18.52                  Nicaragua  2021-03-15            74.79   \n",
       "19.44                Philippines  2021-03-21            84.63   \n",
       "20.37              United States  2021-03-22            78.86   \n",
       "20.83                Netherlands  2020-03-11            82.28   \n",
       "21.30                      Sudan  2020-12-21            65.31   \n",
       "21.76              United States  2020-03-11            78.86   \n",
       "22.22                      Yemen  2021-04-26            82.43   \n",
       "23.15                    Tunisia  2021-04-18            82.25   \n",
       "24.07                    Tunisia  2021-03-22            82.43   \n",
       "25.00                      Yemen  2021-04-25            84.63   \n",
       "25.93                   Tanzania  2021-04-26            84.63   \n",
       "26.39                      Benin  2021-02-08            61.77   \n",
       "26.85                    Tunisia  2021-04-18            77.15   \n",
       "27.31                   Slovakia  2021-02-22            77.54   \n",
       "27.78                      Yemen  2021-04-23            83.51   \n",
       "\n",
       "                  human_development_index  total_cases  new_cases  \\\n",
       "stringency_index                                                    \n",
       "0.00                                0.783        109.0       34.0   \n",
       "2.78                                0.929        509.0       46.0   \n",
       "5.56                                0.926        351.0       47.0   \n",
       "6.48                                0.529        509.0        0.0   \n",
       "8.33                                0.926      56779.0      141.0   \n",
       "9.26                                0.511      42159.0      132.0   \n",
       "11.11                               0.955       5170.0      489.0   \n",
       "12.04                               0.529      56177.0     1485.0   \n",
       "12.96                               0.932       5787.0      480.0   \n",
       "13.89                               0.929      37833.0      315.0   \n",
       "14.81                               0.916      30873.0      187.0   \n",
       "15.74                               0.660      22800.0      152.0   \n",
       "16.67                               0.932      95545.0     1063.0   \n",
       "17.59                               0.538      29825.0      564.0   \n",
       "18.06                               0.433       1019.0       33.0   \n",
       "18.52                               0.823       5807.0      575.0   \n",
       "19.44                               0.944     264634.0     2127.0   \n",
       "20.37                               0.926      32124.0      835.0   \n",
       "20.83                               0.944        503.0      121.0   \n",
       "21.30                               0.546      39074.0      356.0   \n",
       "21.76                               0.926       1147.0      365.0   \n",
       "22.22                               0.932     344223.0     1975.0   \n",
       "23.15                               0.931     284673.0     4739.0   \n",
       "24.07                               0.929      31394.0     1607.0   \n",
       "25.00                               0.955     274934.0     2666.0   \n",
       "25.93                               0.931      45863.0     1232.0   \n",
       "26.39                               0.545       4193.0      226.0   \n",
       "26.85                               0.816      67557.0      998.0   \n",
       "27.31                               0.860       4163.0      121.0   \n",
       "27.78                               0.945     324694.0     1972.0   \n",
       "\n",
       "                  total_deaths  new_deaths  \n",
       "stringency_index                            \n",
       "0.00                       2.0         2.0  \n",
       "2.78                      21.0         2.0  \n",
       "5.56                       4.0         1.0  \n",
       "6.48                      21.0         0.0  \n",
       "8.33                    2512.0        11.0  \n",
       "9.26                    1565.0         6.0  \n",
       "11.11                    151.0         7.0  \n",
       "12.04                   2466.0        46.0  \n",
       "12.96                     75.0        19.0  \n",
       "13.89                   1013.0         8.0  \n",
       "14.81                   1959.0        25.0  \n",
       "15.74                    138.0         2.0  \n",
       "16.67                   1520.0        23.0  \n",
       "17.59                    162.0         4.0  \n",
       "18.06                      2.0         0.0  \n",
       "18.52                     83.0        18.0  \n",
       "19.44                  12060.0        74.0  \n",
       "20.37                    448.0        15.0  \n",
       "20.83                      5.0         1.0  \n",
       "21.30                   1450.0        24.0  \n",
       "21.76                     33.0         5.0  \n",
       "22.22                   2423.0        17.0  \n",
       "23.15                   3083.0        75.0  \n",
       "24.07                   1986.0        27.0  \n",
       "25.00                  12324.0        53.0  \n",
       "25.93                   1864.0       135.0  \n",
       "26.39                     55.0         4.0  \n",
       "26.85                   2075.0       196.0  \n",
       "27.31                     37.0         4.0  \n",
       "27.78                  12783.0        84.0  "
      ],
      "text/html": "<div>\n<style scoped>\n    .dataframe tbody tr th:only-of-type {\n        vertical-align: middle;\n    }\n\n    .dataframe tbody tr th {\n        vertical-align: top;\n    }\n\n    .dataframe thead th {\n        text-align: right;\n    }\n</style>\n<table border=\"1\" class=\"dataframe\">\n  <thead>\n    <tr style=\"text-align: right;\">\n      <th></th>\n      <th>location</th>\n      <th>date</th>\n      <th>life_expectancy</th>\n      <th>human_development_index</th>\n      <th>total_cases</th>\n      <th>new_cases</th>\n      <th>total_deaths</th>\n      <th>new_deaths</th>\n    </tr>\n    <tr>\n      <th>stringency_index</th>\n      <th></th>\n      <th></th>\n      <th></th>\n      <th></th>\n      <th></th>\n      <th></th>\n      <th></th>\n      <th></th>\n    </tr>\n  </thead>\n  <tbody>\n    <tr>\n      <th>0.00</th>\n      <td>Thailand</td>\n      <td>2020-03-14</td>\n      <td>77.15</td>\n      <td>0.783</td>\n      <td>109.0</td>\n      <td>34.0</td>\n      <td>2.0</td>\n      <td>2.0</td>\n    </tr>\n    <tr>\n      <th>2.78</th>\n      <td>Tanzania</td>\n      <td>2021-04-26</td>\n      <td>82.43</td>\n      <td>0.929</td>\n      <td>509.0</td>\n      <td>46.0</td>\n      <td>21.0</td>\n      <td>2.0</td>\n    </tr>\n    <tr>\n      <th>5.56</th>\n      <td>United States</td>\n      <td>2020-04-03</td>\n      <td>82.66</td>\n      <td>0.926</td>\n      <td>351.0</td>\n      <td>47.0</td>\n      <td>4.0</td>\n      <td>1.0</td>\n    </tr>\n    <tr>\n      <th>6.48</th>\n      <td>Tanzania</td>\n      <td>2021-02-01</td>\n      <td>65.46</td>\n      <td>0.529</td>\n      <td>509.0</td>\n      <td>0.0</td>\n      <td>21.0</td>\n      <td>0.0</td>\n    </tr>\n    <tr>\n      <th>8.33</th>\n      <td>United States</td>\n      <td>2021-04-12</td>\n      <td>78.86</td>\n      <td>0.926</td>\n      <td>56779.0</td>\n      <td>141.0</td>\n      <td>2512.0</td>\n      <td>11.0</td>\n    </tr>\n    <tr>\n      <th>9.26</th>\n      <td>Afghanistan</td>\n      <td>2020-11-08</td>\n      <td>64.83</td>\n      <td>0.511</td>\n      <td>42159.0</td>\n      <td>132.0</td>\n      <td>1565.0</td>\n      <td>6.0</td>\n    </tr>\n    <tr>\n      <th>11.11</th>\n      <td>Vietnam</td>\n      <td>2021-04-26</td>\n      <td>83.56</td>\n      <td>0.955</td>\n      <td>5170.0</td>\n      <td>489.0</td>\n      <td>151.0</td>\n      <td>7.0</td>\n    </tr>\n    <tr>\n      <th>12.04</th>\n      <td>Tanzania</td>\n      <td>2021-03-23</td>\n      <td>65.46</td>\n      <td>0.529</td>\n      <td>56177.0</td>\n      <td>1485.0</td>\n      <td>2466.0</td>\n      <td>46.0</td>\n    </tr>\n    <tr>\n      <th>12.96</th>\n      <td>United Kingdom</td>\n      <td>2021-04-19</td>\n      <td>81.32</td>\n      <td>0.932</td>\n      <td>5787.0</td>\n      <td>480.0</td>\n      <td>75.0</td>\n      <td>19.0</td>\n    </tr>\n    <tr>\n      <th>13.89</th>\n      <td>Senegal</td>\n      <td>2021-04-26</td>\n      <td>82.66</td>\n      <td>0.929</td>\n      <td>37833.0</td>\n      <td>315.0</td>\n      <td>1013.0</td>\n      <td>8.0</td>\n    </tr>\n    <tr>\n      <th>14.81</th>\n      <td>Sudan</td>\n      <td>2021-03-15</td>\n      <td>82.25</td>\n      <td>0.916</td>\n      <td>30873.0</td>\n      <td>187.0</td>\n      <td>1959.0</td>\n      <td>25.0</td>\n    </tr>\n    <tr>\n      <th>15.74</th>\n      <td>Nicaragua</td>\n      <td>2021-04-19</td>\n      <td>74.48</td>\n      <td>0.660</td>\n      <td>22800.0</td>\n      <td>152.0</td>\n      <td>138.0</td>\n      <td>2.0</td>\n    </tr>\n    <tr>\n      <th>16.67</th>\n      <td>Yemen</td>\n      <td>2021-04-06</td>\n      <td>81.32</td>\n      <td>0.932</td>\n      <td>95545.0</td>\n      <td>1063.0</td>\n      <td>1520.0</td>\n      <td>23.0</td>\n    </tr>\n    <tr>\n      <th>17.59</th>\n      <td>Tanzania</td>\n      <td>2021-02-07</td>\n      <td>65.46</td>\n      <td>0.538</td>\n      <td>29825.0</td>\n      <td>564.0</td>\n      <td>162.0</td>\n      <td>4.0</td>\n    </tr>\n    <tr>\n      <th>18.06</th>\n      <td>Burundi</td>\n      <td>2021-01-11</td>\n      <td>61.58</td>\n      <td>0.433</td>\n      <td>1019.0</td>\n      <td>33.0</td>\n      <td>2.0</td>\n      <td>0.0</td>\n    </tr>\n    <tr>\n      <th>18.52</th>\n      <td>Nicaragua</td>\n      <td>2021-03-15</td>\n      <td>74.79</td>\n      <td>0.823</td>\n      <td>5807.0</td>\n      <td>575.0</td>\n      <td>83.0</td>\n      <td>18.0</td>\n    </tr>\n    <tr>\n      <th>19.44</th>\n      <td>Philippines</td>\n      <td>2021-03-21</td>\n      <td>84.63</td>\n      <td>0.944</td>\n      <td>264634.0</td>\n      <td>2127.0</td>\n      <td>12060.0</td>\n      <td>74.0</td>\n    </tr>\n    <tr>\n      <th>20.37</th>\n      <td>United States</td>\n      <td>2021-03-22</td>\n      <td>78.86</td>\n      <td>0.926</td>\n      <td>32124.0</td>\n      <td>835.0</td>\n      <td>448.0</td>\n      <td>15.0</td>\n    </tr>\n    <tr>\n      <th>20.83</th>\n      <td>Netherlands</td>\n      <td>2020-03-11</td>\n      <td>82.28</td>\n      <td>0.944</td>\n      <td>503.0</td>\n      <td>121.0</td>\n      <td>5.0</td>\n      <td>1.0</td>\n    </tr>\n    <tr>\n      <th>21.30</th>\n      <td>Sudan</td>\n      <td>2020-12-21</td>\n      <td>65.31</td>\n      <td>0.546</td>\n      <td>39074.0</td>\n      <td>356.0</td>\n      <td>1450.0</td>\n      <td>24.0</td>\n    </tr>\n    <tr>\n      <th>21.76</th>\n      <td>United States</td>\n      <td>2020-03-11</td>\n      <td>78.86</td>\n      <td>0.926</td>\n      <td>1147.0</td>\n      <td>365.0</td>\n      <td>33.0</td>\n      <td>5.0</td>\n    </tr>\n    <tr>\n      <th>22.22</th>\n      <td>Yemen</td>\n      <td>2021-04-26</td>\n      <td>82.43</td>\n      <td>0.932</td>\n      <td>344223.0</td>\n      <td>1975.0</td>\n      <td>2423.0</td>\n      <td>17.0</td>\n    </tr>\n    <tr>\n      <th>23.15</th>\n      <td>Tunisia</td>\n      <td>2021-04-18</td>\n      <td>82.25</td>\n      <td>0.931</td>\n      <td>284673.0</td>\n      <td>4739.0</td>\n      <td>3083.0</td>\n      <td>75.0</td>\n    </tr>\n    <tr>\n      <th>24.07</th>\n      <td>Tunisia</td>\n      <td>2021-03-22</td>\n      <td>82.43</td>\n      <td>0.929</td>\n      <td>31394.0</td>\n      <td>1607.0</td>\n      <td>1986.0</td>\n      <td>27.0</td>\n    </tr>\n    <tr>\n      <th>25.00</th>\n      <td>Yemen</td>\n      <td>2021-04-25</td>\n      <td>84.63</td>\n      <td>0.955</td>\n      <td>274934.0</td>\n      <td>2666.0</td>\n      <td>12324.0</td>\n      <td>53.0</td>\n    </tr>\n    <tr>\n      <th>25.93</th>\n      <td>Tanzania</td>\n      <td>2021-04-26</td>\n      <td>84.63</td>\n      <td>0.931</td>\n      <td>45863.0</td>\n      <td>1232.0</td>\n      <td>1864.0</td>\n      <td>135.0</td>\n    </tr>\n    <tr>\n      <th>26.39</th>\n      <td>Benin</td>\n      <td>2021-02-08</td>\n      <td>61.77</td>\n      <td>0.545</td>\n      <td>4193.0</td>\n      <td>226.0</td>\n      <td>55.0</td>\n      <td>4.0</td>\n    </tr>\n    <tr>\n      <th>26.85</th>\n      <td>Tunisia</td>\n      <td>2021-04-18</td>\n      <td>77.15</td>\n      <td>0.816</td>\n      <td>67557.0</td>\n      <td>998.0</td>\n      <td>2075.0</td>\n      <td>196.0</td>\n    </tr>\n    <tr>\n      <th>27.31</th>\n      <td>Slovakia</td>\n      <td>2021-02-22</td>\n      <td>77.54</td>\n      <td>0.860</td>\n      <td>4163.0</td>\n      <td>121.0</td>\n      <td>37.0</td>\n      <td>4.0</td>\n    </tr>\n    <tr>\n      <th>27.78</th>\n      <td>Yemen</td>\n      <td>2021-04-23</td>\n      <td>83.51</td>\n      <td>0.945</td>\n      <td>324694.0</td>\n      <td>1972.0</td>\n      <td>12783.0</td>\n      <td>84.0</td>\n    </tr>\n  </tbody>\n</table>\n</div>"
     },
     "metadata": {},
     "execution_count": 91
    }
   ],
   "source": [
    "top_lower_stringency = grouped_df.sort_values(by=['stringency_index'], ascending=True)\n",
    "top_lower_stringency.head(30)"
   ]
  },
  {
   "cell_type": "code",
   "execution_count": 76,
   "metadata": {},
   "outputs": [
    {
     "output_type": "execute_result",
     "data": {
      "text/plain": [
       "                   date  total_cases  new_cases  total_deaths  \\\n",
       "location                                                        \n",
       "Asia         2020-01-22        556.0        0.0          17.0   \n",
       "China        2020-01-22        548.0       -1.0          17.0   \n",
       "World        2020-01-22        557.0        0.0          17.0   \n",
       "South Sudan  2020-04-05          1.0        0.0           4.0   \n",
       "Vietnam      2020-01-23          2.0        0.0           3.0   \n",
       "Norway       2020-02-23          1.0        0.0           3.0   \n",
       "Romania      2020-02-26          1.0        0.0           3.0   \n",
       "Peru         2020-01-06          1.0        0.0           3.0   \n",
       "Belgium      2020-02-04          1.0        0.0           3.0   \n",
       "Singapore    2020-01-23          1.0        0.0           2.0   \n",
       "Pakistan     2020-02-25          2.0        0.0           2.0   \n",
       "Tajikistan   2020-04-30         15.0        0.0           2.0   \n",
       "Congo        2020-03-15          1.0        0.0           2.0   \n",
       "Colombia     2020-03-06          1.0        0.0           2.0   \n",
       "Germany      2020-01-27          1.0        0.0           2.0   \n",
       "Chad         2020-03-19          1.0        0.0           2.0   \n",
       "Ethiopia     2020-03-13          1.0        0.0           2.0   \n",
       "Iran         2020-02-19          2.0        2.0           2.0   \n",
       "Iraq         2020-02-24          1.0        0.0           2.0   \n",
       "Ecuador      2020-03-01          6.0    -7953.0           2.0   \n",
       "\n",
       "             total_cases_per_million  \n",
       "location                              \n",
       "Asia                           0.120  \n",
       "China                          0.381  \n",
       "World                          0.071  \n",
       "South Sudan                    0.089  \n",
       "Vietnam                        0.021  \n",
       "Norway                         0.184  \n",
       "Romania                        0.052  \n",
       "Peru                           0.030  \n",
       "Belgium                        0.086  \n",
       "Singapore                      0.171  \n",
       "Pakistan                       0.009  \n",
       "Tajikistan                     1.573  \n",
       "Congo                          0.181  \n",
       "Colombia                       0.020  \n",
       "Germany                        0.012  \n",
       "Chad                           0.061  \n",
       "Ethiopia                       0.009  \n",
       "Iran                           0.024  \n",
       "Iraq                           0.025  \n",
       "Ecuador                        0.340  "
      ],
      "text/html": "<div>\n<style scoped>\n    .dataframe tbody tr th:only-of-type {\n        vertical-align: middle;\n    }\n\n    .dataframe tbody tr th {\n        vertical-align: top;\n    }\n\n    .dataframe thead th {\n        text-align: right;\n    }\n</style>\n<table border=\"1\" class=\"dataframe\">\n  <thead>\n    <tr style=\"text-align: right;\">\n      <th></th>\n      <th>date</th>\n      <th>total_cases</th>\n      <th>new_cases</th>\n      <th>total_deaths</th>\n      <th>total_cases_per_million</th>\n    </tr>\n    <tr>\n      <th>location</th>\n      <th></th>\n      <th></th>\n      <th></th>\n      <th></th>\n      <th></th>\n    </tr>\n  </thead>\n  <tbody>\n    <tr>\n      <th>Asia</th>\n      <td>2020-01-22</td>\n      <td>556.0</td>\n      <td>0.0</td>\n      <td>17.0</td>\n      <td>0.120</td>\n    </tr>\n    <tr>\n      <th>China</th>\n      <td>2020-01-22</td>\n      <td>548.0</td>\n      <td>-1.0</td>\n      <td>17.0</td>\n      <td>0.381</td>\n    </tr>\n    <tr>\n      <th>World</th>\n      <td>2020-01-22</td>\n      <td>557.0</td>\n      <td>0.0</td>\n      <td>17.0</td>\n      <td>0.071</td>\n    </tr>\n    <tr>\n      <th>South Sudan</th>\n      <td>2020-04-05</td>\n      <td>1.0</td>\n      <td>0.0</td>\n      <td>4.0</td>\n      <td>0.089</td>\n    </tr>\n    <tr>\n      <th>Vietnam</th>\n      <td>2020-01-23</td>\n      <td>2.0</td>\n      <td>0.0</td>\n      <td>3.0</td>\n      <td>0.021</td>\n    </tr>\n    <tr>\n      <th>Norway</th>\n      <td>2020-02-23</td>\n      <td>1.0</td>\n      <td>0.0</td>\n      <td>3.0</td>\n      <td>0.184</td>\n    </tr>\n    <tr>\n      <th>Romania</th>\n      <td>2020-02-26</td>\n      <td>1.0</td>\n      <td>0.0</td>\n      <td>3.0</td>\n      <td>0.052</td>\n    </tr>\n    <tr>\n      <th>Peru</th>\n      <td>2020-01-06</td>\n      <td>1.0</td>\n      <td>0.0</td>\n      <td>3.0</td>\n      <td>0.030</td>\n    </tr>\n    <tr>\n      <th>Belgium</th>\n      <td>2020-02-04</td>\n      <td>1.0</td>\n      <td>0.0</td>\n      <td>3.0</td>\n      <td>0.086</td>\n    </tr>\n    <tr>\n      <th>Singapore</th>\n      <td>2020-01-23</td>\n      <td>1.0</td>\n      <td>0.0</td>\n      <td>2.0</td>\n      <td>0.171</td>\n    </tr>\n    <tr>\n      <th>Pakistan</th>\n      <td>2020-02-25</td>\n      <td>2.0</td>\n      <td>0.0</td>\n      <td>2.0</td>\n      <td>0.009</td>\n    </tr>\n    <tr>\n      <th>Tajikistan</th>\n      <td>2020-04-30</td>\n      <td>15.0</td>\n      <td>0.0</td>\n      <td>2.0</td>\n      <td>1.573</td>\n    </tr>\n    <tr>\n      <th>Congo</th>\n      <td>2020-03-15</td>\n      <td>1.0</td>\n      <td>0.0</td>\n      <td>2.0</td>\n      <td>0.181</td>\n    </tr>\n    <tr>\n      <th>Colombia</th>\n      <td>2020-03-06</td>\n      <td>1.0</td>\n      <td>0.0</td>\n      <td>2.0</td>\n      <td>0.020</td>\n    </tr>\n    <tr>\n      <th>Germany</th>\n      <td>2020-01-27</td>\n      <td>1.0</td>\n      <td>0.0</td>\n      <td>2.0</td>\n      <td>0.012</td>\n    </tr>\n    <tr>\n      <th>Chad</th>\n      <td>2020-03-19</td>\n      <td>1.0</td>\n      <td>0.0</td>\n      <td>2.0</td>\n      <td>0.061</td>\n    </tr>\n    <tr>\n      <th>Ethiopia</th>\n      <td>2020-03-13</td>\n      <td>1.0</td>\n      <td>0.0</td>\n      <td>2.0</td>\n      <td>0.009</td>\n    </tr>\n    <tr>\n      <th>Iran</th>\n      <td>2020-02-19</td>\n      <td>2.0</td>\n      <td>2.0</td>\n      <td>2.0</td>\n      <td>0.024</td>\n    </tr>\n    <tr>\n      <th>Iraq</th>\n      <td>2020-02-24</td>\n      <td>1.0</td>\n      <td>0.0</td>\n      <td>2.0</td>\n      <td>0.025</td>\n    </tr>\n    <tr>\n      <th>Ecuador</th>\n      <td>2020-03-01</td>\n      <td>6.0</td>\n      <td>-7953.0</td>\n      <td>2.0</td>\n      <td>0.340</td>\n    </tr>\n  </tbody>\n</table>\n</div>"
     },
     "metadata": {},
     "execution_count": 76
    }
   ],
   "source": [
    "# Top deaths per country 2020\n",
    "top_countries_deaths = covid_df.loc[:,[\"location\", \"date\",\"total_cases\",\"new_cases\",\"total_deaths\", \"total_cases_per_million\"]]\n",
    "grouped_deaths = top_countries_deaths.groupby([\"location\"]).min()\n",
    "top_deaths_per_country = grouped_deaths.sort_values(by=['total_deaths'], ascending=False)\n",
    "top_deaths_per_country.head(20)\n"
   ]
  },
  {
   "cell_type": "code",
   "execution_count": 63,
   "metadata": {},
   "outputs": [
    {
     "output_type": "execute_result",
     "data": {
      "text/plain": [
       "                      date  total_cases  new_cases  total_deaths  \\\n",
       "location                                                           \n",
       "World           2021-04-26  147872402.0   899755.0     3120403.0   \n",
       "Europe          2021-04-26   44263885.0   346447.0     1003506.0   \n",
       "North America   2021-04-26   37229141.0   327335.0      841942.0   \n",
       "European Union  2021-04-26   30284165.0   274748.0      679507.0   \n",
       "South America   2021-04-26   24325791.0   162919.0      653917.0   \n",
       "United States   2021-04-26   32124869.0   300310.0      572674.0   \n",
       "Asia            2021-04-26   37496027.0   482745.0      499552.0   \n",
       "Brazil          2021-04-26   14369423.0   100158.0      391936.0   \n",
       "Mexico          2021-04-26    2329534.0    28115.0      215113.0   \n",
       "India           2021-04-26   17636186.0   352991.0      197894.0   \n",
       "United Kingdom  2021-04-26    4422562.0    68192.0      127688.0   \n",
       "Africa          2021-04-26    4513541.0    36473.0      120427.0   \n",
       "Italy           2021-04-26    3971114.0    40902.0      119539.0   \n",
       "Russia          2021-04-26    4717321.0    29499.0      106783.0   \n",
       "France          2021-04-26    5565080.0   117900.0      103415.0   \n",
       "Germany         2021-04-26    3312653.0    49044.0       82009.0   \n",
       "Spain           2021-04-26    3488469.0    93822.0       77738.0   \n",
       "Colombia        2021-04-26    2787303.0    21078.0       71799.0   \n",
       "Iran            2021-04-26    2417230.0    25582.0       70070.0   \n",
       "Poland          2021-04-26    2762323.0    35253.0       65437.0   \n",
       "\n",
       "                total_cases_per_million  \n",
       "location                                 \n",
       "World                         18970.650  \n",
       "Europe                        59122.564  \n",
       "North America                 62879.393  \n",
       "European Union                68066.684  \n",
       "South America                 56471.826  \n",
       "United States                 97053.209  \n",
       "Asia                           8081.306  \n",
       "Brazil                        67601.915  \n",
       "Mexico                        18067.822  \n",
       "India                         12779.804  \n",
       "United Kingdom                65146.889  \n",
       "Africa                         3366.811  \n",
       "Italy                         65679.688  \n",
       "Russia                        32324.929  \n",
       "France                        81662.053  \n",
       "Germany                       39538.040  \n",
       "Spain                         74612.024  \n",
       "Colombia                      54778.794  \n",
       "Iran                          28778.962  \n",
       "Poland                        72987.339  "
      ],
      "text/html": "<div>\n<style scoped>\n    .dataframe tbody tr th:only-of-type {\n        vertical-align: middle;\n    }\n\n    .dataframe tbody tr th {\n        vertical-align: top;\n    }\n\n    .dataframe thead th {\n        text-align: right;\n    }\n</style>\n<table border=\"1\" class=\"dataframe\">\n  <thead>\n    <tr style=\"text-align: right;\">\n      <th></th>\n      <th>date</th>\n      <th>total_cases</th>\n      <th>new_cases</th>\n      <th>total_deaths</th>\n      <th>total_cases_per_million</th>\n    </tr>\n    <tr>\n      <th>location</th>\n      <th></th>\n      <th></th>\n      <th></th>\n      <th></th>\n      <th></th>\n    </tr>\n  </thead>\n  <tbody>\n    <tr>\n      <th>World</th>\n      <td>2021-04-26</td>\n      <td>147872402.0</td>\n      <td>899755.0</td>\n      <td>3120403.0</td>\n      <td>18970.650</td>\n    </tr>\n    <tr>\n      <th>Europe</th>\n      <td>2021-04-26</td>\n      <td>44263885.0</td>\n      <td>346447.0</td>\n      <td>1003506.0</td>\n      <td>59122.564</td>\n    </tr>\n    <tr>\n      <th>North America</th>\n      <td>2021-04-26</td>\n      <td>37229141.0</td>\n      <td>327335.0</td>\n      <td>841942.0</td>\n      <td>62879.393</td>\n    </tr>\n    <tr>\n      <th>European Union</th>\n      <td>2021-04-26</td>\n      <td>30284165.0</td>\n      <td>274748.0</td>\n      <td>679507.0</td>\n      <td>68066.684</td>\n    </tr>\n    <tr>\n      <th>South America</th>\n      <td>2021-04-26</td>\n      <td>24325791.0</td>\n      <td>162919.0</td>\n      <td>653917.0</td>\n      <td>56471.826</td>\n    </tr>\n    <tr>\n      <th>United States</th>\n      <td>2021-04-26</td>\n      <td>32124869.0</td>\n      <td>300310.0</td>\n      <td>572674.0</td>\n      <td>97053.209</td>\n    </tr>\n    <tr>\n      <th>Asia</th>\n      <td>2021-04-26</td>\n      <td>37496027.0</td>\n      <td>482745.0</td>\n      <td>499552.0</td>\n      <td>8081.306</td>\n    </tr>\n    <tr>\n      <th>Brazil</th>\n      <td>2021-04-26</td>\n      <td>14369423.0</td>\n      <td>100158.0</td>\n      <td>391936.0</td>\n      <td>67601.915</td>\n    </tr>\n    <tr>\n      <th>Mexico</th>\n      <td>2021-04-26</td>\n      <td>2329534.0</td>\n      <td>28115.0</td>\n      <td>215113.0</td>\n      <td>18067.822</td>\n    </tr>\n    <tr>\n      <th>India</th>\n      <td>2021-04-26</td>\n      <td>17636186.0</td>\n      <td>352991.0</td>\n      <td>197894.0</td>\n      <td>12779.804</td>\n    </tr>\n    <tr>\n      <th>United Kingdom</th>\n      <td>2021-04-26</td>\n      <td>4422562.0</td>\n      <td>68192.0</td>\n      <td>127688.0</td>\n      <td>65146.889</td>\n    </tr>\n    <tr>\n      <th>Africa</th>\n      <td>2021-04-26</td>\n      <td>4513541.0</td>\n      <td>36473.0</td>\n      <td>120427.0</td>\n      <td>3366.811</td>\n    </tr>\n    <tr>\n      <th>Italy</th>\n      <td>2021-04-26</td>\n      <td>3971114.0</td>\n      <td>40902.0</td>\n      <td>119539.0</td>\n      <td>65679.688</td>\n    </tr>\n    <tr>\n      <th>Russia</th>\n      <td>2021-04-26</td>\n      <td>4717321.0</td>\n      <td>29499.0</td>\n      <td>106783.0</td>\n      <td>32324.929</td>\n    </tr>\n    <tr>\n      <th>France</th>\n      <td>2021-04-26</td>\n      <td>5565080.0</td>\n      <td>117900.0</td>\n      <td>103415.0</td>\n      <td>81662.053</td>\n    </tr>\n    <tr>\n      <th>Germany</th>\n      <td>2021-04-26</td>\n      <td>3312653.0</td>\n      <td>49044.0</td>\n      <td>82009.0</td>\n      <td>39538.040</td>\n    </tr>\n    <tr>\n      <th>Spain</th>\n      <td>2021-04-26</td>\n      <td>3488469.0</td>\n      <td>93822.0</td>\n      <td>77738.0</td>\n      <td>74612.024</td>\n    </tr>\n    <tr>\n      <th>Colombia</th>\n      <td>2021-04-26</td>\n      <td>2787303.0</td>\n      <td>21078.0</td>\n      <td>71799.0</td>\n      <td>54778.794</td>\n    </tr>\n    <tr>\n      <th>Iran</th>\n      <td>2021-04-26</td>\n      <td>2417230.0</td>\n      <td>25582.0</td>\n      <td>70070.0</td>\n      <td>28778.962</td>\n    </tr>\n    <tr>\n      <th>Poland</th>\n      <td>2021-04-26</td>\n      <td>2762323.0</td>\n      <td>35253.0</td>\n      <td>65437.0</td>\n      <td>72987.339</td>\n    </tr>\n  </tbody>\n</table>\n</div>"
     },
     "metadata": {},
     "execution_count": 63
    }
   ],
   "source": [
    "# Top deaths per country 2021\n",
    "top_countries_deaths = covid_df.loc[:,[\"location\", \"date\",\"total_cases\",\"new_cases\",\"total_deaths\", \"total_cases_per_million\"]]\n",
    "grouped_deaths = top_countries_deaths.groupby([\"location\"]).max()\n",
    "top_deaths_per_country = grouped_deaths.sort_values(by=['total_deaths'], ascending=False)\n",
    "top_deaths_per_country.head(20)\n"
   ]
  },
  {
   "cell_type": "code",
   "execution_count": 78,
   "metadata": {},
   "outputs": [
    {
     "output_type": "execute_result",
     "data": {
      "text/plain": [
       "      iso_code continent location        date  total_cases  new_cases  \\\n",
       "37796      ITA    Europe    Italy  2020-01-31          2.0        2.0   \n",
       "37797      ITA    Europe    Italy  2020-02-01          2.0        0.0   \n",
       "37798      ITA    Europe    Italy  2020-02-02          2.0        0.0   \n",
       "37799      ITA    Europe    Italy  2020-02-03          2.0        0.0   \n",
       "37800      ITA    Europe    Italy  2020-02-04          2.0        0.0   \n",
       "37801      ITA    Europe    Italy  2020-02-05          2.0        0.0   \n",
       "37802      ITA    Europe    Italy  2020-02-06          2.0        0.0   \n",
       "37803      ITA    Europe    Italy  2020-02-07          3.0        1.0   \n",
       "37804      ITA    Europe    Italy  2020-02-08          3.0        0.0   \n",
       "37805      ITA    Europe    Italy  2020-02-09          3.0        0.0   \n",
       "\n",
       "       new_cases_smoothed  total_deaths  new_deaths  new_deaths_smoothed  ...  \\\n",
       "37796                 NaN           NaN         NaN                  NaN  ...   \n",
       "37797                 NaN           NaN         NaN                  NaN  ...   \n",
       "37798                 NaN           NaN         NaN                  NaN  ...   \n",
       "37799                 NaN           NaN         NaN                  NaN  ...   \n",
       "37800                 NaN           NaN         NaN                  NaN  ...   \n",
       "37801               0.286           NaN         NaN                  0.0  ...   \n",
       "37802               0.286           NaN         NaN                  0.0  ...   \n",
       "37803               0.143           NaN         NaN                  0.0  ...   \n",
       "37804               0.143           NaN         NaN                  0.0  ...   \n",
       "37805               0.143           NaN         NaN                  0.0  ...   \n",
       "\n",
       "       gdp_per_capita  extreme_poverty  cardiovasc_death_rate  \\\n",
       "37796       35220.084              2.0                113.151   \n",
       "37797       35220.084              2.0                113.151   \n",
       "37798       35220.084              2.0                113.151   \n",
       "37799       35220.084              2.0                113.151   \n",
       "37800       35220.084              2.0                113.151   \n",
       "37801       35220.084              2.0                113.151   \n",
       "37802       35220.084              2.0                113.151   \n",
       "37803       35220.084              2.0                113.151   \n",
       "37804       35220.084              2.0                113.151   \n",
       "37805       35220.084              2.0                113.151   \n",
       "\n",
       "       diabetes_prevalence  female_smokers  male_smokers  \\\n",
       "37796                 4.78            19.8          27.8   \n",
       "37797                 4.78            19.8          27.8   \n",
       "37798                 4.78            19.8          27.8   \n",
       "37799                 4.78            19.8          27.8   \n",
       "37800                 4.78            19.8          27.8   \n",
       "37801                 4.78            19.8          27.8   \n",
       "37802                 4.78            19.8          27.8   \n",
       "37803                 4.78            19.8          27.8   \n",
       "37804                 4.78            19.8          27.8   \n",
       "37805                 4.78            19.8          27.8   \n",
       "\n",
       "       handwashing_facilities  hospital_beds_per_thousand  life_expectancy  \\\n",
       "37796                     NaN                        3.18            83.51   \n",
       "37797                     NaN                        3.18            83.51   \n",
       "37798                     NaN                        3.18            83.51   \n",
       "37799                     NaN                        3.18            83.51   \n",
       "37800                     NaN                        3.18            83.51   \n",
       "37801                     NaN                        3.18            83.51   \n",
       "37802                     NaN                        3.18            83.51   \n",
       "37803                     NaN                        3.18            83.51   \n",
       "37804                     NaN                        3.18            83.51   \n",
       "37805                     NaN                        3.18            83.51   \n",
       "\n",
       "       human_development_index  \n",
       "37796                    0.892  \n",
       "37797                    0.892  \n",
       "37798                    0.892  \n",
       "37799                    0.892  \n",
       "37800                    0.892  \n",
       "37801                    0.892  \n",
       "37802                    0.892  \n",
       "37803                    0.892  \n",
       "37804                    0.892  \n",
       "37805                    0.892  \n",
       "\n",
       "[10 rows x 59 columns]"
      ],
      "text/html": "<div>\n<style scoped>\n    .dataframe tbody tr th:only-of-type {\n        vertical-align: middle;\n    }\n\n    .dataframe tbody tr th {\n        vertical-align: top;\n    }\n\n    .dataframe thead th {\n        text-align: right;\n    }\n</style>\n<table border=\"1\" class=\"dataframe\">\n  <thead>\n    <tr style=\"text-align: right;\">\n      <th></th>\n      <th>iso_code</th>\n      <th>continent</th>\n      <th>location</th>\n      <th>date</th>\n      <th>total_cases</th>\n      <th>new_cases</th>\n      <th>new_cases_smoothed</th>\n      <th>total_deaths</th>\n      <th>new_deaths</th>\n      <th>new_deaths_smoothed</th>\n      <th>...</th>\n      <th>gdp_per_capita</th>\n      <th>extreme_poverty</th>\n      <th>cardiovasc_death_rate</th>\n      <th>diabetes_prevalence</th>\n      <th>female_smokers</th>\n      <th>male_smokers</th>\n      <th>handwashing_facilities</th>\n      <th>hospital_beds_per_thousand</th>\n      <th>life_expectancy</th>\n      <th>human_development_index</th>\n    </tr>\n  </thead>\n  <tbody>\n    <tr>\n      <th>37796</th>\n      <td>ITA</td>\n      <td>Europe</td>\n      <td>Italy</td>\n      <td>2020-01-31</td>\n      <td>2.0</td>\n      <td>2.0</td>\n      <td>NaN</td>\n      <td>NaN</td>\n      <td>NaN</td>\n      <td>NaN</td>\n      <td>...</td>\n      <td>35220.084</td>\n      <td>2.0</td>\n      <td>113.151</td>\n      <td>4.78</td>\n      <td>19.8</td>\n      <td>27.8</td>\n      <td>NaN</td>\n      <td>3.18</td>\n      <td>83.51</td>\n      <td>0.892</td>\n    </tr>\n    <tr>\n      <th>37797</th>\n      <td>ITA</td>\n      <td>Europe</td>\n      <td>Italy</td>\n      <td>2020-02-01</td>\n      <td>2.0</td>\n      <td>0.0</td>\n      <td>NaN</td>\n      <td>NaN</td>\n      <td>NaN</td>\n      <td>NaN</td>\n      <td>...</td>\n      <td>35220.084</td>\n      <td>2.0</td>\n      <td>113.151</td>\n      <td>4.78</td>\n      <td>19.8</td>\n      <td>27.8</td>\n      <td>NaN</td>\n      <td>3.18</td>\n      <td>83.51</td>\n      <td>0.892</td>\n    </tr>\n    <tr>\n      <th>37798</th>\n      <td>ITA</td>\n      <td>Europe</td>\n      <td>Italy</td>\n      <td>2020-02-02</td>\n      <td>2.0</td>\n      <td>0.0</td>\n      <td>NaN</td>\n      <td>NaN</td>\n      <td>NaN</td>\n      <td>NaN</td>\n      <td>...</td>\n      <td>35220.084</td>\n      <td>2.0</td>\n      <td>113.151</td>\n      <td>4.78</td>\n      <td>19.8</td>\n      <td>27.8</td>\n      <td>NaN</td>\n      <td>3.18</td>\n      <td>83.51</td>\n      <td>0.892</td>\n    </tr>\n    <tr>\n      <th>37799</th>\n      <td>ITA</td>\n      <td>Europe</td>\n      <td>Italy</td>\n      <td>2020-02-03</td>\n      <td>2.0</td>\n      <td>0.0</td>\n      <td>NaN</td>\n      <td>NaN</td>\n      <td>NaN</td>\n      <td>NaN</td>\n      <td>...</td>\n      <td>35220.084</td>\n      <td>2.0</td>\n      <td>113.151</td>\n      <td>4.78</td>\n      <td>19.8</td>\n      <td>27.8</td>\n      <td>NaN</td>\n      <td>3.18</td>\n      <td>83.51</td>\n      <td>0.892</td>\n    </tr>\n    <tr>\n      <th>37800</th>\n      <td>ITA</td>\n      <td>Europe</td>\n      <td>Italy</td>\n      <td>2020-02-04</td>\n      <td>2.0</td>\n      <td>0.0</td>\n      <td>NaN</td>\n      <td>NaN</td>\n      <td>NaN</td>\n      <td>NaN</td>\n      <td>...</td>\n      <td>35220.084</td>\n      <td>2.0</td>\n      <td>113.151</td>\n      <td>4.78</td>\n      <td>19.8</td>\n      <td>27.8</td>\n      <td>NaN</td>\n      <td>3.18</td>\n      <td>83.51</td>\n      <td>0.892</td>\n    </tr>\n    <tr>\n      <th>37801</th>\n      <td>ITA</td>\n      <td>Europe</td>\n      <td>Italy</td>\n      <td>2020-02-05</td>\n      <td>2.0</td>\n      <td>0.0</td>\n      <td>0.286</td>\n      <td>NaN</td>\n      <td>NaN</td>\n      <td>0.0</td>\n      <td>...</td>\n      <td>35220.084</td>\n      <td>2.0</td>\n      <td>113.151</td>\n      <td>4.78</td>\n      <td>19.8</td>\n      <td>27.8</td>\n      <td>NaN</td>\n      <td>3.18</td>\n      <td>83.51</td>\n      <td>0.892</td>\n    </tr>\n    <tr>\n      <th>37802</th>\n      <td>ITA</td>\n      <td>Europe</td>\n      <td>Italy</td>\n      <td>2020-02-06</td>\n      <td>2.0</td>\n      <td>0.0</td>\n      <td>0.286</td>\n      <td>NaN</td>\n      <td>NaN</td>\n      <td>0.0</td>\n      <td>...</td>\n      <td>35220.084</td>\n      <td>2.0</td>\n      <td>113.151</td>\n      <td>4.78</td>\n      <td>19.8</td>\n      <td>27.8</td>\n      <td>NaN</td>\n      <td>3.18</td>\n      <td>83.51</td>\n      <td>0.892</td>\n    </tr>\n    <tr>\n      <th>37803</th>\n      <td>ITA</td>\n      <td>Europe</td>\n      <td>Italy</td>\n      <td>2020-02-07</td>\n      <td>3.0</td>\n      <td>1.0</td>\n      <td>0.143</td>\n      <td>NaN</td>\n      <td>NaN</td>\n      <td>0.0</td>\n      <td>...</td>\n      <td>35220.084</td>\n      <td>2.0</td>\n      <td>113.151</td>\n      <td>4.78</td>\n      <td>19.8</td>\n      <td>27.8</td>\n      <td>NaN</td>\n      <td>3.18</td>\n      <td>83.51</td>\n      <td>0.892</td>\n    </tr>\n    <tr>\n      <th>37804</th>\n      <td>ITA</td>\n      <td>Europe</td>\n      <td>Italy</td>\n      <td>2020-02-08</td>\n      <td>3.0</td>\n      <td>0.0</td>\n      <td>0.143</td>\n      <td>NaN</td>\n      <td>NaN</td>\n      <td>0.0</td>\n      <td>...</td>\n      <td>35220.084</td>\n      <td>2.0</td>\n      <td>113.151</td>\n      <td>4.78</td>\n      <td>19.8</td>\n      <td>27.8</td>\n      <td>NaN</td>\n      <td>3.18</td>\n      <td>83.51</td>\n      <td>0.892</td>\n    </tr>\n    <tr>\n      <th>37805</th>\n      <td>ITA</td>\n      <td>Europe</td>\n      <td>Italy</td>\n      <td>2020-02-09</td>\n      <td>3.0</td>\n      <td>0.0</td>\n      <td>0.143</td>\n      <td>NaN</td>\n      <td>NaN</td>\n      <td>0.0</td>\n      <td>...</td>\n      <td>35220.084</td>\n      <td>2.0</td>\n      <td>113.151</td>\n      <td>4.78</td>\n      <td>19.8</td>\n      <td>27.8</td>\n      <td>NaN</td>\n      <td>3.18</td>\n      <td>83.51</td>\n      <td>0.892</td>\n    </tr>\n  </tbody>\n</table>\n<p>10 rows × 59 columns</p>\n</div>"
     },
     "metadata": {},
     "execution_count": 78
    }
   ],
   "source": [
    "# Compare valence scores with covide infection rate\n",
    "\n",
    "covid2_df = pd.read_csv(\"Resources/owid_covid_data.csv\")                # read the covid data file\n",
    "\n",
    "country_covid2_df = covid_df.loc[covid_df['location'] == 'Italy']   # Filter for country of your choice\n",
    "\n",
    "country_covid2_df.head(10)\n",
    "\n",
    "\n",
    "\n",
    "\n",
    "\n",
    "\n"
   ]
  },
  {
   "cell_type": "code",
   "execution_count": 79,
   "metadata": {},
   "outputs": [
    {
     "output_type": "stream",
     "name": "stderr",
     "text": [
      "<ipython-input-79-fc18ec362bc0>:5: SettingWithCopyWarning: \nA value is trying to be set on a copy of a slice from a DataFrame.\nTry using .loc[row_indexer,col_indexer] = value instead\n\nSee the caveats in the documentation: https://pandas.pydata.org/pandas-docs/stable/user_guide/indexing.html#returning-a-view-versus-a-copy\n  country_covid__2020_df['Month'] = ''\n"
     ]
    },
    {
     "output_type": "execute_result",
     "data": {
      "text/plain": [
       "      iso_code continent location        date  total_cases  new_cases  \\\n",
       "37796      ITA    Europe    Italy  2020-01-31          2.0        2.0   \n",
       "37797      ITA    Europe    Italy  2020-02-01          2.0        0.0   \n",
       "37798      ITA    Europe    Italy  2020-02-02          2.0        0.0   \n",
       "37799      ITA    Europe    Italy  2020-02-03          2.0        0.0   \n",
       "37800      ITA    Europe    Italy  2020-02-04          2.0        0.0   \n",
       "\n",
       "       new_cases_smoothed  total_deaths  new_deaths  new_deaths_smoothed  ...  \\\n",
       "37796                 NaN           NaN         NaN                  NaN  ...   \n",
       "37797                 NaN           NaN         NaN                  NaN  ...   \n",
       "37798                 NaN           NaN         NaN                  NaN  ...   \n",
       "37799                 NaN           NaN         NaN                  NaN  ...   \n",
       "37800                 NaN           NaN         NaN                  NaN  ...   \n",
       "\n",
       "       extreme_poverty  cardiovasc_death_rate  diabetes_prevalence  \\\n",
       "37796              2.0                113.151                 4.78   \n",
       "37797              2.0                113.151                 4.78   \n",
       "37798              2.0                113.151                 4.78   \n",
       "37799              2.0                113.151                 4.78   \n",
       "37800              2.0                113.151                 4.78   \n",
       "\n",
       "       female_smokers  male_smokers  handwashing_facilities  \\\n",
       "37796            19.8          27.8                     NaN   \n",
       "37797            19.8          27.8                     NaN   \n",
       "37798            19.8          27.8                     NaN   \n",
       "37799            19.8          27.8                     NaN   \n",
       "37800            19.8          27.8                     NaN   \n",
       "\n",
       "       hospital_beds_per_thousand  life_expectancy  human_development_index  \\\n",
       "37796                        3.18            83.51                    0.892   \n",
       "37797                        3.18            83.51                    0.892   \n",
       "37798                        3.18            83.51                    0.892   \n",
       "37799                        3.18            83.51                    0.892   \n",
       "37800                        3.18            83.51                    0.892   \n",
       "\n",
       "       Month  \n",
       "37796         \n",
       "37797         \n",
       "37798         \n",
       "37799         \n",
       "37800         \n",
       "\n",
       "[5 rows x 60 columns]"
      ],
      "text/html": "<div>\n<style scoped>\n    .dataframe tbody tr th:only-of-type {\n        vertical-align: middle;\n    }\n\n    .dataframe tbody tr th {\n        vertical-align: top;\n    }\n\n    .dataframe thead th {\n        text-align: right;\n    }\n</style>\n<table border=\"1\" class=\"dataframe\">\n  <thead>\n    <tr style=\"text-align: right;\">\n      <th></th>\n      <th>iso_code</th>\n      <th>continent</th>\n      <th>location</th>\n      <th>date</th>\n      <th>total_cases</th>\n      <th>new_cases</th>\n      <th>new_cases_smoothed</th>\n      <th>total_deaths</th>\n      <th>new_deaths</th>\n      <th>new_deaths_smoothed</th>\n      <th>...</th>\n      <th>extreme_poverty</th>\n      <th>cardiovasc_death_rate</th>\n      <th>diabetes_prevalence</th>\n      <th>female_smokers</th>\n      <th>male_smokers</th>\n      <th>handwashing_facilities</th>\n      <th>hospital_beds_per_thousand</th>\n      <th>life_expectancy</th>\n      <th>human_development_index</th>\n      <th>Month</th>\n    </tr>\n  </thead>\n  <tbody>\n    <tr>\n      <th>37796</th>\n      <td>ITA</td>\n      <td>Europe</td>\n      <td>Italy</td>\n      <td>2020-01-31</td>\n      <td>2.0</td>\n      <td>2.0</td>\n      <td>NaN</td>\n      <td>NaN</td>\n      <td>NaN</td>\n      <td>NaN</td>\n      <td>...</td>\n      <td>2.0</td>\n      <td>113.151</td>\n      <td>4.78</td>\n      <td>19.8</td>\n      <td>27.8</td>\n      <td>NaN</td>\n      <td>3.18</td>\n      <td>83.51</td>\n      <td>0.892</td>\n      <td></td>\n    </tr>\n    <tr>\n      <th>37797</th>\n      <td>ITA</td>\n      <td>Europe</td>\n      <td>Italy</td>\n      <td>2020-02-01</td>\n      <td>2.0</td>\n      <td>0.0</td>\n      <td>NaN</td>\n      <td>NaN</td>\n      <td>NaN</td>\n      <td>NaN</td>\n      <td>...</td>\n      <td>2.0</td>\n      <td>113.151</td>\n      <td>4.78</td>\n      <td>19.8</td>\n      <td>27.8</td>\n      <td>NaN</td>\n      <td>3.18</td>\n      <td>83.51</td>\n      <td>0.892</td>\n      <td></td>\n    </tr>\n    <tr>\n      <th>37798</th>\n      <td>ITA</td>\n      <td>Europe</td>\n      <td>Italy</td>\n      <td>2020-02-02</td>\n      <td>2.0</td>\n      <td>0.0</td>\n      <td>NaN</td>\n      <td>NaN</td>\n      <td>NaN</td>\n      <td>NaN</td>\n      <td>...</td>\n      <td>2.0</td>\n      <td>113.151</td>\n      <td>4.78</td>\n      <td>19.8</td>\n      <td>27.8</td>\n      <td>NaN</td>\n      <td>3.18</td>\n      <td>83.51</td>\n      <td>0.892</td>\n      <td></td>\n    </tr>\n    <tr>\n      <th>37799</th>\n      <td>ITA</td>\n      <td>Europe</td>\n      <td>Italy</td>\n      <td>2020-02-03</td>\n      <td>2.0</td>\n      <td>0.0</td>\n      <td>NaN</td>\n      <td>NaN</td>\n      <td>NaN</td>\n      <td>NaN</td>\n      <td>...</td>\n      <td>2.0</td>\n      <td>113.151</td>\n      <td>4.78</td>\n      <td>19.8</td>\n      <td>27.8</td>\n      <td>NaN</td>\n      <td>3.18</td>\n      <td>83.51</td>\n      <td>0.892</td>\n      <td></td>\n    </tr>\n    <tr>\n      <th>37800</th>\n      <td>ITA</td>\n      <td>Europe</td>\n      <td>Italy</td>\n      <td>2020-02-04</td>\n      <td>2.0</td>\n      <td>0.0</td>\n      <td>NaN</td>\n      <td>NaN</td>\n      <td>NaN</td>\n      <td>NaN</td>\n      <td>...</td>\n      <td>2.0</td>\n      <td>113.151</td>\n      <td>4.78</td>\n      <td>19.8</td>\n      <td>27.8</td>\n      <td>NaN</td>\n      <td>3.18</td>\n      <td>83.51</td>\n      <td>0.892</td>\n      <td></td>\n    </tr>\n  </tbody>\n</table>\n<p>5 rows × 60 columns</p>\n</div>"
     },
     "metadata": {},
     "execution_count": 79
    }
   ],
   "source": [
    "# Filter data for 2020, and add a 'month' column\n",
    "\n",
    "country_covid__2020_df = country_covid2_df[country_covid2_df.date.str.contains(r'2020.*')]\n",
    "\n",
    "country_covid__2020_df['Month'] = ''\n",
    "country_covid__2020_df.head()"
   ]
  },
  {
   "cell_type": "code",
   "execution_count": 80,
   "metadata": {},
   "outputs": [
    {
     "output_type": "execute_result",
     "data": {
      "text/plain": [
       "      iso_code continent location        date  total_cases  new_cases  \\\n",
       "37796      ITA    Europe    Italy  2020-01-31          2.0        2.0   \n",
       "37797      ITA    Europe    Italy  2020-02-01          2.0        0.0   \n",
       "37798      ITA    Europe    Italy  2020-02-02          2.0        0.0   \n",
       "37799      ITA    Europe    Italy  2020-02-03          2.0        0.0   \n",
       "37800      ITA    Europe    Italy  2020-02-04          2.0        0.0   \n",
       "\n",
       "       new_cases_smoothed  total_deaths  new_deaths  new_deaths_smoothed  ...  \\\n",
       "37796                 NaN           NaN         NaN                  NaN  ...   \n",
       "37797                 NaN           NaN         NaN                  NaN  ...   \n",
       "37798                 NaN           NaN         NaN                  NaN  ...   \n",
       "37799                 NaN           NaN         NaN                  NaN  ...   \n",
       "37800                 NaN           NaN         NaN                  NaN  ...   \n",
       "\n",
       "       extreme_poverty  cardiovasc_death_rate  diabetes_prevalence  \\\n",
       "37796              2.0                113.151                 4.78   \n",
       "37797              2.0                113.151                 4.78   \n",
       "37798              2.0                113.151                 4.78   \n",
       "37799              2.0                113.151                 4.78   \n",
       "37800              2.0                113.151                 4.78   \n",
       "\n",
       "       female_smokers  male_smokers  handwashing_facilities  \\\n",
       "37796            19.8          27.8                     NaN   \n",
       "37797            19.8          27.8                     NaN   \n",
       "37798            19.8          27.8                     NaN   \n",
       "37799            19.8          27.8                     NaN   \n",
       "37800            19.8          27.8                     NaN   \n",
       "\n",
       "       hospital_beds_per_thousand  life_expectancy  human_development_index  \\\n",
       "37796                        3.18            83.51                    0.892   \n",
       "37797                        3.18            83.51                    0.892   \n",
       "37798                        3.18            83.51                    0.892   \n",
       "37799                        3.18            83.51                    0.892   \n",
       "37800                        3.18            83.51                    0.892   \n",
       "\n",
       "       Month  \n",
       "37796      1  \n",
       "37797      2  \n",
       "37798      2  \n",
       "37799      2  \n",
       "37800      2  \n",
       "\n",
       "[5 rows x 60 columns]"
      ],
      "text/html": "<div>\n<style scoped>\n    .dataframe tbody tr th:only-of-type {\n        vertical-align: middle;\n    }\n\n    .dataframe tbody tr th {\n        vertical-align: top;\n    }\n\n    .dataframe thead th {\n        text-align: right;\n    }\n</style>\n<table border=\"1\" class=\"dataframe\">\n  <thead>\n    <tr style=\"text-align: right;\">\n      <th></th>\n      <th>iso_code</th>\n      <th>continent</th>\n      <th>location</th>\n      <th>date</th>\n      <th>total_cases</th>\n      <th>new_cases</th>\n      <th>new_cases_smoothed</th>\n      <th>total_deaths</th>\n      <th>new_deaths</th>\n      <th>new_deaths_smoothed</th>\n      <th>...</th>\n      <th>extreme_poverty</th>\n      <th>cardiovasc_death_rate</th>\n      <th>diabetes_prevalence</th>\n      <th>female_smokers</th>\n      <th>male_smokers</th>\n      <th>handwashing_facilities</th>\n      <th>hospital_beds_per_thousand</th>\n      <th>life_expectancy</th>\n      <th>human_development_index</th>\n      <th>Month</th>\n    </tr>\n  </thead>\n  <tbody>\n    <tr>\n      <th>37796</th>\n      <td>ITA</td>\n      <td>Europe</td>\n      <td>Italy</td>\n      <td>2020-01-31</td>\n      <td>2.0</td>\n      <td>2.0</td>\n      <td>NaN</td>\n      <td>NaN</td>\n      <td>NaN</td>\n      <td>NaN</td>\n      <td>...</td>\n      <td>2.0</td>\n      <td>113.151</td>\n      <td>4.78</td>\n      <td>19.8</td>\n      <td>27.8</td>\n      <td>NaN</td>\n      <td>3.18</td>\n      <td>83.51</td>\n      <td>0.892</td>\n      <td>1</td>\n    </tr>\n    <tr>\n      <th>37797</th>\n      <td>ITA</td>\n      <td>Europe</td>\n      <td>Italy</td>\n      <td>2020-02-01</td>\n      <td>2.0</td>\n      <td>0.0</td>\n      <td>NaN</td>\n      <td>NaN</td>\n      <td>NaN</td>\n      <td>NaN</td>\n      <td>...</td>\n      <td>2.0</td>\n      <td>113.151</td>\n      <td>4.78</td>\n      <td>19.8</td>\n      <td>27.8</td>\n      <td>NaN</td>\n      <td>3.18</td>\n      <td>83.51</td>\n      <td>0.892</td>\n      <td>2</td>\n    </tr>\n    <tr>\n      <th>37798</th>\n      <td>ITA</td>\n      <td>Europe</td>\n      <td>Italy</td>\n      <td>2020-02-02</td>\n      <td>2.0</td>\n      <td>0.0</td>\n      <td>NaN</td>\n      <td>NaN</td>\n      <td>NaN</td>\n      <td>NaN</td>\n      <td>...</td>\n      <td>2.0</td>\n      <td>113.151</td>\n      <td>4.78</td>\n      <td>19.8</td>\n      <td>27.8</td>\n      <td>NaN</td>\n      <td>3.18</td>\n      <td>83.51</td>\n      <td>0.892</td>\n      <td>2</td>\n    </tr>\n    <tr>\n      <th>37799</th>\n      <td>ITA</td>\n      <td>Europe</td>\n      <td>Italy</td>\n      <td>2020-02-03</td>\n      <td>2.0</td>\n      <td>0.0</td>\n      <td>NaN</td>\n      <td>NaN</td>\n      <td>NaN</td>\n      <td>NaN</td>\n      <td>...</td>\n      <td>2.0</td>\n      <td>113.151</td>\n      <td>4.78</td>\n      <td>19.8</td>\n      <td>27.8</td>\n      <td>NaN</td>\n      <td>3.18</td>\n      <td>83.51</td>\n      <td>0.892</td>\n      <td>2</td>\n    </tr>\n    <tr>\n      <th>37800</th>\n      <td>ITA</td>\n      <td>Europe</td>\n      <td>Italy</td>\n      <td>2020-02-04</td>\n      <td>2.0</td>\n      <td>0.0</td>\n      <td>NaN</td>\n      <td>NaN</td>\n      <td>NaN</td>\n      <td>NaN</td>\n      <td>...</td>\n      <td>2.0</td>\n      <td>113.151</td>\n      <td>4.78</td>\n      <td>19.8</td>\n      <td>27.8</td>\n      <td>NaN</td>\n      <td>3.18</td>\n      <td>83.51</td>\n      <td>0.892</td>\n      <td>2</td>\n    </tr>\n  </tbody>\n</table>\n<p>5 rows × 60 columns</p>\n</div>"
     },
     "metadata": {},
     "execution_count": 80
    }
   ],
   "source": [
    "# Extract the month from the 'date' column and add it to the new 'month' column, for sorting later\n",
    "\n",
    "for index, row in country_covid__2020_df.iterrows():\n",
    "    month, = re.findall(f\"2020-(\\d\\d)-\", row['date'])\n",
    "    country_covid__2020_df.at[index, 'Month'] = int(month)  \n",
    "\n",
    "country_covid__2020_df.head()"
   ]
  },
  {
   "cell_type": "code",
   "execution_count": 81,
   "metadata": {},
   "outputs": [
    {
     "output_type": "execute_result",
     "data": {
      "text/plain": [
       "    Month  new_cases\n",
       "0       1        2.0\n",
       "1       2     1126.0\n",
       "2       3   104664.0\n",
       "3       4    99671.0\n",
       "4       5    27534.0\n",
       "5       6     7581.0\n",
       "6       7     6959.0\n",
       "7       8    21677.0\n",
       "8       9    45647.0\n",
       "9      10   364569.0\n",
       "10     11   922124.0\n",
       "11     12   505612.0"
      ],
      "text/html": "<div>\n<style scoped>\n    .dataframe tbody tr th:only-of-type {\n        vertical-align: middle;\n    }\n\n    .dataframe tbody tr th {\n        vertical-align: top;\n    }\n\n    .dataframe thead th {\n        text-align: right;\n    }\n</style>\n<table border=\"1\" class=\"dataframe\">\n  <thead>\n    <tr style=\"text-align: right;\">\n      <th></th>\n      <th>Month</th>\n      <th>new_cases</th>\n    </tr>\n  </thead>\n  <tbody>\n    <tr>\n      <th>0</th>\n      <td>1</td>\n      <td>2.0</td>\n    </tr>\n    <tr>\n      <th>1</th>\n      <td>2</td>\n      <td>1126.0</td>\n    </tr>\n    <tr>\n      <th>2</th>\n      <td>3</td>\n      <td>104664.0</td>\n    </tr>\n    <tr>\n      <th>3</th>\n      <td>4</td>\n      <td>99671.0</td>\n    </tr>\n    <tr>\n      <th>4</th>\n      <td>5</td>\n      <td>27534.0</td>\n    </tr>\n    <tr>\n      <th>5</th>\n      <td>6</td>\n      <td>7581.0</td>\n    </tr>\n    <tr>\n      <th>6</th>\n      <td>7</td>\n      <td>6959.0</td>\n    </tr>\n    <tr>\n      <th>7</th>\n      <td>8</td>\n      <td>21677.0</td>\n    </tr>\n    <tr>\n      <th>8</th>\n      <td>9</td>\n      <td>45647.0</td>\n    </tr>\n    <tr>\n      <th>9</th>\n      <td>10</td>\n      <td>364569.0</td>\n    </tr>\n    <tr>\n      <th>10</th>\n      <td>11</td>\n      <td>922124.0</td>\n    </tr>\n    <tr>\n      <th>11</th>\n      <td>12</td>\n      <td>505612.0</td>\n    </tr>\n  </tbody>\n</table>\n</div>"
     },
     "metadata": {},
     "execution_count": 81
    }
   ],
   "source": [
    "# Create a groupby to get the sum of new cases in each month\n",
    "\n",
    "country_covid__2020_groupby = country_covid__2020_df.groupby(['Month'], as_index=False)['new_cases'].sum()\n",
    "country_covid__2020_groupby"
   ]
  },
  {
   "cell_type": "code",
   "execution_count": 83,
   "metadata": {},
   "outputs": [
    {
     "output_type": "execute_result",
     "data": {
      "text/plain": [
       "    Month  New Cases\n",
       "1       1        0.0\n",
       "2       1        2.0\n",
       "3       2     1126.0\n",
       "4       3   104664.0\n",
       "5       4    99671.0\n",
       "6       5    27534.0\n",
       "7       6     7581.0\n",
       "8       7     6959.0\n",
       "9       8    21677.0\n",
       "10      9    45647.0\n",
       "11     10   364569.0\n",
       "12     11   922124.0\n",
       "13     12   505612.0"
      ],
      "text/html": "<div>\n<style scoped>\n    .dataframe tbody tr th:only-of-type {\n        vertical-align: middle;\n    }\n\n    .dataframe tbody tr th {\n        vertical-align: top;\n    }\n\n    .dataframe thead th {\n        text-align: right;\n    }\n</style>\n<table border=\"1\" class=\"dataframe\">\n  <thead>\n    <tr style=\"text-align: right;\">\n      <th></th>\n      <th>Month</th>\n      <th>New Cases</th>\n    </tr>\n  </thead>\n  <tbody>\n    <tr>\n      <th>1</th>\n      <td>1</td>\n      <td>0.0</td>\n    </tr>\n    <tr>\n      <th>2</th>\n      <td>1</td>\n      <td>2.0</td>\n    </tr>\n    <tr>\n      <th>3</th>\n      <td>2</td>\n      <td>1126.0</td>\n    </tr>\n    <tr>\n      <th>4</th>\n      <td>3</td>\n      <td>104664.0</td>\n    </tr>\n    <tr>\n      <th>5</th>\n      <td>4</td>\n      <td>99671.0</td>\n    </tr>\n    <tr>\n      <th>6</th>\n      <td>5</td>\n      <td>27534.0</td>\n    </tr>\n    <tr>\n      <th>7</th>\n      <td>6</td>\n      <td>7581.0</td>\n    </tr>\n    <tr>\n      <th>8</th>\n      <td>7</td>\n      <td>6959.0</td>\n    </tr>\n    <tr>\n      <th>9</th>\n      <td>8</td>\n      <td>21677.0</td>\n    </tr>\n    <tr>\n      <th>10</th>\n      <td>9</td>\n      <td>45647.0</td>\n    </tr>\n    <tr>\n      <th>11</th>\n      <td>10</td>\n      <td>364569.0</td>\n    </tr>\n    <tr>\n      <th>12</th>\n      <td>11</td>\n      <td>922124.0</td>\n    </tr>\n    <tr>\n      <th>13</th>\n      <td>12</td>\n      <td>505612.0</td>\n    </tr>\n  </tbody>\n</table>\n</div>"
     },
     "metadata": {},
     "execution_count": 83
    }
   ],
   "source": [
    "# TIP: This next section is to add missing months. In the case of New Zealand, there was no data for January\n",
    "# For other countries, it might vary. Here's how I added January to the dataframe:\n",
    "\n",
    "#country_covid__2020_groupby.loc[-1] = [1, 0]             # This adds a 1 (month of January) in the first columne \n",
    "                                                         # index 0), in the last row of the dataframe. \n",
    "\n",
    "country_covid__2020_groupby.index = country_covid__2020_groupby.index + 1   # shifts the index\n",
    "country_covid__2020_groupby = country_covid__2020_groupby.sort_index()      # sorts by index\n",
    "\n",
    "country_covid__2020_groupby = country_covid__2020_groupby.rename(columns={\"new_cases\": \"New Cases\"})\n",
    "\n",
    "country_covid__2020_groupby"
   ]
  },
  {
   "cell_type": "code",
   "execution_count": null,
   "metadata": {},
   "outputs": [],
   "source": []
  }
 ]
}