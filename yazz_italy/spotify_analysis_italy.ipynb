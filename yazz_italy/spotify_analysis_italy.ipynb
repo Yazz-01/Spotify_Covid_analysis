{
 "cells": [
  {
   "cell_type": "markdown",
   "metadata": {},
   "source": [
    "## Spotify analysis on Italy"
   ]
  },
  {
   "cell_type": "code",
   "execution_count": 2,
   "metadata": {},
   "outputs": [],
   "source": [
    "# Dependencies\n",
    "import matplotlib.pyplot as plt\n",
    "import pandas as pd\n",
    "import numpy as np\n",
    "import requests\n",
    "import json\n",
    "import re, glob\n",
    "import os, sys\n",
    "from scipy import stats\n",
    "\n",
    "import spotipy      \n",
    "from spotipy.oauth2 import SpotifyClientCredentials\n",
    "\n",
    "# Import Keys from the Dashboard client\n",
    "from config import ckey, skey\n"
   ]
  },
  {
   "cell_type": "code",
   "execution_count": 3,
   "metadata": {},
   "outputs": [],
   "source": [
    "# Setting up Spotify API info\n",
    "cid = ckey\n",
    "secret = skey\n",
    "\n",
    "client_credentials_manager = SpotifyClientCredentials(client_id=cid, client_secret=secret)\n",
    "sp = spotipy.Spotify(client_credentials_manager=client_credentials_manager)"
   ]
  },
  {
   "cell_type": "markdown",
   "metadata": {},
   "source": [
    "## Instructions\n",
    "* TIP: This next section assumes that you have already downloaded the csv files with the Top200 charts for the country you are working on:\n",
    "\n",
    "* Create a subfolder in the folder this notebook is located in called \"input_files\". Add the owid-covid-data.csv file there, you'll need that later. Then make another subfolder inside input_files called \"spotify_top200_charts\". Save the csv files you download there.\n",
    "* Go to https://spotifycharts.com\n",
    "* Choose the country you want to work on.\n",
    "* Download Weekly Top200 charts for 2019 and 2020, 1 chart per month. We agreed as a group to download the chart from last week of each month, to keep things consistent. Save them in the \"spotify_top200_charts\" folder you set up."
   ]
  },
  {
   "cell_type": "code",
   "execution_count": 17,
   "metadata": {},
   "outputs": [
    {
     "output_type": "execute_result",
     "data": {
      "text/plain": [
       "     Position                             Track Name         Artist  Streams  \\\n",
       "0           1  IL CIELO NELLA STANZA (feat. NSTASIA)          Salmo  2885889   \n",
       "1           2                         Happy Birthday  Sfera Ebbasta  2182720   \n",
       "2           3                           Torna a casa       Måneskin  1857579   \n",
       "3           4                      La fine del mondo      Anastasio  1836968   \n",
       "4           5        All I Want for Christmas Is You   Mariah Carey  1599867   \n",
       "..        ...                                    ...            ...      ...   \n",
       "195       196                         È sempre bello           Coez   215634   \n",
       "196       197             BABY (feat. Rosa Chemical)   BLOODY VINYL   215551   \n",
       "197       198                               Lacri-ma       Gazzelle   215159   \n",
       "198       199                 Cyborg (feat. Geolier)    Guè Pequeno   214811   \n",
       "199       200   Hello (feat. A Boogie Wit da Hoodie)      Pop Smoke   214800   \n",
       "\n",
       "                                                   URL  Year Month  \n",
       "0    https://open.spotify.com/track/2fkVZYFv9hOejIs...  2018    12  \n",
       "1    https://open.spotify.com/track/7Cw97917dvg5xm6...  2018    12  \n",
       "2    https://open.spotify.com/track/3590AAEoqH50z4U...  2018    12  \n",
       "3    https://open.spotify.com/track/3FhWEh7VTAOYK4e...  2018    12  \n",
       "4    https://open.spotify.com/track/0bYg9bo50gSsH3L...  2018    12  \n",
       "..                                                 ...   ...   ...  \n",
       "195  https://open.spotify.com/track/6IdiuMw1FSAvU3e...  2021    01  \n",
       "196  https://open.spotify.com/track/3jtMheZu2P0tbWz...  2021    01  \n",
       "197  https://open.spotify.com/track/0N6QZADGv1zv3Jb...  2021    01  \n",
       "198  https://open.spotify.com/track/54wRUYPMEHLttFd...  2021    01  \n",
       "199  https://open.spotify.com/track/2r6OAV3WsYtXuXj...  2021    01  \n",
       "\n",
       "[4000 rows x 7 columns]"
      ],
      "text/html": "<div>\n<style scoped>\n    .dataframe tbody tr th:only-of-type {\n        vertical-align: middle;\n    }\n\n    .dataframe tbody tr th {\n        vertical-align: top;\n    }\n\n    .dataframe thead th {\n        text-align: right;\n    }\n</style>\n<table border=\"1\" class=\"dataframe\">\n  <thead>\n    <tr style=\"text-align: right;\">\n      <th></th>\n      <th>Position</th>\n      <th>Track Name</th>\n      <th>Artist</th>\n      <th>Streams</th>\n      <th>URL</th>\n      <th>Year</th>\n      <th>Month</th>\n    </tr>\n  </thead>\n  <tbody>\n    <tr>\n      <th>0</th>\n      <td>1</td>\n      <td>IL CIELO NELLA STANZA (feat. NSTASIA)</td>\n      <td>Salmo</td>\n      <td>2885889</td>\n      <td>https://open.spotify.com/track/2fkVZYFv9hOejIs...</td>\n      <td>2018</td>\n      <td>12</td>\n    </tr>\n    <tr>\n      <th>1</th>\n      <td>2</td>\n      <td>Happy Birthday</td>\n      <td>Sfera Ebbasta</td>\n      <td>2182720</td>\n      <td>https://open.spotify.com/track/7Cw97917dvg5xm6...</td>\n      <td>2018</td>\n      <td>12</td>\n    </tr>\n    <tr>\n      <th>2</th>\n      <td>3</td>\n      <td>Torna a casa</td>\n      <td>Måneskin</td>\n      <td>1857579</td>\n      <td>https://open.spotify.com/track/3590AAEoqH50z4U...</td>\n      <td>2018</td>\n      <td>12</td>\n    </tr>\n    <tr>\n      <th>3</th>\n      <td>4</td>\n      <td>La fine del mondo</td>\n      <td>Anastasio</td>\n      <td>1836968</td>\n      <td>https://open.spotify.com/track/3FhWEh7VTAOYK4e...</td>\n      <td>2018</td>\n      <td>12</td>\n    </tr>\n    <tr>\n      <th>4</th>\n      <td>5</td>\n      <td>All I Want for Christmas Is You</td>\n      <td>Mariah Carey</td>\n      <td>1599867</td>\n      <td>https://open.spotify.com/track/0bYg9bo50gSsH3L...</td>\n      <td>2018</td>\n      <td>12</td>\n    </tr>\n    <tr>\n      <th>...</th>\n      <td>...</td>\n      <td>...</td>\n      <td>...</td>\n      <td>...</td>\n      <td>...</td>\n      <td>...</td>\n      <td>...</td>\n    </tr>\n    <tr>\n      <th>195</th>\n      <td>196</td>\n      <td>È sempre bello</td>\n      <td>Coez</td>\n      <td>215634</td>\n      <td>https://open.spotify.com/track/6IdiuMw1FSAvU3e...</td>\n      <td>2021</td>\n      <td>01</td>\n    </tr>\n    <tr>\n      <th>196</th>\n      <td>197</td>\n      <td>BABY (feat. Rosa Chemical)</td>\n      <td>BLOODY VINYL</td>\n      <td>215551</td>\n      <td>https://open.spotify.com/track/3jtMheZu2P0tbWz...</td>\n      <td>2021</td>\n      <td>01</td>\n    </tr>\n    <tr>\n      <th>197</th>\n      <td>198</td>\n      <td>Lacri-ma</td>\n      <td>Gazzelle</td>\n      <td>215159</td>\n      <td>https://open.spotify.com/track/0N6QZADGv1zv3Jb...</td>\n      <td>2021</td>\n      <td>01</td>\n    </tr>\n    <tr>\n      <th>198</th>\n      <td>199</td>\n      <td>Cyborg (feat. Geolier)</td>\n      <td>Guè Pequeno</td>\n      <td>214811</td>\n      <td>https://open.spotify.com/track/54wRUYPMEHLttFd...</td>\n      <td>2021</td>\n      <td>01</td>\n    </tr>\n    <tr>\n      <th>199</th>\n      <td>200</td>\n      <td>Hello (feat. A Boogie Wit da Hoodie)</td>\n      <td>Pop Smoke</td>\n      <td>214800</td>\n      <td>https://open.spotify.com/track/2r6OAV3WsYtXuXj...</td>\n      <td>2021</td>\n      <td>01</td>\n    </tr>\n  </tbody>\n</table>\n<p>4000 rows × 7 columns</p>\n</div>"
     },
     "metadata": {},
     "execution_count": 17
    }
   ],
   "source": [
    "# Create a Dataframe from weekly chart data\n",
    "\n",
    "path= r\"input_files/spotify_top200_charts/*.csv\"\n",
    "\n",
    "# Set up main dataframe with data from FIRST file in each folder\n",
    "country_tracks_df = pd.read_csv(glob.glob(path)[0], header=1) \n",
    "\n",
    "# This line extracts the year and month from the file name, \n",
    "# and sets up new columns called 'Year' and 'Moth' with that info\n",
    "string = str(glob.glob(path)[0])\n",
    "year_month =  re.findall(r\"ly-(\\d\\d\\d\\d)-(\\d\\d)-\\d\\d\", string)                                         \n",
    "country_tracks_df[['Year']] = year_month[0][0]\n",
    "country_tracks_df[['Month']] = year_month[0][1]\n",
    "\n",
    "for file in glob.glob(path)[1:]:\n",
    "        temp_df = pd.read_csv(file, header=1)\n",
    "        string = str(file) \n",
    "        year_month = re.findall(r\"ly-(\\d\\d\\d\\d)-(\\d\\d)-\\d\\d\", string)\n",
    "        \n",
    "        # Print (year_month)\n",
    "        temp_df[['Year']] = year_month[0][0]\n",
    "        temp_df[['Month']] = year_month[0][1]\n",
    "        country_tracks_df = pd.concat([country_tracks_df,temp_df])\n",
    "             \n",
    "country_tracks_df = country_tracks_df.sort_values(['Year','Month'])                                  \n",
    "country_tracks_df       \n"
   ]
  },
  {
   "cell_type": "code",
   "execution_count": 16,
   "metadata": {},
   "outputs": [
    {
     "output_type": "execute_result",
     "data": {
      "text/plain": [
       "'2019'"
      ]
     },
     "metadata": {},
     "execution_count": 16
    }
   ],
   "source": []
  },
  {
   "cell_type": "code",
   "execution_count": 11,
   "metadata": {},
   "outputs": [
    {
     "output_type": "execute_result",
     "data": {
      "text/plain": [
       "     Position                                Track Name            Artist  \\\n",
       "0           1                            È sempre bello              Coez   \n",
       "1           2     IL CIELO NELLA STANZA (feat. NSTASIA)             Salmo   \n",
       "2           3                             Calma - Remix        Pedro Capó   \n",
       "3           4                            Happy Birthday     Sfera Ebbasta   \n",
       "4           5  Holding out for You (feat. Zara Larsson)             Fedez   \n",
       "..        ...                                       ...               ...   \n",
       "195       196                                 Imposible        Luis Fonsi   \n",
       "196       197                        Sister (Pastiglie)  Chadia Rodriguez   \n",
       "197       198                                God's Plan             Drake   \n",
       "198       199                       Centro (feat. Coez)            MadMan   \n",
       "199       200                Old School Romance - Remix          Celestal   \n",
       "\n",
       "     Streams                                                URL  \n",
       "0    3438470  https://open.spotify.com/track/18LXrvm337xqvFx...  \n",
       "1    2571770  https://open.spotify.com/track/2fkVZYFv9hOejIs...  \n",
       "2    2051691  https://open.spotify.com/track/5iwz1NiezX7WWjn...  \n",
       "3    1680645  https://open.spotify.com/track/7Cw97917dvg5xm6...  \n",
       "4    1584324  https://open.spotify.com/track/4EZhkTdGDdlLoHI...  \n",
       "..       ...                                                ...  \n",
       "195   235055  https://open.spotify.com/track/3ao3OVxHlb3C08v...  \n",
       "196   234699  https://open.spotify.com/track/3PJFpY6SkQ0juJA...  \n",
       "197   233303  https://open.spotify.com/track/6DCZcSspjsKoFjz...  \n",
       "198   233119  https://open.spotify.com/track/6DGl9TtxYTpMFrm...  \n",
       "199   231392  https://open.spotify.com/track/2Yp1enGScwPryhT...  \n",
       "\n",
       "[200 rows x 5 columns]"
      ],
      "text/html": "<div>\n<style scoped>\n    .dataframe tbody tr th:only-of-type {\n        vertical-align: middle;\n    }\n\n    .dataframe tbody tr th {\n        vertical-align: top;\n    }\n\n    .dataframe thead th {\n        text-align: right;\n    }\n</style>\n<table border=\"1\" class=\"dataframe\">\n  <thead>\n    <tr style=\"text-align: right;\">\n      <th></th>\n      <th>Position</th>\n      <th>Track Name</th>\n      <th>Artist</th>\n      <th>Streams</th>\n      <th>URL</th>\n    </tr>\n  </thead>\n  <tbody>\n    <tr>\n      <th>0</th>\n      <td>1</td>\n      <td>È sempre bello</td>\n      <td>Coez</td>\n      <td>3438470</td>\n      <td>https://open.spotify.com/track/18LXrvm337xqvFx...</td>\n    </tr>\n    <tr>\n      <th>1</th>\n      <td>2</td>\n      <td>IL CIELO NELLA STANZA (feat. NSTASIA)</td>\n      <td>Salmo</td>\n      <td>2571770</td>\n      <td>https://open.spotify.com/track/2fkVZYFv9hOejIs...</td>\n    </tr>\n    <tr>\n      <th>2</th>\n      <td>3</td>\n      <td>Calma - Remix</td>\n      <td>Pedro Capó</td>\n      <td>2051691</td>\n      <td>https://open.spotify.com/track/5iwz1NiezX7WWjn...</td>\n    </tr>\n    <tr>\n      <th>3</th>\n      <td>4</td>\n      <td>Happy Birthday</td>\n      <td>Sfera Ebbasta</td>\n      <td>1680645</td>\n      <td>https://open.spotify.com/track/7Cw97917dvg5xm6...</td>\n    </tr>\n    <tr>\n      <th>4</th>\n      <td>5</td>\n      <td>Holding out for You (feat. Zara Larsson)</td>\n      <td>Fedez</td>\n      <td>1584324</td>\n      <td>https://open.spotify.com/track/4EZhkTdGDdlLoHI...</td>\n    </tr>\n    <tr>\n      <th>...</th>\n      <td>...</td>\n      <td>...</td>\n      <td>...</td>\n      <td>...</td>\n      <td>...</td>\n    </tr>\n    <tr>\n      <th>195</th>\n      <td>196</td>\n      <td>Imposible</td>\n      <td>Luis Fonsi</td>\n      <td>235055</td>\n      <td>https://open.spotify.com/track/3ao3OVxHlb3C08v...</td>\n    </tr>\n    <tr>\n      <th>196</th>\n      <td>197</td>\n      <td>Sister (Pastiglie)</td>\n      <td>Chadia Rodriguez</td>\n      <td>234699</td>\n      <td>https://open.spotify.com/track/3PJFpY6SkQ0juJA...</td>\n    </tr>\n    <tr>\n      <th>197</th>\n      <td>198</td>\n      <td>God's Plan</td>\n      <td>Drake</td>\n      <td>233303</td>\n      <td>https://open.spotify.com/track/6DCZcSspjsKoFjz...</td>\n    </tr>\n    <tr>\n      <th>198</th>\n      <td>199</td>\n      <td>Centro (feat. Coez)</td>\n      <td>MadMan</td>\n      <td>233119</td>\n      <td>https://open.spotify.com/track/6DGl9TtxYTpMFrm...</td>\n    </tr>\n    <tr>\n      <th>199</th>\n      <td>200</td>\n      <td>Old School Romance - Remix</td>\n      <td>Celestal</td>\n      <td>231392</td>\n      <td>https://open.spotify.com/track/2Yp1enGScwPryhT...</td>\n    </tr>\n  </tbody>\n</table>\n<p>200 rows × 5 columns</p>\n</div>"
     },
     "metadata": {},
     "execution_count": 11
    }
   ],
   "source": []
  },
  {
   "cell_type": "code",
   "execution_count": 12,
   "metadata": {},
   "outputs": [
    {
     "output_type": "stream",
     "name": "stdout",
     "text": [
      "input_files/spotify_top200_charts/regional-it-weekly-2019-01-11--2019-01-18.csv\n"
     ]
    }
   ],
   "source": [
    "print(glob.glob(path)[0])\n"
   ]
  },
  {
   "cell_type": "code",
   "execution_count": null,
   "metadata": {},
   "outputs": [],
   "source": []
  }
 ],
 "metadata": {
  "kernelspec": {
   "display_name": "Python 3",
   "language": "python",
   "name": "python3"
  },
  "language_info": {
   "codemirror_mode": {
    "name": "ipython",
    "version": 3
   },
   "file_extension": ".py",
   "mimetype": "text/x-python",
   "name": "python",
   "nbconvert_exporter": "python",
   "pygments_lexer": "ipython3",
   "version": "3.8.5"
  }
 },
 "nbformat": 4,
 "nbformat_minor": 2
}